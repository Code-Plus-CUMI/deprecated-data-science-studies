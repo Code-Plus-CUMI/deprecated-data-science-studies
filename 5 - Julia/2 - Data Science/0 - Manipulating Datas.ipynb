{
 "cells": [
  {
   "cell_type": "markdown",
   "id": "217cc82d",
   "metadata": {},
   "source": [
    "<h1 align=\"center\">---- Data Science ----</h1>"
   ]
  },
  {
   "cell_type": "markdown",
   "id": "50ef174c",
   "metadata": {},
   "source": [
    "----\n",
    "\n",
    "<b>0) Packages</b>"
   ]
  },
  {
   "cell_type": "code",
   "execution_count": 1,
   "id": "7ee306a2",
   "metadata": {},
   "outputs": [
    {
     "name": "stderr",
     "output_type": "stream",
     "text": [
      "\u001b[32m\u001b[1m    Updating\u001b[22m\u001b[39m registry at `C:\\Users\\gabri\\.julia\\registries\\General.toml`\n",
      "\u001b[32m\u001b[1m   Resolving\u001b[22m\u001b[39m package versions...\n",
      "\u001b[32m\u001b[1m   Installed\u001b[22m\u001b[39m BenchmarkTools ─ v1.3.2\n",
      "\u001b[32m\u001b[1m    Updating\u001b[22m\u001b[39m `C:\\Users\\gabri\\.julia\\environments\\v1.8\\Project.toml`\n",
      " \u001b[90m [6e4b80f9] \u001b[39m\u001b[92m+ BenchmarkTools v1.3.2\u001b[39m\n",
      "\u001b[32m\u001b[1m    Updating\u001b[22m\u001b[39m `C:\\Users\\gabri\\.julia\\environments\\v1.8\\Manifest.toml`\n",
      " \u001b[90m [6e4b80f9] \u001b[39m\u001b[92m+ BenchmarkTools v1.3.2\u001b[39m\n",
      " \u001b[90m [9abbd945] \u001b[39m\u001b[92m+ Profile\u001b[39m\n",
      "\u001b[32m\u001b[1mPrecompiling\u001b[22m\u001b[39m project...\n",
      "\u001b[32m  ✓ \u001b[39mBenchmarkTools\n",
      "  1 dependency successfully precompiled in 6 seconds. 203 already precompiled. 2 skipped during auto due to previous errors.\n",
      "\u001b[32m\u001b[1m   Resolving\u001b[22m\u001b[39m package versions...\n",
      "\u001b[32m\u001b[1m  No Changes\u001b[22m\u001b[39m to `C:\\Users\\gabri\\.julia\\environments\\v1.8\\Project.toml`\n",
      "\u001b[32m\u001b[1m  No Changes\u001b[22m\u001b[39m to `C:\\Users\\gabri\\.julia\\environments\\v1.8\\Manifest.toml`\n",
      "\u001b[32m\u001b[1m   Resolving\u001b[22m\u001b[39m package versions...\n",
      "\u001b[32m\u001b[1m    Updating\u001b[22m\u001b[39m `C:\\Users\\gabri\\.julia\\environments\\v1.8\\Project.toml`\n",
      " \u001b[90m [8bb1440f] \u001b[39m\u001b[92m+ DelimitedFiles\u001b[39m\n",
      "\u001b[32m\u001b[1m  No Changes\u001b[22m\u001b[39m to `C:\\Users\\gabri\\.julia\\environments\\v1.8\\Manifest.toml`\n",
      "\u001b[32m\u001b[1m   Resolving\u001b[22m\u001b[39m package versions...\n",
      "\u001b[32m\u001b[1m  No Changes\u001b[22m\u001b[39m to `C:\\Users\\gabri\\.julia\\environments\\v1.8\\Project.toml`\n",
      "\u001b[32m\u001b[1m  No Changes\u001b[22m\u001b[39m to `C:\\Users\\gabri\\.julia\\environments\\v1.8\\Manifest.toml`\n",
      "\u001b[32m\u001b[1m   Resolving\u001b[22m\u001b[39m package versions...\n",
      "\u001b[32m\u001b[1m   Installed\u001b[22m\u001b[39m EzXML ─── v1.1.0\n",
      "\u001b[32m\u001b[1m   Installed\u001b[22m\u001b[39m ZipFile ─ v0.10.1\n",
      "\u001b[32m\u001b[1m   Installed\u001b[22m\u001b[39m XLSX ──── v0.8.4\n",
      "\u001b[32m\u001b[1m    Updating\u001b[22m\u001b[39m `C:\\Users\\gabri\\.julia\\environments\\v1.8\\Project.toml`\n",
      " \u001b[90m [fdbf4ff8] \u001b[39m\u001b[92m+ XLSX v0.8.4\u001b[39m\n",
      "\u001b[32m\u001b[1m    Updating\u001b[22m\u001b[39m `C:\\Users\\gabri\\.julia\\environments\\v1.8\\Manifest.toml`\n",
      " \u001b[90m [8f5d6c58] \u001b[39m\u001b[92m+ EzXML v1.1.0\u001b[39m\n",
      " \u001b[90m [fdbf4ff8] \u001b[39m\u001b[92m+ XLSX v0.8.4\u001b[39m\n",
      " \u001b[90m [a5390f91] \u001b[39m\u001b[92m+ ZipFile v0.10.1\u001b[39m\n",
      "\u001b[32m\u001b[1mPrecompiling\u001b[22m\u001b[39m project...\n",
      "\u001b[32m  ✓ \u001b[39m\u001b[90mZipFile\u001b[39m\n",
      "\u001b[32m  ✓ \u001b[39m\u001b[90mEzXML\u001b[39m\n",
      "\u001b[32m  ✓ \u001b[39mXLSX\n",
      "  3 dependencies successfully precompiled in 3 seconds. 204 already precompiled. 2 skipped during auto due to previous errors.\n"
     ]
    }
   ],
   "source": [
    "using Pkg\n",
    "Pkg.add(\"BenchmarkTools\")\n",
    "Pkg.add(\"DataFrames\")\n",
    "Pkg.add(\"DelimitedFiles\")\n",
    "Pkg.add(\"CSV\")\n",
    "Pkg.add(\"XLSX\")"
   ]
  },
  {
   "cell_type": "code",
   "execution_count": 1,
   "id": "730247f7",
   "metadata": {},
   "outputs": [],
   "source": [
    "using BenchmarkTools\n",
    "using DataFrames        # manipulates Data Frames\n",
    "using DelimitedFiles    # manipulates limited files, such as CSVs\n",
    "using CSV               # manipulates CSV files\n",
    "using XLSX              # manipulates XLSX files"
   ]
  },
  {
   "cell_type": "markdown",
   "id": "30de39a6",
   "metadata": {},
   "source": [
    "----\n",
    "\n",
    "<b>1) Downloading and Loading Dataset</b>"
   ]
  },
  {
   "cell_type": "code",
   "execution_count": 2,
   "id": "03ce3635",
   "metadata": {},
   "outputs": [
    {
     "name": "stdout",
     "output_type": "stream",
     "text": [
      "search: \u001b[0m\u001b[1md\u001b[22m\u001b[0m\u001b[1mo\u001b[22m\u001b[0m\u001b[1mw\u001b[22m\u001b[0m\u001b[1mn\u001b[22m\u001b[0m\u001b[1ml\u001b[22m\u001b[0m\u001b[1mo\u001b[22m\u001b[0m\u001b[1ma\u001b[22m\u001b[0m\u001b[1md\u001b[22m\n",
      "\n"
     ]
    },
    {
     "data": {
      "text/latex": [
       "\\begin{verbatim}\n",
       "download(url::AbstractString, [path::AbstractString = tempname()]) -> path\n",
       "\\end{verbatim}\n",
       "Download a file from the given url, saving it to the location \\texttt{path}, or if not specified, a temporary path. Returns the path of the downloaded file.\n",
       "\n",
       "\\begin{quote}\n",
       "\\textbf{note}\n",
       "\n",
       "Note\n",
       "\n",
       "Since Julia 1.6, this function is deprecated and is just a thin wrapper around \\texttt{Downloads.download}. In new code, you should use that function directly instead of calling this.\n",
       "\n",
       "\\end{quote}\n",
       "\\rule{\\textwidth}{1pt}\n",
       "\\begin{verbatim}\n",
       "download(url::Union{AbstractString, AbstractPath}, localfile::AbstractPath)\n",
       "\\end{verbatim}\n",
       "Download a file from the remote \\texttt{url} and save it to the \\texttt{localfile} path.\n",
       "\n",
       "NOTE: Not downloading into a \\texttt{localfile} directory matches the base Julia behaviour. https://github.com/rofinn/FilePathsBase.jl/issues/48\n",
       "\n"
      ],
      "text/markdown": [
       "```\n",
       "download(url::AbstractString, [path::AbstractString = tempname()]) -> path\n",
       "```\n",
       "\n",
       "Download a file from the given url, saving it to the location `path`, or if not specified, a temporary path. Returns the path of the downloaded file.\n",
       "\n",
       "!!! note\n",
       "    Since Julia 1.6, this function is deprecated and is just a thin wrapper around `Downloads.download`. In new code, you should use that function directly instead of calling this.\n",
       "\n",
       "\n",
       "---\n",
       "\n",
       "```\n",
       "download(url::Union{AbstractString, AbstractPath}, localfile::AbstractPath)\n",
       "```\n",
       "\n",
       "Download a file from the remote `url` and save it to the `localfile` path.\n",
       "\n",
       "NOTE: Not downloading into a `localfile` directory matches the base Julia behaviour. https://github.com/rofinn/FilePathsBase.jl/issues/48\n"
      ],
      "text/plain": [
       "\u001b[36m  download(url::AbstractString, [path::AbstractString = tempname()]) -> path\u001b[39m\n",
       "\n",
       "  Download a file from the given url, saving it to the location \u001b[36mpath\u001b[39m, or if\n",
       "  not specified, a temporary path. Returns the path of the downloaded file.\n",
       "\n",
       "\u001b[36m\u001b[1m  │ \u001b[22m\u001b[39m\u001b[36m\u001b[1mNote\u001b[22m\u001b[39m\n",
       "\u001b[36m\u001b[1m  │\u001b[22m\u001b[39m\n",
       "\u001b[36m\u001b[1m  │\u001b[22m\u001b[39m  Since Julia 1.6, this function is deprecated and is just a thin\n",
       "\u001b[36m\u001b[1m  │\u001b[22m\u001b[39m  wrapper around \u001b[36mDownloads.download\u001b[39m. In new code, you should use\n",
       "\u001b[36m\u001b[1m  │\u001b[22m\u001b[39m  that function directly instead of calling this.\n",
       "\n",
       "  ────────────────────────────────────────────────────────────────────────────\n",
       "\n",
       "\u001b[36m  download(url::Union{AbstractString, AbstractPath}, localfile::AbstractPath)\u001b[39m\n",
       "\n",
       "  Download a file from the remote \u001b[36murl\u001b[39m and save it to the \u001b[36mlocalfile\u001b[39m path.\n",
       "\n",
       "  NOTE: Not downloading into a \u001b[36mlocalfile\u001b[39m directory matches the base Julia\n",
       "  behaviour. https://github.com/rofinn/FilePathsBase.jl/issues/48"
      ]
     },
     "execution_count": 2,
     "metadata": {},
     "output_type": "execute_result"
    }
   ],
   "source": [
    "?download"
   ]
  },
  {
   "cell_type": "code",
   "execution_count": 3,
   "id": "cf4d15c8",
   "metadata": {},
   "outputs": [
    {
     "data": {
      "text/plain": [
       "\"programming_languages.csv\""
      ]
     },
     "execution_count": 3,
     "metadata": {},
     "output_type": "execute_result"
    }
   ],
   "source": [
    "filePath = download(\n",
    "    \"https://raw.githubusercontent.com/nassarhuda/easy_data/master/programming_languages.csv\"\n",
    "    , \"programming_languages.csv\"\n",
    ")"
   ]
  },
  {
   "cell_type": "code",
   "execution_count": 20,
   "id": "18a31222",
   "metadata": {},
   "outputs": [
    {
     "name": "stdout",
     "output_type": "stream",
     "text": [
      "  325.700 μs (445 allocations: 48.61 KiB)\n",
      "  9.615829 seconds (10.74 M allocations: 1.106 GiB, 10.35% gc time, 0.20% compilation time)\n"
     ]
    },
    {
     "data": {
      "text/html": [
       "<div><div style = \"float: left;\"><span>73×2 DataFrame</span></div><div style = \"float: right;\"><span style = \"font-style: italic;\">48 rows omitted</span></div><div style = \"clear: both;\"></div></div><div class = \"data-frame\" style = \"overflow-x: scroll;\"><table class = \"data-frame\" style = \"margin-bottom: 6px;\"><thead><tr class = \"header\"><th class = \"rowNumber\" style = \"font-weight: bold; text-align: right;\">Row</th><th style = \"text-align: left;\">year</th><th style = \"text-align: left;\">language</th></tr><tr class = \"subheader headerLastRow\"><th class = \"rowNumber\" style = \"font-weight: bold; text-align: right;\"></th><th title = \"Int64\" style = \"text-align: left;\">Int64</th><th title = \"String31\" style = \"text-align: left;\">String31</th></tr></thead><tbody><tr><td class = \"rowNumber\" style = \"font-weight: bold; text-align: right;\">1</td><td style = \"text-align: right;\">1951</td><td style = \"text-align: left;\">Regional Assembly Language</td></tr><tr><td class = \"rowNumber\" style = \"font-weight: bold; text-align: right;\">2</td><td style = \"text-align: right;\">1952</td><td style = \"text-align: left;\">Autocode</td></tr><tr><td class = \"rowNumber\" style = \"font-weight: bold; text-align: right;\">3</td><td style = \"text-align: right;\">1954</td><td style = \"text-align: left;\">IPL</td></tr><tr><td class = \"rowNumber\" style = \"font-weight: bold; text-align: right;\">4</td><td style = \"text-align: right;\">1955</td><td style = \"text-align: left;\">FLOW-MATIC</td></tr><tr><td class = \"rowNumber\" style = \"font-weight: bold; text-align: right;\">5</td><td style = \"text-align: right;\">1957</td><td style = \"text-align: left;\">FORTRAN</td></tr><tr><td class = \"rowNumber\" style = \"font-weight: bold; text-align: right;\">6</td><td style = \"text-align: right;\">1957</td><td style = \"text-align: left;\">COMTRAN</td></tr><tr><td class = \"rowNumber\" style = \"font-weight: bold; text-align: right;\">7</td><td style = \"text-align: right;\">1958</td><td style = \"text-align: left;\">LISP</td></tr><tr><td class = \"rowNumber\" style = \"font-weight: bold; text-align: right;\">8</td><td style = \"text-align: right;\">1958</td><td style = \"text-align: left;\">ALGOL 58</td></tr><tr><td class = \"rowNumber\" style = \"font-weight: bold; text-align: right;\">9</td><td style = \"text-align: right;\">1959</td><td style = \"text-align: left;\">FACT</td></tr><tr><td class = \"rowNumber\" style = \"font-weight: bold; text-align: right;\">10</td><td style = \"text-align: right;\">1959</td><td style = \"text-align: left;\">COBOL</td></tr><tr><td class = \"rowNumber\" style = \"font-weight: bold; text-align: right;\">11</td><td style = \"text-align: right;\">1959</td><td style = \"text-align: left;\">RPG</td></tr><tr><td class = \"rowNumber\" style = \"font-weight: bold; text-align: right;\">12</td><td style = \"text-align: right;\">1962</td><td style = \"text-align: left;\">APL</td></tr><tr><td class = \"rowNumber\" style = \"font-weight: bold; text-align: right;\">13</td><td style = \"text-align: right;\">1962</td><td style = \"text-align: left;\">Simula</td></tr><tr><td style = \"text-align: right;\">&vellip;</td><td style = \"text-align: right;\">&vellip;</td><td style = \"text-align: right;\">&vellip;</td></tr><tr><td class = \"rowNumber\" style = \"font-weight: bold; text-align: right;\">62</td><td style = \"text-align: right;\">2003</td><td style = \"text-align: left;\">Scala</td></tr><tr><td class = \"rowNumber\" style = \"font-weight: bold; text-align: right;\">63</td><td style = \"text-align: right;\">2005</td><td style = \"text-align: left;\">F#</td></tr><tr><td class = \"rowNumber\" style = \"font-weight: bold; text-align: right;\">64</td><td style = \"text-align: right;\">2006</td><td style = \"text-align: left;\">PowerShell</td></tr><tr><td class = \"rowNumber\" style = \"font-weight: bold; text-align: right;\">65</td><td style = \"text-align: right;\">2007</td><td style = \"text-align: left;\">Clojure</td></tr><tr><td class = \"rowNumber\" style = \"font-weight: bold; text-align: right;\">66</td><td style = \"text-align: right;\">2009</td><td style = \"text-align: left;\">Go</td></tr><tr><td class = \"rowNumber\" style = \"font-weight: bold; text-align: right;\">67</td><td style = \"text-align: right;\">2010</td><td style = \"text-align: left;\">Rust</td></tr><tr><td class = \"rowNumber\" style = \"font-weight: bold; text-align: right;\">68</td><td style = \"text-align: right;\">2011</td><td style = \"text-align: left;\">Dart</td></tr><tr><td class = \"rowNumber\" style = \"font-weight: bold; text-align: right;\">69</td><td style = \"text-align: right;\">2011</td><td style = \"text-align: left;\">Kotlin</td></tr><tr><td class = \"rowNumber\" style = \"font-weight: bold; text-align: right;\">70</td><td style = \"text-align: right;\">2011</td><td style = \"text-align: left;\">Red</td></tr><tr><td class = \"rowNumber\" style = \"font-weight: bold; text-align: right;\">71</td><td style = \"text-align: right;\">2011</td><td style = \"text-align: left;\">Elixir</td></tr><tr><td class = \"rowNumber\" style = \"font-weight: bold; text-align: right;\">72</td><td style = \"text-align: right;\">2012</td><td style = \"text-align: left;\">Julia</td></tr><tr><td class = \"rowNumber\" style = \"font-weight: bold; text-align: right;\">73</td><td style = \"text-align: right;\">2014</td><td style = \"text-align: left;\">Swift</td></tr></tbody></table></div>"
      ],
      "text/latex": [
       "\\begin{tabular}{r|cc}\n",
       "\t& year & language\\\\\n",
       "\t\\hline\n",
       "\t& Int64 & String31\\\\\n",
       "\t\\hline\n",
       "\t1 & 1951 & Regional Assembly Language \\\\\n",
       "\t2 & 1952 & Autocode \\\\\n",
       "\t3 & 1954 & IPL \\\\\n",
       "\t4 & 1955 & FLOW-MATIC \\\\\n",
       "\t5 & 1957 & FORTRAN \\\\\n",
       "\t6 & 1957 & COMTRAN \\\\\n",
       "\t7 & 1958 & LISP \\\\\n",
       "\t8 & 1958 & ALGOL 58 \\\\\n",
       "\t9 & 1959 & FACT \\\\\n",
       "\t10 & 1959 & COBOL \\\\\n",
       "\t11 & 1959 & RPG \\\\\n",
       "\t12 & 1962 & APL \\\\\n",
       "\t13 & 1962 & Simula \\\\\n",
       "\t14 & 1962 & SNOBOL \\\\\n",
       "\t15 & 1963 & CPL \\\\\n",
       "\t16 & 1964 & Speakeasy \\\\\n",
       "\t17 & 1964 & BASIC \\\\\n",
       "\t18 & 1964 & PL/I \\\\\n",
       "\t19 & 1966 & JOSS \\\\\n",
       "\t20 & 1967 & BCPL \\\\\n",
       "\t21 & 1968 & Logo \\\\\n",
       "\t22 & 1969 & B \\\\\n",
       "\t23 & 1970 & Pascal \\\\\n",
       "\t24 & 1970 & Forth \\\\\n",
       "\t25 & 1972 & C \\\\\n",
       "\t26 & 1972 & Smalltalk \\\\\n",
       "\t27 & 1972 & Prolog \\\\\n",
       "\t28 & 1973 & ML \\\\\n",
       "\t29 & 1975 & Scheme \\\\\n",
       "\t30 & 1978 & SQL  \\\\\n",
       "\t$\\dots$ & $\\dots$ & $\\dots$ \\\\\n",
       "\\end{tabular}\n"
      ],
      "text/plain": [
       "\u001b[1m73×2 DataFrame\u001b[0m\n",
       "\u001b[1m Row \u001b[0m│\u001b[1m year  \u001b[0m\u001b[1m language                   \u001b[0m\n",
       "     │\u001b[90m Int64 \u001b[0m\u001b[90m String31                   \u001b[0m\n",
       "─────┼───────────────────────────────────\n",
       "   1 │  1951  Regional Assembly Language\n",
       "   2 │  1952  Autocode\n",
       "   3 │  1954  IPL\n",
       "   4 │  1955  FLOW-MATIC\n",
       "   5 │  1957  FORTRAN\n",
       "   6 │  1957  COMTRAN\n",
       "   7 │  1958  LISP\n",
       "   8 │  1958  ALGOL 58\n",
       "   9 │  1959  FACT\n",
       "  10 │  1959  COBOL\n",
       "  11 │  1959  RPG\n",
       "  ⋮  │   ⋮                ⋮\n",
       "  64 │  2006  PowerShell\n",
       "  65 │  2007  Clojure\n",
       "  66 │  2009  Go\n",
       "  67 │  2010  Rust\n",
       "  68 │  2011  Dart\n",
       "  69 │  2011  Kotlin\n",
       "  70 │  2011  Red\n",
       "  71 │  2011  Elixir\n",
       "  72 │  2012  Julia\n",
       "  73 │  2014  Swift\n",
       "\u001b[36m                          52 rows omitted\u001b[0m"
      ]
     },
     "execution_count": 20,
     "metadata": {},
     "output_type": "execute_result"
    }
   ],
   "source": [
    "# Both ways work out to read dataset\n",
    "# @time @btime df = CSV.File(filePath) |> DataFrame\n",
    "@time @btime df = CSV.read(filePath, DataFrame)"
   ]
  },
  {
   "cell_type": "markdown",
   "id": "43cc34ed",
   "metadata": {},
   "source": [
    "----"
   ]
  },
  {
   "cell_type": "code",
   "execution_count": 27,
   "id": "324449e4",
   "metadata": {},
   "outputs": [],
   "source": [
    "# Creating a new Dataframe\n",
    "animes = [\"Demon Slayer\", \"JoJo\", \"Attack on Titan\"];\n",
    "characters = [\"Giyu Tomioka\", \"Joseph Joestar\", \"Levi Ackerman\"];\n",
    "rates = [10, 9.75, 9.80];"
   ]
  },
  {
   "cell_type": "code",
   "execution_count": 31,
   "id": "c0091b58",
   "metadata": {},
   "outputs": [
    {
     "data": {
      "text/html": [
       "<div><div style = \"float: left;\"><span>3×3 DataFrame</span></div><div style = \"clear: both;\"></div></div><div class = \"data-frame\" style = \"overflow-x: scroll;\"><table class = \"data-frame\" style = \"margin-bottom: 6px;\"><thead><tr class = \"header\"><th class = \"rowNumber\" style = \"font-weight: bold; text-align: right;\">Row</th><th style = \"text-align: left;\">animeName</th><th style = \"text-align: left;\">characterName</th><th style = \"text-align: left;\">rate</th></tr><tr class = \"subheader headerLastRow\"><th class = \"rowNumber\" style = \"font-weight: bold; text-align: right;\"></th><th title = \"String\" style = \"text-align: left;\">String</th><th title = \"String\" style = \"text-align: left;\">String</th><th title = \"Float64\" style = \"text-align: left;\">Float64</th></tr></thead><tbody><tr><td class = \"rowNumber\" style = \"font-weight: bold; text-align: right;\">1</td><td style = \"text-align: left;\">Demon Slayer</td><td style = \"text-align: left;\">Giyu Tomioka</td><td style = \"text-align: right;\">10.0</td></tr><tr><td class = \"rowNumber\" style = \"font-weight: bold; text-align: right;\">2</td><td style = \"text-align: left;\">JoJo</td><td style = \"text-align: left;\">Joseph Joestar</td><td style = \"text-align: right;\">9.75</td></tr><tr><td class = \"rowNumber\" style = \"font-weight: bold; text-align: right;\">3</td><td style = \"text-align: left;\">Attack on Titan</td><td style = \"text-align: left;\">Levi Ackerman</td><td style = \"text-align: right;\">9.8</td></tr></tbody></table></div>"
      ],
      "text/latex": [
       "\\begin{tabular}{r|ccc}\n",
       "\t& animeName & characterName & rate\\\\\n",
       "\t\\hline\n",
       "\t& String & String & Float64\\\\\n",
       "\t\\hline\n",
       "\t1 & Demon Slayer & Giyu Tomioka & 10.0 \\\\\n",
       "\t2 & JoJo & Joseph Joestar & 9.75 \\\\\n",
       "\t3 & Attack on Titan & Levi Ackerman & 9.8 \\\\\n",
       "\\end{tabular}\n"
      ],
      "text/plain": [
       "\u001b[1m3×3 DataFrame\u001b[0m\n",
       "\u001b[1m Row \u001b[0m│\u001b[1m animeName       \u001b[0m\u001b[1m characterName  \u001b[0m\u001b[1m rate    \u001b[0m\n",
       "     │\u001b[90m String          \u001b[0m\u001b[90m String         \u001b[0m\u001b[90m Float64 \u001b[0m\n",
       "─────┼──────────────────────────────────────────\n",
       "   1 │ Demon Slayer     Giyu Tomioka      10.0\n",
       "   2 │ JoJo             Joseph Joestar     9.75\n",
       "   3 │ Attack on Titan  Levi Ackerman      9.8"
      ]
     },
     "execution_count": 31,
     "metadata": {},
     "output_type": "execute_result"
    }
   ],
   "source": [
    "animesCharactersDf = DataFrame(animeName=animes, characterName=characters)\n",
    "charactersRatesDf = DataFrame(characterName=characters, rate=rates)\n",
    "finalDf = innerjoin(animesCharactersDf, charactersRatesDf, on=:characterName)"
   ]
  },
  {
   "cell_type": "markdown",
   "id": "a218640c",
   "metadata": {},
   "source": [
    "----\n",
    "\n",
    "<b>2) Exploring DataFrames</b>"
   ]
  },
  {
   "cell_type": "code",
   "execution_count": 21,
   "id": "1e4ba4c3",
   "metadata": {},
   "outputs": [
    {
     "data": {
      "text/html": [
       "<div><div style = \"float: left;\"><span>73×2 DataFrame</span></div><div style = \"float: right;\"><span style = \"font-style: italic;\">48 rows omitted</span></div><div style = \"clear: both;\"></div></div><div class = \"data-frame\" style = \"overflow-x: scroll;\"><table class = \"data-frame\" style = \"margin-bottom: 6px;\"><thead><tr class = \"header\"><th class = \"rowNumber\" style = \"font-weight: bold; text-align: right;\">Row</th><th style = \"text-align: left;\">Year_Released</th><th style = \"text-align: left;\">Programming_Language</th></tr><tr class = \"subheader headerLastRow\"><th class = \"rowNumber\" style = \"font-weight: bold; text-align: right;\"></th><th title = \"Int64\" style = \"text-align: left;\">Int64</th><th title = \"String31\" style = \"text-align: left;\">String31</th></tr></thead><tbody><tr><td class = \"rowNumber\" style = \"font-weight: bold; text-align: right;\">1</td><td style = \"text-align: right;\">1951</td><td style = \"text-align: left;\">Regional Assembly Language</td></tr><tr><td class = \"rowNumber\" style = \"font-weight: bold; text-align: right;\">2</td><td style = \"text-align: right;\">1952</td><td style = \"text-align: left;\">Autocode</td></tr><tr><td class = \"rowNumber\" style = \"font-weight: bold; text-align: right;\">3</td><td style = \"text-align: right;\">1954</td><td style = \"text-align: left;\">IPL</td></tr><tr><td class = \"rowNumber\" style = \"font-weight: bold; text-align: right;\">4</td><td style = \"text-align: right;\">1955</td><td style = \"text-align: left;\">FLOW-MATIC</td></tr><tr><td class = \"rowNumber\" style = \"font-weight: bold; text-align: right;\">5</td><td style = \"text-align: right;\">1957</td><td style = \"text-align: left;\">FORTRAN</td></tr><tr><td class = \"rowNumber\" style = \"font-weight: bold; text-align: right;\">6</td><td style = \"text-align: right;\">1957</td><td style = \"text-align: left;\">COMTRAN</td></tr><tr><td class = \"rowNumber\" style = \"font-weight: bold; text-align: right;\">7</td><td style = \"text-align: right;\">1958</td><td style = \"text-align: left;\">LISP</td></tr><tr><td class = \"rowNumber\" style = \"font-weight: bold; text-align: right;\">8</td><td style = \"text-align: right;\">1958</td><td style = \"text-align: left;\">ALGOL 58</td></tr><tr><td class = \"rowNumber\" style = \"font-weight: bold; text-align: right;\">9</td><td style = \"text-align: right;\">1959</td><td style = \"text-align: left;\">FACT</td></tr><tr><td class = \"rowNumber\" style = \"font-weight: bold; text-align: right;\">10</td><td style = \"text-align: right;\">1959</td><td style = \"text-align: left;\">COBOL</td></tr><tr><td class = \"rowNumber\" style = \"font-weight: bold; text-align: right;\">11</td><td style = \"text-align: right;\">1959</td><td style = \"text-align: left;\">RPG</td></tr><tr><td class = \"rowNumber\" style = \"font-weight: bold; text-align: right;\">12</td><td style = \"text-align: right;\">1962</td><td style = \"text-align: left;\">APL</td></tr><tr><td class = \"rowNumber\" style = \"font-weight: bold; text-align: right;\">13</td><td style = \"text-align: right;\">1962</td><td style = \"text-align: left;\">Simula</td></tr><tr><td style = \"text-align: right;\">&vellip;</td><td style = \"text-align: right;\">&vellip;</td><td style = \"text-align: right;\">&vellip;</td></tr><tr><td class = \"rowNumber\" style = \"font-weight: bold; text-align: right;\">62</td><td style = \"text-align: right;\">2003</td><td style = \"text-align: left;\">Scala</td></tr><tr><td class = \"rowNumber\" style = \"font-weight: bold; text-align: right;\">63</td><td style = \"text-align: right;\">2005</td><td style = \"text-align: left;\">F#</td></tr><tr><td class = \"rowNumber\" style = \"font-weight: bold; text-align: right;\">64</td><td style = \"text-align: right;\">2006</td><td style = \"text-align: left;\">PowerShell</td></tr><tr><td class = \"rowNumber\" style = \"font-weight: bold; text-align: right;\">65</td><td style = \"text-align: right;\">2007</td><td style = \"text-align: left;\">Clojure</td></tr><tr><td class = \"rowNumber\" style = \"font-weight: bold; text-align: right;\">66</td><td style = \"text-align: right;\">2009</td><td style = \"text-align: left;\">Go</td></tr><tr><td class = \"rowNumber\" style = \"font-weight: bold; text-align: right;\">67</td><td style = \"text-align: right;\">2010</td><td style = \"text-align: left;\">Rust</td></tr><tr><td class = \"rowNumber\" style = \"font-weight: bold; text-align: right;\">68</td><td style = \"text-align: right;\">2011</td><td style = \"text-align: left;\">Dart</td></tr><tr><td class = \"rowNumber\" style = \"font-weight: bold; text-align: right;\">69</td><td style = \"text-align: right;\">2011</td><td style = \"text-align: left;\">Kotlin</td></tr><tr><td class = \"rowNumber\" style = \"font-weight: bold; text-align: right;\">70</td><td style = \"text-align: right;\">2011</td><td style = \"text-align: left;\">Red</td></tr><tr><td class = \"rowNumber\" style = \"font-weight: bold; text-align: right;\">71</td><td style = \"text-align: right;\">2011</td><td style = \"text-align: left;\">Elixir</td></tr><tr><td class = \"rowNumber\" style = \"font-weight: bold; text-align: right;\">72</td><td style = \"text-align: right;\">2012</td><td style = \"text-align: left;\">Julia</td></tr><tr><td class = \"rowNumber\" style = \"font-weight: bold; text-align: right;\">73</td><td style = \"text-align: right;\">2014</td><td style = \"text-align: left;\">Swift</td></tr></tbody></table></div>"
      ],
      "text/latex": [
       "\\begin{tabular}{r|cc}\n",
       "\t& Year\\_Released & Programming\\_Language\\\\\n",
       "\t\\hline\n",
       "\t& Int64 & String31\\\\\n",
       "\t\\hline\n",
       "\t1 & 1951 & Regional Assembly Language \\\\\n",
       "\t2 & 1952 & Autocode \\\\\n",
       "\t3 & 1954 & IPL \\\\\n",
       "\t4 & 1955 & FLOW-MATIC \\\\\n",
       "\t5 & 1957 & FORTRAN \\\\\n",
       "\t6 & 1957 & COMTRAN \\\\\n",
       "\t7 & 1958 & LISP \\\\\n",
       "\t8 & 1958 & ALGOL 58 \\\\\n",
       "\t9 & 1959 & FACT \\\\\n",
       "\t10 & 1959 & COBOL \\\\\n",
       "\t11 & 1959 & RPG \\\\\n",
       "\t12 & 1962 & APL \\\\\n",
       "\t13 & 1962 & Simula \\\\\n",
       "\t14 & 1962 & SNOBOL \\\\\n",
       "\t15 & 1963 & CPL \\\\\n",
       "\t16 & 1964 & Speakeasy \\\\\n",
       "\t17 & 1964 & BASIC \\\\\n",
       "\t18 & 1964 & PL/I \\\\\n",
       "\t19 & 1966 & JOSS \\\\\n",
       "\t20 & 1967 & BCPL \\\\\n",
       "\t21 & 1968 & Logo \\\\\n",
       "\t22 & 1969 & B \\\\\n",
       "\t23 & 1970 & Pascal \\\\\n",
       "\t24 & 1970 & Forth \\\\\n",
       "\t25 & 1972 & C \\\\\n",
       "\t26 & 1972 & Smalltalk \\\\\n",
       "\t27 & 1972 & Prolog \\\\\n",
       "\t28 & 1973 & ML \\\\\n",
       "\t29 & 1975 & Scheme \\\\\n",
       "\t30 & 1978 & SQL  \\\\\n",
       "\t$\\dots$ & $\\dots$ & $\\dots$ \\\\\n",
       "\\end{tabular}\n"
      ],
      "text/plain": [
       "\u001b[1m73×2 DataFrame\u001b[0m\n",
       "\u001b[1m Row \u001b[0m│\u001b[1m Year_Released \u001b[0m\u001b[1m Programming_Language       \u001b[0m\n",
       "     │\u001b[90m Int64         \u001b[0m\u001b[90m String31                   \u001b[0m\n",
       "─────┼───────────────────────────────────────────\n",
       "   1 │          1951  Regional Assembly Language\n",
       "   2 │          1952  Autocode\n",
       "   3 │          1954  IPL\n",
       "   4 │          1955  FLOW-MATIC\n",
       "   5 │          1957  FORTRAN\n",
       "   6 │          1957  COMTRAN\n",
       "   7 │          1958  LISP\n",
       "   8 │          1958  ALGOL 58\n",
       "   9 │          1959  FACT\n",
       "  10 │          1959  COBOL\n",
       "  11 │          1959  RPG\n",
       "  ⋮  │       ⋮                    ⋮\n",
       "  64 │          2006  PowerShell\n",
       "  65 │          2007  Clojure\n",
       "  66 │          2009  Go\n",
       "  67 │          2010  Rust\n",
       "  68 │          2011  Dart\n",
       "  69 │          2011  Kotlin\n",
       "  70 │          2011  Red\n",
       "  71 │          2011  Elixir\n",
       "  72 │          2012  Julia\n",
       "  73 │          2014  Swift\n",
       "\u001b[36m                                  52 rows omitted\u001b[0m"
      ]
     },
     "execution_count": 21,
     "metadata": {},
     "output_type": "execute_result"
    }
   ],
   "source": [
    "# Changing Columns Names\n",
    "rename!(df, [\"Year_Released\", \"Programming_Language\"])"
   ]
  },
  {
   "cell_type": "code",
   "execution_count": 22,
   "id": "677e25fb",
   "metadata": {},
   "outputs": [
    {
     "name": "stdout",
     "output_type": "stream",
     "text": [
      "Columns: 73\n",
      "Rows: 2\n",
      "-*-*-*-*-*-\n",
      "Columns Names: [\"Year_Released\", \"Programming_Language\"]\n"
     ]
    }
   ],
   "source": [
    "# Listing columns names and shape\n",
    "columns, rows = size(df)\n",
    "\n",
    "println(\"Columns: $columns\")\n",
    "println(\"Rows: $rows\")\n",
    "println(\"-*-*-*-*-*-\")\n",
    "println(\"Columns Names: $(names(df))\")"
   ]
  },
  {
   "cell_type": "code",
   "execution_count": 23,
   "id": "c3067c0e",
   "metadata": {},
   "outputs": [
    {
     "data": {
      "text/html": [
       "<div><div style = \"float: left;\"><span>2×7 DataFrame</span></div><div style = \"clear: both;\"></div></div><div class = \"data-frame\" style = \"overflow-x: scroll;\"><table class = \"data-frame\" style = \"margin-bottom: 6px;\"><thead><tr class = \"header\"><th class = \"rowNumber\" style = \"font-weight: bold; text-align: right;\">Row</th><th style = \"text-align: left;\">variable</th><th style = \"text-align: left;\">mean</th><th style = \"text-align: left;\">min</th><th style = \"text-align: left;\">median</th><th style = \"text-align: left;\">max</th><th style = \"text-align: left;\">nmissing</th><th style = \"text-align: left;\">eltype</th></tr><tr class = \"subheader headerLastRow\"><th class = \"rowNumber\" style = \"font-weight: bold; text-align: right;\"></th><th title = \"Symbol\" style = \"text-align: left;\">Symbol</th><th title = \"Union{Nothing, Float64}\" style = \"text-align: left;\">Union…</th><th title = \"Any\" style = \"text-align: left;\">Any</th><th title = \"Union{Nothing, Float64}\" style = \"text-align: left;\">Union…</th><th title = \"Any\" style = \"text-align: left;\">Any</th><th title = \"Int64\" style = \"text-align: left;\">Int64</th><th title = \"DataType\" style = \"text-align: left;\">DataType</th></tr></thead><tbody><tr><td class = \"rowNumber\" style = \"font-weight: bold; text-align: right;\">1</td><td style = \"text-align: left;\">Year_Released</td><td style = \"text-align: left;\">1982.99</td><td style = \"text-align: left;\">1951</td><td style = \"text-align: left;\">1986.0</td><td style = \"text-align: left;\">2014</td><td style = \"text-align: right;\">0</td><td style = \"text-align: left;\">Int64</td></tr><tr><td class = \"rowNumber\" style = \"font-weight: bold; text-align: right;\">2</td><td style = \"text-align: left;\">Programming_Language</td><td style = \"font-style: italic; text-align: left;\"></td><td style = \"text-align: left;\">ALGOL 58</td><td style = \"font-style: italic; text-align: left;\"></td><td style = \"text-align: left;\">dBase III</td><td style = \"text-align: right;\">0</td><td style = \"text-align: left;\">String31</td></tr></tbody></table></div>"
      ],
      "text/latex": [
       "\\begin{tabular}{r|ccccccc}\n",
       "\t& variable & mean & min & median & max & nmissing & eltype\\\\\n",
       "\t\\hline\n",
       "\t& Symbol & Union… & Any & Union… & Any & Int64 & DataType\\\\\n",
       "\t\\hline\n",
       "\t1 & Year\\_Released & 1982.99 & 1951 & 1986.0 & 2014 & 0 & Int64 \\\\\n",
       "\t2 & Programming\\_Language &  & ALGOL 58 &  & dBase III & 0 & String31 \\\\\n",
       "\\end{tabular}\n"
      ],
      "text/plain": [
       "\u001b[1m2×7 DataFrame\u001b[0m\n",
       "\u001b[1m Row \u001b[0m│\u001b[1m variable             \u001b[0m\u001b[1m mean    \u001b[0m\u001b[1m min      \u001b[0m\u001b[1m median \u001b[0m\u001b[1m max       \u001b[0m\u001b[1m nmissing \u001b[0m\u001b[1m e\u001b[0m ⋯\n",
       "     │\u001b[90m Symbol               \u001b[0m\u001b[90m Union…  \u001b[0m\u001b[90m Any      \u001b[0m\u001b[90m Union… \u001b[0m\u001b[90m Any       \u001b[0m\u001b[90m Int64    \u001b[0m\u001b[90m D\u001b[0m ⋯\n",
       "─────┼──────────────────────────────────────────────────────────────────────────\n",
       "   1 │ Year_Released         1982.99  1951      1986.0  2014              0  I ⋯\n",
       "   2 │ Programming_Language \u001b[90m         \u001b[0m ALGOL 58 \u001b[90m        \u001b[0m dBase III         0  S\n",
       "\u001b[36m                                                                1 column omitted\u001b[0m"
      ]
     },
     "execution_count": 23,
     "metadata": {},
     "output_type": "execute_result"
    }
   ],
   "source": [
    "# Statistics Descriptions\n",
    "describe(df)"
   ]
  },
  {
   "cell_type": "markdown",
   "id": "1ffb796b",
   "metadata": {},
   "source": [
    "----\n",
    "\n",
    "<b>3) Missing Datas</b>"
   ]
  },
  {
   "cell_type": "code",
   "execution_count": 123,
   "id": "f5b620c3",
   "metadata": {},
   "outputs": [
    {
     "data": {
      "text/html": [
       "<div><div style = \"float: left;\"><span>73×2 DataFrame</span></div><div style = \"float: right;\"><span style = \"font-style: italic;\">48 rows omitted</span></div><div style = \"clear: both;\"></div></div><div class = \"data-frame\" style = \"overflow-x: scroll;\"><table class = \"data-frame\" style = \"margin-bottom: 6px;\"><thead><tr class = \"header\"><th class = \"rowNumber\" style = \"font-weight: bold; text-align: right;\">Row</th><th style = \"text-align: left;\">Year_Released</th><th style = \"text-align: left;\">Programming_Language</th></tr><tr class = \"subheader headerLastRow\"><th class = \"rowNumber\" style = \"font-weight: bold; text-align: right;\"></th><th title = \"Int64\" style = \"text-align: left;\">Int64</th><th title = \"String31\" style = \"text-align: left;\">String31</th></tr></thead><tbody><tr><td class = \"rowNumber\" style = \"font-weight: bold; text-align: right;\">1</td><td style = \"text-align: right;\">1951</td><td style = \"text-align: left;\">Regional Assembly Language</td></tr><tr><td class = \"rowNumber\" style = \"font-weight: bold; text-align: right;\">2</td><td style = \"text-align: right;\">1952</td><td style = \"text-align: left;\">Autocode</td></tr><tr><td class = \"rowNumber\" style = \"font-weight: bold; text-align: right;\">3</td><td style = \"text-align: right;\">1954</td><td style = \"text-align: left;\">IPL</td></tr><tr><td class = \"rowNumber\" style = \"font-weight: bold; text-align: right;\">4</td><td style = \"text-align: right;\">1955</td><td style = \"text-align: left;\">FLOW-MATIC</td></tr><tr><td class = \"rowNumber\" style = \"font-weight: bold; text-align: right;\">5</td><td style = \"text-align: right;\">1957</td><td style = \"text-align: left;\">FORTRAN</td></tr><tr><td class = \"rowNumber\" style = \"font-weight: bold; text-align: right;\">6</td><td style = \"text-align: right;\">1957</td><td style = \"text-align: left;\">COMTRAN</td></tr><tr><td class = \"rowNumber\" style = \"font-weight: bold; text-align: right;\">7</td><td style = \"text-align: right;\">1958</td><td style = \"text-align: left;\">LISP</td></tr><tr><td class = \"rowNumber\" style = \"font-weight: bold; text-align: right;\">8</td><td style = \"text-align: right;\">1958</td><td style = \"text-align: left;\">ALGOL 58</td></tr><tr><td class = \"rowNumber\" style = \"font-weight: bold; text-align: right;\">9</td><td style = \"text-align: right;\">1959</td><td style = \"text-align: left;\">FACT</td></tr><tr><td class = \"rowNumber\" style = \"font-weight: bold; text-align: right;\">10</td><td style = \"text-align: right;\">1959</td><td style = \"text-align: left;\">COBOL</td></tr><tr><td class = \"rowNumber\" style = \"font-weight: bold; text-align: right;\">11</td><td style = \"text-align: right;\">1959</td><td style = \"text-align: left;\">RPG</td></tr><tr><td class = \"rowNumber\" style = \"font-weight: bold; text-align: right;\">12</td><td style = \"text-align: right;\">1962</td><td style = \"text-align: left;\">APL</td></tr><tr><td class = \"rowNumber\" style = \"font-weight: bold; text-align: right;\">13</td><td style = \"text-align: right;\">1962</td><td style = \"text-align: left;\">Simula</td></tr><tr><td style = \"text-align: right;\">&vellip;</td><td style = \"text-align: right;\">&vellip;</td><td style = \"text-align: right;\">&vellip;</td></tr><tr><td class = \"rowNumber\" style = \"font-weight: bold; text-align: right;\">62</td><td style = \"text-align: right;\">2003</td><td style = \"text-align: left;\">Scala</td></tr><tr><td class = \"rowNumber\" style = \"font-weight: bold; text-align: right;\">63</td><td style = \"text-align: right;\">2005</td><td style = \"text-align: left;\">F#</td></tr><tr><td class = \"rowNumber\" style = \"font-weight: bold; text-align: right;\">64</td><td style = \"text-align: right;\">2006</td><td style = \"text-align: left;\">PowerShell</td></tr><tr><td class = \"rowNumber\" style = \"font-weight: bold; text-align: right;\">65</td><td style = \"text-align: right;\">2007</td><td style = \"text-align: left;\">Clojure</td></tr><tr><td class = \"rowNumber\" style = \"font-weight: bold; text-align: right;\">66</td><td style = \"text-align: right;\">2009</td><td style = \"text-align: left;\">Go</td></tr><tr><td class = \"rowNumber\" style = \"font-weight: bold; text-align: right;\">67</td><td style = \"text-align: right;\">2010</td><td style = \"text-align: left;\">Rust</td></tr><tr><td class = \"rowNumber\" style = \"font-weight: bold; text-align: right;\">68</td><td style = \"text-align: right;\">2011</td><td style = \"text-align: left;\">Dart</td></tr><tr><td class = \"rowNumber\" style = \"font-weight: bold; text-align: right;\">69</td><td style = \"text-align: right;\">2011</td><td style = \"text-align: left;\">Kotlin</td></tr><tr><td class = \"rowNumber\" style = \"font-weight: bold; text-align: right;\">70</td><td style = \"text-align: right;\">2011</td><td style = \"text-align: left;\">Red</td></tr><tr><td class = \"rowNumber\" style = \"font-weight: bold; text-align: right;\">71</td><td style = \"text-align: right;\">2011</td><td style = \"text-align: left;\">Elixir</td></tr><tr><td class = \"rowNumber\" style = \"font-weight: bold; text-align: right;\">72</td><td style = \"text-align: right;\">2012</td><td style = \"text-align: left;\">Julia</td></tr><tr><td class = \"rowNumber\" style = \"font-weight: bold; text-align: right;\">73</td><td style = \"text-align: right;\">2014</td><td style = \"text-align: left;\">Swift</td></tr></tbody></table></div>"
      ],
      "text/latex": [
       "\\begin{tabular}{r|cc}\n",
       "\t& Year\\_Released & Programming\\_Language\\\\\n",
       "\t\\hline\n",
       "\t& Int64 & String31\\\\\n",
       "\t\\hline\n",
       "\t1 & 1951 & Regional Assembly Language \\\\\n",
       "\t2 & 1952 & Autocode \\\\\n",
       "\t3 & 1954 & IPL \\\\\n",
       "\t4 & 1955 & FLOW-MATIC \\\\\n",
       "\t5 & 1957 & FORTRAN \\\\\n",
       "\t6 & 1957 & COMTRAN \\\\\n",
       "\t7 & 1958 & LISP \\\\\n",
       "\t8 & 1958 & ALGOL 58 \\\\\n",
       "\t9 & 1959 & FACT \\\\\n",
       "\t10 & 1959 & COBOL \\\\\n",
       "\t11 & 1959 & RPG \\\\\n",
       "\t12 & 1962 & APL \\\\\n",
       "\t13 & 1962 & Simula \\\\\n",
       "\t14 & 1962 & SNOBOL \\\\\n",
       "\t15 & 1963 & CPL \\\\\n",
       "\t16 & 1964 & Speakeasy \\\\\n",
       "\t17 & 1964 & BASIC \\\\\n",
       "\t18 & 1964 & PL/I \\\\\n",
       "\t19 & 1966 & JOSS \\\\\n",
       "\t20 & 1967 & BCPL \\\\\n",
       "\t21 & 1968 & Logo \\\\\n",
       "\t22 & 1969 & B \\\\\n",
       "\t23 & 1970 & Pascal \\\\\n",
       "\t24 & 1970 & Forth \\\\\n",
       "\t25 & 1972 & C \\\\\n",
       "\t26 & 1972 & Smalltalk \\\\\n",
       "\t27 & 1972 & Prolog \\\\\n",
       "\t28 & 1973 & ML \\\\\n",
       "\t29 & 1975 & Scheme \\\\\n",
       "\t30 & 1978 & SQL  \\\\\n",
       "\t$\\dots$ & $\\dots$ & $\\dots$ \\\\\n",
       "\\end{tabular}\n"
      ],
      "text/plain": [
       "\u001b[1m73×2 DataFrame\u001b[0m\n",
       "\u001b[1m Row \u001b[0m│\u001b[1m Year_Released \u001b[0m\u001b[1m Programming_Language       \u001b[0m\n",
       "     │\u001b[90m Int64         \u001b[0m\u001b[90m String31                   \u001b[0m\n",
       "─────┼───────────────────────────────────────────\n",
       "   1 │          1951  Regional Assembly Language\n",
       "   2 │          1952  Autocode\n",
       "   3 │          1954  IPL\n",
       "   4 │          1955  FLOW-MATIC\n",
       "   5 │          1957  FORTRAN\n",
       "   6 │          1957  COMTRAN\n",
       "   7 │          1958  LISP\n",
       "   8 │          1958  ALGOL 58\n",
       "   9 │          1959  FACT\n",
       "  10 │          1959  COBOL\n",
       "  11 │          1959  RPG\n",
       "  ⋮  │       ⋮                    ⋮\n",
       "  64 │          2006  PowerShell\n",
       "  65 │          2007  Clojure\n",
       "  66 │          2009  Go\n",
       "  67 │          2010  Rust\n",
       "  68 │          2011  Dart\n",
       "  69 │          2011  Kotlin\n",
       "  70 │          2011  Red\n",
       "  71 │          2011  Elixir\n",
       "  72 │          2012  Julia\n",
       "  73 │          2014  Swift\n",
       "\u001b[36m                                  52 rows omitted\u001b[0m"
      ]
     },
     "execution_count": 123,
     "metadata": {},
     "output_type": "execute_result"
    }
   ],
   "source": [
    "# To delete missing datas/values from a data frame\n",
    "# you can simply use \"dropmissing\" function\n",
    "dropmissing!(df)"
   ]
  },
  {
   "cell_type": "markdown",
   "id": "0c934a48",
   "metadata": {},
   "source": [
    "----\n",
    "\n",
    "<b>4) Exercises</b>"
   ]
  },
  {
   "cell_type": "code",
   "execution_count": 124,
   "id": "d31166f9",
   "metadata": {},
   "outputs": [
    {
     "data": {
      "text/plain": [
       "programming_language_released_year (generic function with 1 method)"
      ]
     },
     "execution_count": 124,
     "metadata": {},
     "output_type": "execute_result"
    }
   ],
   "source": [
    "# Create a function to display which year a given language\n",
    "# has been released\n",
    "function programming_language_released_year(language::String)\n",
    "    #=\n",
    "        The function takes a programming language name in string and filter the dataset.\n",
    "    Inside the filter, a map is applied to \"Programming_Language\" column, being each element\n",
    "    name \"pl\", and filters to where \"pl\" is equals to the parameter.\n",
    "    \n",
    "        After that, a dictionary is created to be returned.\n",
    "    =#\n",
    "    temp_df = filter(:Programming_Language => pl -> pl == language, df)\n",
    "    temp_dict = Dict(\n",
    "        \"Year_Released\"          =>  temp_df[!, 1],\n",
    "        \"Programming_Language\"   =>  temp_df[!, 2]\n",
    "    )\n",
    "    \n",
    "    return temp_dict\n",
    "end"
   ]
  },
  {
   "cell_type": "code",
   "execution_count": 125,
   "id": "ba6e742a",
   "metadata": {},
   "outputs": [
    {
     "name": "stdout",
     "output_type": "stream",
     "text": [
      "Programming Language Name: String31[\"Julia\"]\n",
      "Release Year: [2012]\n"
     ]
    }
   ],
   "source": [
    "# Testing out the function\n",
    "programming_language_name = \"Julia\"\n",
    "search_result = programming_language_released_year(programming_language_name)\n",
    "\n",
    "println(\"Programming Language Name: \", search_result[\"Programming_Language\"])\n",
    "println(\"Release Year: \", search_result[\"Year_Released\"])"
   ]
  },
  {
   "cell_type": "markdown",
   "id": "30f73eb7",
   "metadata": {},
   "source": [
    "----"
   ]
  },
  {
   "cell_type": "code",
   "execution_count": 126,
   "id": "61d4f725",
   "metadata": {},
   "outputs": [
    {
     "data": {
      "text/plain": [
       "count_programming_languages_by_release_year (generic function with 1 method)"
      ]
     },
     "execution_count": 126,
     "metadata": {},
     "output_type": "execute_result"
    }
   ],
   "source": [
    "# Create a function to count how many programming languages has beeen created in\n",
    "# a given year\n",
    "function count_programming_languages_by_release_year(year::Int)\n",
    "    temp_df = filter(:Year_Released => yr -> yr == year, df)\n",
    "    temp_dict = Dict(\n",
    "        \"Count\"                   =>  size(temp_df)[1],\n",
    "        \"Programming_Languages\"   =>  temp_df[!, 2]\n",
    "    )\n",
    "    return temp_dict\n",
    "end"
   ]
  },
  {
   "cell_type": "code",
   "execution_count": 127,
   "id": "be700648",
   "metadata": {},
   "outputs": [
    {
     "name": "stdout",
     "output_type": "stream",
     "text": [
      "Number of Programming Languages released in 1958: 2\n",
      "Programmin Languages List: String31[\"LISP\", \"ALGOL 58\"]\n"
     ]
    }
   ],
   "source": [
    "released_year = 1958\n",
    "search_result = count_programming_languages_by_release_year(released_year)\n",
    "\n",
    "println(\"Number of Programming Languages released in $released_year: \", search_result[\"Count\"])\n",
    "println(\"Programmin Languages List: \", search_result[\"Programming_Languages\"])"
   ]
  }
 ],
 "metadata": {
  "kernelspec": {
   "display_name": "Julia 1.8.5",
   "language": "julia",
   "name": "julia-1.8"
  },
  "language_info": {
   "file_extension": ".jl",
   "mimetype": "application/julia",
   "name": "julia",
   "version": "1.8.5"
  }
 },
 "nbformat": 4,
 "nbformat_minor": 5
}

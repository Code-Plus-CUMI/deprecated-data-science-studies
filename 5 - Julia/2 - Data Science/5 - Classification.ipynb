{
 "cells": [
  {
   "cell_type": "markdown",
   "id": "56ec3fc4",
   "metadata": {},
   "source": [
    "<h1 align=\"center\">---- Data Science ----</h1>"
   ]
  },
  {
   "cell_type": "markdown",
   "id": "ce91f029",
   "metadata": {},
   "source": [
    "----\n",
    "\n",
    "**0) Packages**"
   ]
  },
  {
   "cell_type": "code",
   "execution_count": 8,
   "id": "2fecc633",
   "metadata": {},
   "outputs": [
    {
     "name": "stderr",
     "output_type": "stream",
     "text": [
      "\u001b[32m\u001b[1m   Resolving\u001b[22m\u001b[39m package versions...\n",
      "\u001b[32m\u001b[1m  No Changes\u001b[22m\u001b[39m to `C:\\Users\\gabri\\.julia\\environments\\v1.8\\Project.toml`\n",
      "\u001b[32m\u001b[1m  No Changes\u001b[22m\u001b[39m to `C:\\Users\\gabri\\.julia\\environments\\v1.8\\Manifest.toml`\n",
      "\u001b[32m\u001b[1m   Resolving\u001b[22m\u001b[39m package versions...\n",
      "\u001b[32m\u001b[1m  No Changes\u001b[22m\u001b[39m to `C:\\Users\\gabri\\.julia\\environments\\v1.8\\Project.toml`\n",
      "\u001b[32m\u001b[1m  No Changes\u001b[22m\u001b[39m to `C:\\Users\\gabri\\.julia\\environments\\v1.8\\Manifest.toml`\n",
      "\u001b[32m\u001b[1m   Resolving\u001b[22m\u001b[39m package versions...\n",
      "\u001b[32m\u001b[1m  No Changes\u001b[22m\u001b[39m to `C:\\Users\\gabri\\.julia\\environments\\v1.8\\Project.toml`\n",
      "\u001b[32m\u001b[1m  No Changes\u001b[22m\u001b[39m to `C:\\Users\\gabri\\.julia\\environments\\v1.8\\Manifest.toml`\n",
      "\u001b[32m\u001b[1m   Resolving\u001b[22m\u001b[39m package versions...\n",
      "\u001b[32m\u001b[1m  No Changes\u001b[22m\u001b[39m to `C:\\Users\\gabri\\.julia\\environments\\v1.8\\Project.toml`\n",
      "\u001b[32m\u001b[1m  No Changes\u001b[22m\u001b[39m to `C:\\Users\\gabri\\.julia\\environments\\v1.8\\Manifest.toml`\n",
      "\u001b[32m\u001b[1m   Resolving\u001b[22m\u001b[39m package versions...\n",
      "\u001b[32m\u001b[1m  No Changes\u001b[22m\u001b[39m to `C:\\Users\\gabri\\.julia\\environments\\v1.8\\Project.toml`\n",
      "\u001b[32m\u001b[1m  No Changes\u001b[22m\u001b[39m to `C:\\Users\\gabri\\.julia\\environments\\v1.8\\Manifest.toml`\n",
      "\u001b[32m\u001b[1m   Resolving\u001b[22m\u001b[39m package versions...\n",
      "\u001b[32m\u001b[1m  No Changes\u001b[22m\u001b[39m to `C:\\Users\\gabri\\.julia\\environments\\v1.8\\Project.toml`\n",
      "\u001b[32m\u001b[1m  No Changes\u001b[22m\u001b[39m to `C:\\Users\\gabri\\.julia\\environments\\v1.8\\Manifest.toml`\n",
      "\u001b[32m\u001b[1m   Resolving\u001b[22m\u001b[39m package versions...\n",
      "\u001b[32m\u001b[1m    Updating\u001b[22m\u001b[39m `C:\\Users\\gabri\\.julia\\environments\\v1.8\\Project.toml`\n",
      " \u001b[90m [b8a86587] \u001b[39m\u001b[92m+ NearestNeighbors v0.4.13\u001b[39m\n",
      "\u001b[32m\u001b[1m  No Changes\u001b[22m\u001b[39m to `C:\\Users\\gabri\\.julia\\environments\\v1.8\\Manifest.toml`\n",
      "\u001b[32m\u001b[1m   Resolving\u001b[22m\u001b[39m package versions...\n",
      "\u001b[32m\u001b[1m  No Changes\u001b[22m\u001b[39m to `C:\\Users\\gabri\\.julia\\environments\\v1.8\\Project.toml`\n",
      "\u001b[32m\u001b[1m  No Changes\u001b[22m\u001b[39m to `C:\\Users\\gabri\\.julia\\environments\\v1.8\\Manifest.toml`\n",
      "\u001b[32m\u001b[1m   Resolving\u001b[22m\u001b[39m package versions...\n",
      "\u001b[32m\u001b[1m  No Changes\u001b[22m\u001b[39m to `C:\\Users\\gabri\\.julia\\environments\\v1.8\\Project.toml`\n",
      "\u001b[32m\u001b[1m  No Changes\u001b[22m\u001b[39m to `C:\\Users\\gabri\\.julia\\environments\\v1.8\\Manifest.toml`\n",
      "\u001b[32m\u001b[1m   Resolving\u001b[22m\u001b[39m package versions...\n",
      "\u001b[32m\u001b[1m    Updating\u001b[22m\u001b[39m `C:\\Users\\gabri\\.julia\\environments\\v1.8\\Project.toml`\n",
      " \u001b[90m [864edb3b] \u001b[39m\u001b[92m+ DataStructures v0.18.13\u001b[39m\n",
      "\u001b[32m\u001b[1m  No Changes\u001b[22m\u001b[39m to `C:\\Users\\gabri\\.julia\\environments\\v1.8\\Manifest.toml`\n",
      "\u001b[32m\u001b[1m   Resolving\u001b[22m\u001b[39m package versions...\n",
      "\u001b[32m\u001b[1m   Installed\u001b[22m\u001b[39m LLVMOpenMP_jll ─ v15.0.4+0\n",
      "\u001b[32m\u001b[1m   Installed\u001b[22m\u001b[39m libsvm_jll ───── v3.25.0+0\n",
      "\u001b[32m\u001b[1m   Installed\u001b[22m\u001b[39m LIBSVM ───────── v0.8.0\n",
      "\u001b[32m\u001b[1m   Installed\u001b[22m\u001b[39m LIBLINEAR ────── v0.6.0\n",
      "\u001b[32m\u001b[1m   Installed\u001b[22m\u001b[39m liblinear_jll ── v2.30.0+0\n",
      "\u001b[32m\u001b[1m    Updating\u001b[22m\u001b[39m `C:\\Users\\gabri\\.julia\\environments\\v1.8\\Project.toml`\n",
      " \u001b[90m [b1bec4e5] \u001b[39m\u001b[92m+ LIBSVM v0.8.0\u001b[39m\n",
      "\u001b[32m\u001b[1m    Updating\u001b[22m\u001b[39m `C:\\Users\\gabri\\.julia\\environments\\v1.8\\Manifest.toml`\n",
      " \u001b[90m [2d691ee1] \u001b[39m\u001b[92m+ LIBLINEAR v0.6.0\u001b[39m\n",
      " \u001b[90m [b1bec4e5] \u001b[39m\u001b[92m+ LIBSVM v0.8.0\u001b[39m\n",
      " \u001b[90m [1d63c593] \u001b[39m\u001b[92m+ LLVMOpenMP_jll v15.0.4+0\u001b[39m\n",
      " \u001b[90m [275f1f90] \u001b[39m\u001b[92m+ liblinear_jll v2.30.0+0\u001b[39m\n",
      " \u001b[90m [08558c22] \u001b[39m\u001b[92m+ libsvm_jll v3.25.0+0\u001b[39m\n",
      "\u001b[32m\u001b[1mPrecompiling\u001b[22m\u001b[39m project...\n",
      "\u001b[32m  ✓ \u001b[39m\u001b[90mLLVMOpenMP_jll\u001b[39m\n",
      "\u001b[32m  ✓ \u001b[39m\u001b[90mliblinear_jll\u001b[39m\n",
      "\u001b[32m  ✓ \u001b[39m\u001b[90mlibsvm_jll\u001b[39m\n",
      "\u001b[32m  ✓ \u001b[39m\u001b[90mLIBLINEAR\u001b[39m\n",
      "\u001b[32m  ✓ \u001b[39mLIBSVM\n",
      "  5 dependencies successfully precompiled in 4 seconds. 361 already precompiled. 5 skipped during auto due to previous errors.\n"
     ]
    }
   ],
   "source": [
    "using Pkg\n",
    "Pkg.add(\"GLMNet\")\n",
    "Pkg.add(\"RDatasets\")\n",
    "Pkg.add(\"MLBase\")\n",
    "Pkg.add(\"Plots\")\n",
    "Pkg.add(\"DecisionTree\")\n",
    "Pkg.add(\"Distances\")\n",
    "Pkg.add(\"NearestNeighbors\")\n",
    "Pkg.add(\"Random\")\n",
    "Pkg.add(\"LinearAlgebra\")\n",
    "Pkg.add(\"DataStructures\")\n",
    "Pkg.add(\"LIBSVM\")"
   ]
  },
  {
   "cell_type": "code",
   "execution_count": 1,
   "id": "c4abd51c",
   "metadata": {},
   "outputs": [],
   "source": [
    "using GLMNet\n",
    "using RDatasets\n",
    "using MLBase\n",
    "using Plots\n",
    "using DecisionTree\n",
    "using Distances\n",
    "using NearestNeighbors\n",
    "using Random\n",
    "using LinearAlgebra\n",
    "using DataStructures\n",
    "using LIBSVM"
   ]
  },
  {
   "cell_type": "markdown",
   "id": "9a558a96",
   "metadata": {},
   "source": [
    "----\n",
    "\n",
    "**1) Evaluation Metric**"
   ]
  },
  {
   "cell_type": "code",
   "execution_count": 19,
   "id": "f11f7786",
   "metadata": {},
   "outputs": [
    {
     "data": {
      "text/plain": [
       "find_accuracy (generic function with 1 method)"
      ]
     },
     "execution_count": 19,
     "metadata": {},
     "output_type": "execute_result"
    }
   ],
   "source": [
    "# Accuracy = sum(y' + y) / len(y)\n",
    "find_accuracy(predicted_y, real_y) = sum(predicted_y.==real_y)  / length(real_y)"
   ]
  },
  {
   "cell_type": "markdown",
   "id": "5bc6faae",
   "metadata": {},
   "source": [
    "----\n",
    "\n",
    "**2) Inspecting Dataset**"
   ]
  },
  {
   "cell_type": "code",
   "execution_count": 3,
   "id": "0c9a5e8a",
   "metadata": {},
   "outputs": [
    {
     "name": "stdout",
     "output_type": "stream",
     "text": [
      "Shape: (150, 5)\n",
      "Features: [\"SepalLength\", \"SepalWidth\", \"PetalLength\", \"PetalWidth\", \"Species\"]\n",
      "-*-*-*-*-\n"
     ]
    },
    {
     "data": {
      "text/html": [
       "<div><div style = \"float: left;\"><span>150×5 DataFrame</span></div><div style = \"float: right;\"><span style = \"font-style: italic;\">125 rows omitted</span></div><div style = \"clear: both;\"></div></div><div class = \"data-frame\" style = \"overflow-x: scroll;\"><table class = \"data-frame\" style = \"margin-bottom: 6px;\"><thead><tr class = \"header\"><th class = \"rowNumber\" style = \"font-weight: bold; text-align: right;\">Row</th><th style = \"text-align: left;\">SepalLength</th><th style = \"text-align: left;\">SepalWidth</th><th style = \"text-align: left;\">PetalLength</th><th style = \"text-align: left;\">PetalWidth</th><th style = \"text-align: left;\">Species</th></tr><tr class = \"subheader headerLastRow\"><th class = \"rowNumber\" style = \"font-weight: bold; text-align: right;\"></th><th title = \"Float64\" style = \"text-align: left;\">Float64</th><th title = \"Float64\" style = \"text-align: left;\">Float64</th><th title = \"Float64\" style = \"text-align: left;\">Float64</th><th title = \"Float64\" style = \"text-align: left;\">Float64</th><th title = \"CategoricalArrays.CategoricalValue{String, UInt8}\" style = \"text-align: left;\">Cat…</th></tr></thead><tbody><tr><td class = \"rowNumber\" style = \"font-weight: bold; text-align: right;\">1</td><td style = \"text-align: right;\">5.1</td><td style = \"text-align: right;\">3.5</td><td style = \"text-align: right;\">1.4</td><td style = \"text-align: right;\">0.2</td><td style = \"text-align: left;\">setosa</td></tr><tr><td class = \"rowNumber\" style = \"font-weight: bold; text-align: right;\">2</td><td style = \"text-align: right;\">4.9</td><td style = \"text-align: right;\">3.0</td><td style = \"text-align: right;\">1.4</td><td style = \"text-align: right;\">0.2</td><td style = \"text-align: left;\">setosa</td></tr><tr><td class = \"rowNumber\" style = \"font-weight: bold; text-align: right;\">3</td><td style = \"text-align: right;\">4.7</td><td style = \"text-align: right;\">3.2</td><td style = \"text-align: right;\">1.3</td><td style = \"text-align: right;\">0.2</td><td style = \"text-align: left;\">setosa</td></tr><tr><td class = \"rowNumber\" style = \"font-weight: bold; text-align: right;\">4</td><td style = \"text-align: right;\">4.6</td><td style = \"text-align: right;\">3.1</td><td style = \"text-align: right;\">1.5</td><td style = \"text-align: right;\">0.2</td><td style = \"text-align: left;\">setosa</td></tr><tr><td class = \"rowNumber\" style = \"font-weight: bold; text-align: right;\">5</td><td style = \"text-align: right;\">5.0</td><td style = \"text-align: right;\">3.6</td><td style = \"text-align: right;\">1.4</td><td style = \"text-align: right;\">0.2</td><td style = \"text-align: left;\">setosa</td></tr><tr><td class = \"rowNumber\" style = \"font-weight: bold; text-align: right;\">6</td><td style = \"text-align: right;\">5.4</td><td style = \"text-align: right;\">3.9</td><td style = \"text-align: right;\">1.7</td><td style = \"text-align: right;\">0.4</td><td style = \"text-align: left;\">setosa</td></tr><tr><td class = \"rowNumber\" style = \"font-weight: bold; text-align: right;\">7</td><td style = \"text-align: right;\">4.6</td><td style = \"text-align: right;\">3.4</td><td style = \"text-align: right;\">1.4</td><td style = \"text-align: right;\">0.3</td><td style = \"text-align: left;\">setosa</td></tr><tr><td class = \"rowNumber\" style = \"font-weight: bold; text-align: right;\">8</td><td style = \"text-align: right;\">5.0</td><td style = \"text-align: right;\">3.4</td><td style = \"text-align: right;\">1.5</td><td style = \"text-align: right;\">0.2</td><td style = \"text-align: left;\">setosa</td></tr><tr><td class = \"rowNumber\" style = \"font-weight: bold; text-align: right;\">9</td><td style = \"text-align: right;\">4.4</td><td style = \"text-align: right;\">2.9</td><td style = \"text-align: right;\">1.4</td><td style = \"text-align: right;\">0.2</td><td style = \"text-align: left;\">setosa</td></tr><tr><td class = \"rowNumber\" style = \"font-weight: bold; text-align: right;\">10</td><td style = \"text-align: right;\">4.9</td><td style = \"text-align: right;\">3.1</td><td style = \"text-align: right;\">1.5</td><td style = \"text-align: right;\">0.1</td><td style = \"text-align: left;\">setosa</td></tr><tr><td class = \"rowNumber\" style = \"font-weight: bold; text-align: right;\">11</td><td style = \"text-align: right;\">5.4</td><td style = \"text-align: right;\">3.7</td><td style = \"text-align: right;\">1.5</td><td style = \"text-align: right;\">0.2</td><td style = \"text-align: left;\">setosa</td></tr><tr><td class = \"rowNumber\" style = \"font-weight: bold; text-align: right;\">12</td><td style = \"text-align: right;\">4.8</td><td style = \"text-align: right;\">3.4</td><td style = \"text-align: right;\">1.6</td><td style = \"text-align: right;\">0.2</td><td style = \"text-align: left;\">setosa</td></tr><tr><td class = \"rowNumber\" style = \"font-weight: bold; text-align: right;\">13</td><td style = \"text-align: right;\">4.8</td><td style = \"text-align: right;\">3.0</td><td style = \"text-align: right;\">1.4</td><td style = \"text-align: right;\">0.1</td><td style = \"text-align: left;\">setosa</td></tr><tr><td style = \"text-align: right;\">&vellip;</td><td style = \"text-align: right;\">&vellip;</td><td style = \"text-align: right;\">&vellip;</td><td style = \"text-align: right;\">&vellip;</td><td style = \"text-align: right;\">&vellip;</td><td style = \"text-align: right;\">&vellip;</td></tr><tr><td class = \"rowNumber\" style = \"font-weight: bold; text-align: right;\">139</td><td style = \"text-align: right;\">6.0</td><td style = \"text-align: right;\">3.0</td><td style = \"text-align: right;\">4.8</td><td style = \"text-align: right;\">1.8</td><td style = \"text-align: left;\">virginica</td></tr><tr><td class = \"rowNumber\" style = \"font-weight: bold; text-align: right;\">140</td><td style = \"text-align: right;\">6.9</td><td style = \"text-align: right;\">3.1</td><td style = \"text-align: right;\">5.4</td><td style = \"text-align: right;\">2.1</td><td style = \"text-align: left;\">virginica</td></tr><tr><td class = \"rowNumber\" style = \"font-weight: bold; text-align: right;\">141</td><td style = \"text-align: right;\">6.7</td><td style = \"text-align: right;\">3.1</td><td style = \"text-align: right;\">5.6</td><td style = \"text-align: right;\">2.4</td><td style = \"text-align: left;\">virginica</td></tr><tr><td class = \"rowNumber\" style = \"font-weight: bold; text-align: right;\">142</td><td style = \"text-align: right;\">6.9</td><td style = \"text-align: right;\">3.1</td><td style = \"text-align: right;\">5.1</td><td style = \"text-align: right;\">2.3</td><td style = \"text-align: left;\">virginica</td></tr><tr><td class = \"rowNumber\" style = \"font-weight: bold; text-align: right;\">143</td><td style = \"text-align: right;\">5.8</td><td style = \"text-align: right;\">2.7</td><td style = \"text-align: right;\">5.1</td><td style = \"text-align: right;\">1.9</td><td style = \"text-align: left;\">virginica</td></tr><tr><td class = \"rowNumber\" style = \"font-weight: bold; text-align: right;\">144</td><td style = \"text-align: right;\">6.8</td><td style = \"text-align: right;\">3.2</td><td style = \"text-align: right;\">5.9</td><td style = \"text-align: right;\">2.3</td><td style = \"text-align: left;\">virginica</td></tr><tr><td class = \"rowNumber\" style = \"font-weight: bold; text-align: right;\">145</td><td style = \"text-align: right;\">6.7</td><td style = \"text-align: right;\">3.3</td><td style = \"text-align: right;\">5.7</td><td style = \"text-align: right;\">2.5</td><td style = \"text-align: left;\">virginica</td></tr><tr><td class = \"rowNumber\" style = \"font-weight: bold; text-align: right;\">146</td><td style = \"text-align: right;\">6.7</td><td style = \"text-align: right;\">3.0</td><td style = \"text-align: right;\">5.2</td><td style = \"text-align: right;\">2.3</td><td style = \"text-align: left;\">virginica</td></tr><tr><td class = \"rowNumber\" style = \"font-weight: bold; text-align: right;\">147</td><td style = \"text-align: right;\">6.3</td><td style = \"text-align: right;\">2.5</td><td style = \"text-align: right;\">5.0</td><td style = \"text-align: right;\">1.9</td><td style = \"text-align: left;\">virginica</td></tr><tr><td class = \"rowNumber\" style = \"font-weight: bold; text-align: right;\">148</td><td style = \"text-align: right;\">6.5</td><td style = \"text-align: right;\">3.0</td><td style = \"text-align: right;\">5.2</td><td style = \"text-align: right;\">2.0</td><td style = \"text-align: left;\">virginica</td></tr><tr><td class = \"rowNumber\" style = \"font-weight: bold; text-align: right;\">149</td><td style = \"text-align: right;\">6.2</td><td style = \"text-align: right;\">3.4</td><td style = \"text-align: right;\">5.4</td><td style = \"text-align: right;\">2.3</td><td style = \"text-align: left;\">virginica</td></tr><tr><td class = \"rowNumber\" style = \"font-weight: bold; text-align: right;\">150</td><td style = \"text-align: right;\">5.9</td><td style = \"text-align: right;\">3.0</td><td style = \"text-align: right;\">5.1</td><td style = \"text-align: right;\">1.8</td><td style = \"text-align: left;\">virginica</td></tr></tbody></table></div>"
      ],
      "text/latex": [
       "\\begin{tabular}{r|ccccc}\n",
       "\t& SepalLength & SepalWidth & PetalLength & PetalWidth & Species\\\\\n",
       "\t\\hline\n",
       "\t& Float64 & Float64 & Float64 & Float64 & Cat…\\\\\n",
       "\t\\hline\n",
       "\t1 & 5.1 & 3.5 & 1.4 & 0.2 & setosa \\\\\n",
       "\t2 & 4.9 & 3.0 & 1.4 & 0.2 & setosa \\\\\n",
       "\t3 & 4.7 & 3.2 & 1.3 & 0.2 & setosa \\\\\n",
       "\t4 & 4.6 & 3.1 & 1.5 & 0.2 & setosa \\\\\n",
       "\t5 & 5.0 & 3.6 & 1.4 & 0.2 & setosa \\\\\n",
       "\t6 & 5.4 & 3.9 & 1.7 & 0.4 & setosa \\\\\n",
       "\t7 & 4.6 & 3.4 & 1.4 & 0.3 & setosa \\\\\n",
       "\t8 & 5.0 & 3.4 & 1.5 & 0.2 & setosa \\\\\n",
       "\t9 & 4.4 & 2.9 & 1.4 & 0.2 & setosa \\\\\n",
       "\t10 & 4.9 & 3.1 & 1.5 & 0.1 & setosa \\\\\n",
       "\t11 & 5.4 & 3.7 & 1.5 & 0.2 & setosa \\\\\n",
       "\t12 & 4.8 & 3.4 & 1.6 & 0.2 & setosa \\\\\n",
       "\t13 & 4.8 & 3.0 & 1.4 & 0.1 & setosa \\\\\n",
       "\t14 & 4.3 & 3.0 & 1.1 & 0.1 & setosa \\\\\n",
       "\t15 & 5.8 & 4.0 & 1.2 & 0.2 & setosa \\\\\n",
       "\t16 & 5.7 & 4.4 & 1.5 & 0.4 & setosa \\\\\n",
       "\t17 & 5.4 & 3.9 & 1.3 & 0.4 & setosa \\\\\n",
       "\t18 & 5.1 & 3.5 & 1.4 & 0.3 & setosa \\\\\n",
       "\t19 & 5.7 & 3.8 & 1.7 & 0.3 & setosa \\\\\n",
       "\t20 & 5.1 & 3.8 & 1.5 & 0.3 & setosa \\\\\n",
       "\t21 & 5.4 & 3.4 & 1.7 & 0.2 & setosa \\\\\n",
       "\t22 & 5.1 & 3.7 & 1.5 & 0.4 & setosa \\\\\n",
       "\t23 & 4.6 & 3.6 & 1.0 & 0.2 & setosa \\\\\n",
       "\t24 & 5.1 & 3.3 & 1.7 & 0.5 & setosa \\\\\n",
       "\t25 & 4.8 & 3.4 & 1.9 & 0.2 & setosa \\\\\n",
       "\t26 & 5.0 & 3.0 & 1.6 & 0.2 & setosa \\\\\n",
       "\t27 & 5.0 & 3.4 & 1.6 & 0.4 & setosa \\\\\n",
       "\t28 & 5.2 & 3.5 & 1.5 & 0.2 & setosa \\\\\n",
       "\t29 & 5.2 & 3.4 & 1.4 & 0.2 & setosa \\\\\n",
       "\t30 & 4.7 & 3.2 & 1.6 & 0.2 & setosa \\\\\n",
       "\t$\\dots$ & $\\dots$ & $\\dots$ & $\\dots$ & $\\dots$ & $\\dots$ \\\\\n",
       "\\end{tabular}\n"
      ],
      "text/plain": [
       "\u001b[1m150×5 DataFrame\u001b[0m\n",
       "\u001b[1m Row \u001b[0m│\u001b[1m SepalLength \u001b[0m\u001b[1m SepalWidth \u001b[0m\u001b[1m PetalLength \u001b[0m\u001b[1m PetalWidth \u001b[0m\u001b[1m Species   \u001b[0m\n",
       "     │\u001b[90m Float64     \u001b[0m\u001b[90m Float64    \u001b[0m\u001b[90m Float64     \u001b[0m\u001b[90m Float64    \u001b[0m\u001b[90m Cat…      \u001b[0m\n",
       "─────┼─────────────────────────────────────────────────────────────\n",
       "   1 │         5.1         3.5          1.4         0.2  setosa\n",
       "   2 │         4.9         3.0          1.4         0.2  setosa\n",
       "   3 │         4.7         3.2          1.3         0.2  setosa\n",
       "   4 │         4.6         3.1          1.5         0.2  setosa\n",
       "   5 │         5.0         3.6          1.4         0.2  setosa\n",
       "   6 │         5.4         3.9          1.7         0.4  setosa\n",
       "   7 │         4.6         3.4          1.4         0.3  setosa\n",
       "   8 │         5.0         3.4          1.5         0.2  setosa\n",
       "   9 │         4.4         2.9          1.4         0.2  setosa\n",
       "  10 │         4.9         3.1          1.5         0.1  setosa\n",
       "  11 │         5.4         3.7          1.5         0.2  setosa\n",
       "  ⋮  │      ⋮           ⋮            ⋮           ⋮           ⋮\n",
       " 141 │         6.7         3.1          5.6         2.4  virginica\n",
       " 142 │         6.9         3.1          5.1         2.3  virginica\n",
       " 143 │         5.8         2.7          5.1         1.9  virginica\n",
       " 144 │         6.8         3.2          5.9         2.3  virginica\n",
       " 145 │         6.7         3.3          5.7         2.5  virginica\n",
       " 146 │         6.7         3.0          5.2         2.3  virginica\n",
       " 147 │         6.3         2.5          5.0         1.9  virginica\n",
       " 148 │         6.5         3.0          5.2         2.0  virginica\n",
       " 149 │         6.2         3.4          5.4         2.3  virginica\n",
       " 150 │         5.9         3.0          5.1         1.8  virginica\n",
       "\u001b[36m                                                   129 rows omitted\u001b[0m"
      ]
     },
     "execution_count": 3,
     "metadata": {},
     "output_type": "execute_result"
    }
   ],
   "source": [
    "df = dataset(\"datasets\", \"iris\")\n",
    "\n",
    "println(\"Shape: $(size(df))\")\n",
    "println(\"Features: $(names(df))\")\n",
    "println(\"-*-*-*-*-\")\n",
    "\n",
    "df"
   ]
  },
  {
   "cell_type": "code",
   "execution_count": 4,
   "id": "0a9987ea",
   "metadata": {},
   "outputs": [
    {
     "data": {
      "text/html": [
       "<div><div style = \"float: left;\"><span>5×7 DataFrame</span></div><div style = \"clear: both;\"></div></div><div class = \"data-frame\" style = \"overflow-x: scroll;\"><table class = \"data-frame\" style = \"margin-bottom: 6px;\"><thead><tr class = \"header\"><th class = \"rowNumber\" style = \"font-weight: bold; text-align: right;\">Row</th><th style = \"text-align: left;\">variable</th><th style = \"text-align: left;\">mean</th><th style = \"text-align: left;\">min</th><th style = \"text-align: left;\">median</th><th style = \"text-align: left;\">max</th><th style = \"text-align: left;\">nmissing</th><th style = \"text-align: left;\">eltype</th></tr><tr class = \"subheader headerLastRow\"><th class = \"rowNumber\" style = \"font-weight: bold; text-align: right;\"></th><th title = \"Symbol\" style = \"text-align: left;\">Symbol</th><th title = \"Union{Nothing, Float64}\" style = \"text-align: left;\">Union…</th><th title = \"Any\" style = \"text-align: left;\">Any</th><th title = \"Union{Nothing, Float64}\" style = \"text-align: left;\">Union…</th><th title = \"Any\" style = \"text-align: left;\">Any</th><th title = \"Int64\" style = \"text-align: left;\">Int64</th><th title = \"DataType\" style = \"text-align: left;\">DataType</th></tr></thead><tbody><tr><td class = \"rowNumber\" style = \"font-weight: bold; text-align: right;\">1</td><td style = \"text-align: left;\">SepalLength</td><td style = \"text-align: left;\">5.84333</td><td style = \"text-align: left;\">4.3</td><td style = \"text-align: left;\">5.8</td><td style = \"text-align: left;\">7.9</td><td style = \"text-align: right;\">0</td><td style = \"text-align: left;\">Float64</td></tr><tr><td class = \"rowNumber\" style = \"font-weight: bold; text-align: right;\">2</td><td style = \"text-align: left;\">SepalWidth</td><td style = \"text-align: left;\">3.05733</td><td style = \"text-align: left;\">2.0</td><td style = \"text-align: left;\">3.0</td><td style = \"text-align: left;\">4.4</td><td style = \"text-align: right;\">0</td><td style = \"text-align: left;\">Float64</td></tr><tr><td class = \"rowNumber\" style = \"font-weight: bold; text-align: right;\">3</td><td style = \"text-align: left;\">PetalLength</td><td style = \"text-align: left;\">3.758</td><td style = \"text-align: left;\">1.0</td><td style = \"text-align: left;\">4.35</td><td style = \"text-align: left;\">6.9</td><td style = \"text-align: right;\">0</td><td style = \"text-align: left;\">Float64</td></tr><tr><td class = \"rowNumber\" style = \"font-weight: bold; text-align: right;\">4</td><td style = \"text-align: left;\">PetalWidth</td><td style = \"text-align: left;\">1.19933</td><td style = \"text-align: left;\">0.1</td><td style = \"text-align: left;\">1.3</td><td style = \"text-align: left;\">2.5</td><td style = \"text-align: right;\">0</td><td style = \"text-align: left;\">Float64</td></tr><tr><td class = \"rowNumber\" style = \"font-weight: bold; text-align: right;\">5</td><td style = \"text-align: left;\">Species</td><td style = \"font-style: italic; text-align: left;\"></td><td style = \"text-align: left;\">setosa</td><td style = \"font-style: italic; text-align: left;\"></td><td style = \"text-align: left;\">virginica</td><td style = \"text-align: right;\">0</td><td style = \"text-align: left;\">CategoricalValue{String, UInt8}</td></tr></tbody></table></div>"
      ],
      "text/latex": [
       "\\begin{tabular}{r|ccccccc}\n",
       "\t& variable & mean & min & median & max & nmissing & eltype\\\\\n",
       "\t\\hline\n",
       "\t& Symbol & Union… & Any & Union… & Any & Int64 & DataType\\\\\n",
       "\t\\hline\n",
       "\t1 & SepalLength & 5.84333 & 4.3 & 5.8 & 7.9 & 0 & Float64 \\\\\n",
       "\t2 & SepalWidth & 3.05733 & 2.0 & 3.0 & 4.4 & 0 & Float64 \\\\\n",
       "\t3 & PetalLength & 3.758 & 1.0 & 4.35 & 6.9 & 0 & Float64 \\\\\n",
       "\t4 & PetalWidth & 1.19933 & 0.1 & 1.3 & 2.5 & 0 & Float64 \\\\\n",
       "\t5 & Species &  & setosa &  & virginica & 0 & CategoricalValue\\{String, UInt8\\} \\\\\n",
       "\\end{tabular}\n"
      ],
      "text/plain": [
       "\u001b[1m5×7 DataFrame\u001b[0m\n",
       "\u001b[1m Row \u001b[0m│\u001b[1m variable    \u001b[0m\u001b[1m mean    \u001b[0m\u001b[1m min    \u001b[0m\u001b[1m median \u001b[0m\u001b[1m max       \u001b[0m\u001b[1m nmissing \u001b[0m\u001b[1m eltype      \u001b[0m ⋯\n",
       "     │\u001b[90m Symbol      \u001b[0m\u001b[90m Union…  \u001b[0m\u001b[90m Any    \u001b[0m\u001b[90m Union… \u001b[0m\u001b[90m Any       \u001b[0m\u001b[90m Int64    \u001b[0m\u001b[90m DataType    \u001b[0m ⋯\n",
       "─────┼──────────────────────────────────────────────────────────────────────────\n",
       "   1 │ SepalLength  5.84333  4.3     5.8     7.9               0  Float64      ⋯\n",
       "   2 │ SepalWidth   3.05733  2.0     3.0     4.4               0  Float64\n",
       "   3 │ PetalLength  3.758    1.0     4.35    6.9               0  Float64\n",
       "   4 │ PetalWidth   1.19933  0.1     1.3     2.5               0  Float64\n",
       "   5 │ Species     \u001b[90m         \u001b[0m setosa \u001b[90m        \u001b[0m virginica         0  CategoricalV ⋯\n",
       "\u001b[36m                                                                1 column omitted\u001b[0m"
      ]
     },
     "execution_count": 4,
     "metadata": {},
     "output_type": "execute_result"
    }
   ],
   "source": [
    "describe(df)"
   ]
  },
  {
   "cell_type": "markdown",
   "id": "d13fa488",
   "metadata": {},
   "source": [
    "----\n",
    "\n",
    "**2) Preparing the Datas**"
   ]
  },
  {
   "cell_type": "code",
   "execution_count": 27,
   "id": "80baa8cb",
   "metadata": {},
   "outputs": [
    {
     "data": {
      "text/plain": [
       "150-element Vector{Int64}:\n",
       " 1\n",
       " 1\n",
       " 1\n",
       " 1\n",
       " 1\n",
       " 1\n",
       " 1\n",
       " 1\n",
       " 1\n",
       " 1\n",
       " 1\n",
       " 1\n",
       " 1\n",
       " ⋮\n",
       " 3\n",
       " 3\n",
       " 3\n",
       " 3\n",
       " 3\n",
       " 3\n",
       " 3\n",
       " 3\n",
       " 3\n",
       " 3\n",
       " 3\n",
       " 3"
      ]
     },
     "execution_count": 27,
     "metadata": {},
     "output_type": "execute_result"
    }
   ],
   "source": [
    "# Splitting up between feature (X) and target (y)\n",
    "X = Matrix(df[:, 1:4])\n",
    "\n",
    "labels = df[:, 5]\n",
    "labels_map = labelmap(labels)\n",
    "y = labelencode(labels_map, labels)"
   ]
  },
  {
   "cell_type": "code",
   "execution_count": 28,
   "id": "1b23b361",
   "metadata": {},
   "outputs": [
    {
     "data": {
      "text/plain": [
       "perclass_splits (generic function with 1 method)"
      ]
     },
     "execution_count": 28,
     "metadata": {},
     "output_type": "execute_result"
    }
   ],
   "source": [
    "# Function to split dataset into training and validation\n",
    "function perclass_splits(y, at)\n",
    "    uids = unique(y)\n",
    "    keepids = []\n",
    "    for ui in uids\n",
    "        curids = findall(y.==ui)\n",
    "        rowids = randsubseq(curids, at)\n",
    "        push!(keepids, rowids...)\n",
    "    end\n",
    "    return keepids\n",
    "end"
   ]
  },
  {
   "cell_type": "code",
   "execution_count": 29,
   "id": "cbc3b93b",
   "metadata": {},
   "outputs": [
    {
     "data": {
      "text/plain": [
       "46-element Vector{Any}:\n",
       "   3\n",
       "   8\n",
       "  10\n",
       "  12\n",
       "  14\n",
       "  17\n",
       "  20\n",
       "  27\n",
       "  29\n",
       "  31\n",
       "  45\n",
       "  46\n",
       "  49\n",
       "   ⋮\n",
       " 115\n",
       " 117\n",
       " 119\n",
       " 124\n",
       " 125\n",
       " 127\n",
       " 128\n",
       " 138\n",
       " 139\n",
       " 140\n",
       " 144\n",
       " 147"
      ]
     },
     "execution_count": 29,
     "metadata": {},
     "output_type": "execute_result"
    }
   ],
   "source": [
    "# Splitting up train and validation datasets\n",
    "train_df = perclass_splits(y, 0.7)\n",
    "valid_df = setdiff(1:length(y), train_df)"
   ]
  },
  {
   "cell_type": "code",
   "execution_count": 30,
   "id": "a6d10732",
   "metadata": {},
   "outputs": [
    {
     "data": {
      "text/plain": [
       "assign_class (generic function with 1 method)"
      ]
     },
     "execution_count": 30,
     "metadata": {},
     "output_type": "execute_result"
    }
   ],
   "source": [
    "# Function to convert predicted values into labels\n",
    "assign_class(predicted_value) = argmin(abs.(predicted_value .- [1, 2, 3]))"
   ]
  },
  {
   "cell_type": "markdown",
   "id": "569a3177",
   "metadata": {},
   "source": [
    "----\n",
    "\n",
    "**3.0) Lasso Method**"
   ]
  },
  {
   "cell_type": "code",
   "execution_count": 39,
   "id": "a16a1e10",
   "metadata": {},
   "outputs": [
    {
     "data": {
      "text/plain": [
       "Least Squares GLMNet Solution Path (1 solutions for 4 predictors in 79 passes):\n",
       "─────────────────────────────\n",
       "     df   pct_dev           λ\n",
       "─────────────────────────────\n",
       "[1]   4  0.940624  0.00106932\n",
       "─────────────────────────────"
      ]
     },
     "execution_count": 39,
     "metadata": {},
     "output_type": "execute_result"
    }
   ],
   "source": [
    "# training the model and choosing the best lambda to predict with\n",
    "path = glmnet(X[train_df, :], y[train_df]) # creating train df (X and y)\n",
    "cv = glmnetcv(X[train_df, :], y[train_df]) # creating cross-validation\n",
    "lambda = path.lambda[argmin(cv.meanloss)] # getting the best lambda, that is, the one with the smallest mean loss\n",
    "\n",
    "path = glmnet(X[train_df, :], y[train_df], lambda=[lambda]) # training the perfect model\n",
    "\n",
    "#=\n",
    "    \\ df >> best dataset used over cross-validation step\n",
    "    \\ pct_dev >> accuracy\n",
    "    \\ λ (lambda) >> mean loss score\n",
    "=#"
   ]
  },
  {
   "cell_type": "code",
   "execution_count": 40,
   "id": "760cf0e6",
   "metadata": {},
   "outputs": [
    {
     "data": {
      "text/plain": [
       "0.9782608695652174"
      ]
     },
     "execution_count": 40,
     "metadata": {},
     "output_type": "execute_result"
    }
   ],
   "source": [
    "# Making predictions, labelling the thm and getting the\n",
    "# validation accuracy\n",
    "q = X[valid_df, :];\n",
    "predictions_lasso = GLMNet.predict(path, q)\n",
    "\n",
    "class_predictions_lasso = assign_class.(predictions_lasso)\n",
    "find_accuracy(class_predictions_lasso, y[valid_df])"
   ]
  },
  {
   "cell_type": "markdown",
   "id": "cb315e67",
   "metadata": {},
   "source": [
    "----\n",
    "\n",
    "**3.1) Ridge Method**"
   ]
  },
  {
   "cell_type": "code",
   "execution_count": 42,
   "id": "1a0efb5e",
   "metadata": {},
   "outputs": [],
   "source": [
    "path = glmnet(X[train_df, :], y[train_df], alpha=0)\n",
    "cv = glmnetcv(X[train_df, :], y[train_df], alpha=0)\n",
    "lambda = path.lambda[argmin(cv.meanloss)]\n",
    "\n",
    "path = glmnet(X[train_df, :], y[train_df], alpha=0, lambda=[lambda]);"
   ]
  },
  {
   "cell_type": "code",
   "execution_count": 43,
   "id": "5ba50564",
   "metadata": {},
   "outputs": [
    {
     "data": {
      "text/plain": [
       "0.9782608695652174"
      ]
     },
     "execution_count": 43,
     "metadata": {},
     "output_type": "execute_result"
    }
   ],
   "source": [
    "q = X[valid_df, :]\n",
    "predictions_ridge = GLMNet.predict(path, q)\n",
    "class_predictions_ridge = assign_class.(predictions_ridge)\n",
    "\n",
    "find_accuracy(class_predictions_ridge, y[valid_df])"
   ]
  },
  {
   "cell_type": "markdown",
   "id": "2937dd65",
   "metadata": {},
   "source": [
    "----\n",
    "\n",
    "**3.2) Elastic Net Method**"
   ]
  },
  {
   "cell_type": "code",
   "execution_count": 44,
   "id": "b2a99151",
   "metadata": {},
   "outputs": [],
   "source": [
    "path = glmnet(X[train_df, :], y[train_df], alpha=0.5)\n",
    "cv = glmnetcv(X[train_df, :], y[train_df], alpha=0.5)\n",
    "lambda = path.lambda[argmin(cv.meanloss)]\n",
    "\n",
    "path = glmnet(X[train_df, :], y[train_df], alpha=0.5, lambda=[lambda]);"
   ]
  },
  {
   "cell_type": "code",
   "execution_count": 45,
   "id": "4e99e470",
   "metadata": {},
   "outputs": [
    {
     "data": {
      "text/plain": [
       "0.9782608695652174"
      ]
     },
     "execution_count": 45,
     "metadata": {},
     "output_type": "execute_result"
    }
   ],
   "source": [
    "q = X[valid_df, :]\n",
    "predictions_EN = GLMNet.predict(path, q)\n",
    "class_predictions_EN = assign_class.(predictions_ridge)\n",
    "\n",
    "find_accuracy(class_predictions_EN, y[valid_df])"
   ]
  },
  {
   "cell_type": "markdown",
   "id": "c2b81bc0",
   "metadata": {},
   "source": [
    "----\n",
    "\n",
    "**3.3) Decision Trees**"
   ]
  },
  {
   "cell_type": "code",
   "execution_count": 46,
   "id": "d6533eef",
   "metadata": {},
   "outputs": [
    {
     "data": {
      "text/plain": [
       "DecisionTreeClassifier\n",
       "max_depth:                2\n",
       "min_samples_leaf:         1\n",
       "min_samples_split:        2\n",
       "min_purity_increase:      0.0\n",
       "pruning_purity_threshold: 1.0\n",
       "n_subfeatures:            0\n",
       "classes:                  [1, 2, 3]\n",
       "root:                     Decision Tree\n",
       "Leaves: 3\n",
       "Depth:  2"
      ]
     },
     "execution_count": 46,
     "metadata": {},
     "output_type": "execute_result"
    }
   ],
   "source": [
    "# Creating and Training the model\n",
    "model = DecisionTreeClassifier(max_depth=2)\n",
    "DecisionTree.fit!(model, X[train_df, :], y[train_df])"
   ]
  },
  {
   "cell_type": "code",
   "execution_count": 47,
   "id": "c37bcc84",
   "metadata": {},
   "outputs": [
    {
     "data": {
      "text/plain": [
       "0.8913043478260869"
      ]
     },
     "execution_count": 47,
     "metadata": {},
     "output_type": "execute_result"
    }
   ],
   "source": [
    "q = X[valid_df, :]\n",
    "predictions_DT = DecisionTree.predict(model, q)\n",
    "find_accuracy(predictions_DT, y[valid_df])"
   ]
  },
  {
   "cell_type": "markdown",
   "id": "26ef937d",
   "metadata": {},
   "source": [
    "----\n",
    "\n",
    "**3.4) Random Forests**"
   ]
  },
  {
   "cell_type": "code",
   "execution_count": 49,
   "id": "a1e8caaa",
   "metadata": {},
   "outputs": [
    {
     "data": {
      "text/plain": [
       "RandomForestClassifier\n",
       "n_trees:             20\n",
       "n_subfeatures:       -1\n",
       "partial_sampling:    0.7\n",
       "max_depth:           -1\n",
       "min_samples_leaf:    1\n",
       "min_samples_split:   2\n",
       "min_purity_increase: 0.0\n",
       "classes:             [1, 2, 3]\n",
       "ensemble:            Ensemble of Decision Trees\n",
       "Trees:      20\n",
       "Avg Leaves: 5.15\n",
       "Avg Depth:  3.6"
      ]
     },
     "execution_count": 49,
     "metadata": {},
     "output_type": "execute_result"
    }
   ],
   "source": [
    "model = RandomForestClassifier(n_trees=20)\n",
    "DecisionTree.fit!(model, X[train_df, :], y[train_df])"
   ]
  },
  {
   "cell_type": "code",
   "execution_count": 50,
   "id": "b749abd9",
   "metadata": {},
   "outputs": [
    {
     "data": {
      "text/plain": [
       "0.9130434782608695"
      ]
     },
     "execution_count": 50,
     "metadata": {},
     "output_type": "execute_result"
    }
   ],
   "source": [
    "q = X[valid_df, :]\n",
    "predictions_RF = DecisionTree.predict(model, q)\n",
    "find_accuracy(predictions_RF, y[valid_df])"
   ]
  },
  {
   "cell_type": "markdown",
   "id": "5151be5c",
   "metadata": {},
   "source": [
    "----\n",
    "\n",
    "**3.5) Nearest Neighbor Method**"
   ]
  },
  {
   "cell_type": "code",
   "execution_count": 60,
   "id": "11188ab2",
   "metadata": {},
   "outputs": [
    {
     "data": {
      "text/plain": [
       "46×4 Matrix{Float64}:\n",
       " 4.7  3.2  1.3  0.2\n",
       " 5.0  3.4  1.5  0.2\n",
       " 4.9  3.1  1.5  0.1\n",
       " 4.8  3.4  1.6  0.2\n",
       " 4.3  3.0  1.1  0.1\n",
       " 5.4  3.9  1.3  0.4\n",
       " 5.1  3.8  1.5  0.3\n",
       " 5.0  3.4  1.6  0.4\n",
       " 5.2  3.4  1.4  0.2\n",
       " 4.8  3.1  1.6  0.2\n",
       " 5.1  3.8  1.9  0.4\n",
       " 4.8  3.0  1.4  0.3\n",
       " 5.3  3.7  1.5  0.2\n",
       " ⋮              \n",
       " 5.8  2.8  5.1  2.4\n",
       " 6.5  3.0  5.5  1.8\n",
       " 7.7  2.6  6.9  2.3\n",
       " 6.3  2.7  4.9  1.8\n",
       " 6.7  3.3  5.7  2.1\n",
       " 6.2  2.8  4.8  1.8\n",
       " 6.1  3.0  4.9  1.8\n",
       " 6.4  3.1  5.5  1.8\n",
       " 6.0  3.0  4.8  1.8\n",
       " 6.9  3.1  5.4  2.1\n",
       " 6.8  3.2  5.9  2.3\n",
       " 6.3  2.5  5.0  1.9"
      ]
     },
     "execution_count": 60,
     "metadata": {},
     "output_type": "execute_result"
    }
   ],
   "source": [
    "# Splitting up datas\n",
    "X_train = X[train_df, :]\n",
    "y_train = y[train_df]\n",
    "kdtree = KDTree(X_train')\n",
    "\n",
    "X_valid = X[valid_df, :]"
   ]
  },
  {
   "cell_type": "code",
   "execution_count": 61,
   "id": "bc63971c",
   "metadata": {},
   "outputs": [
    {
     "data": {
      "text/plain": [
       "([[36, 3, 9, 6, 33], [30, 1, 12, 4, 20], [25, 2, 9, 19, 21], [21, 18, 6, 30, 28], [29, 33, 7, 36, 3], [8, 24, 5, 15, 27], [15, 35, 4, 12, 1], [17, 34, 30, 12, 1], [20, 1, 30, 12, 31], [21, 25, 3, 19, 9]  …  [86, 73, 95, 75, 90], [93, 78, 102, 54, 46], [84, 79, 97, 72, 100], [93, 46, 104, 55, 50], [104, 50, 93, 42, 46], [71, 102, 88, 78, 77], [50, 104, 55, 46, 42], [79, 101, 98, 84, 97], [84, 100, 97, 72, 70], [78, 93, 99, 83, 102]], [[0.14142135623730978, 0.24494897427831802, 0.26457513110645897, 0.264575131106459, 0.2999999999999998], [0.09999999999999964, 0.17320508075688762, 0.1999999999999999, 0.22360679774997916, 0.22360679774997916], [0.1, 0.17320508075688784, 0.17320508075688815, 0.19999999999999993, 0.26457513110645925], [0.22360679774997858, 0.2999999999999998, 0.3000000000000002, 0.31622776601683783, 0.31622776601683833], [0.244948974278318, 0.31622776601683816, 0.34641016151377546, 0.4795831523312718, 0.519615242270663], [0.3464101615137753, 0.38729833462074176, 0.3999999999999999, 0.4123105625617664, 0.4582575694955838], [0.14142135623730928, 0.14142135623730956, 0.26457513110645875, 0.31622776601683783, 0.33166247903553986], [0.1999999999999998, 0.22360679774997896, 0.24494897427831772, 0.2645751311064591, 0.31622776601683794], [0.14142135623730964, 0.14142135623730995, 0.14142135623730995, 0.17320508075688806, 0.2645751311064592], [0.1414213562373093, 0.14142135623730995, 0.22360679774997916, 0.22360679774997916, 0.244948974278318]  …  [0.4123105625617659, 0.5477225575051664, 0.8944271909999164, 0.9273618495495707, 0.9643650760992959], [0.3741657386773937, 0.4242640687119281, 0.5099019513592783, 0.5196152422706634, 0.5291502622129183], [0.2999999999999998, 0.374165738677394, 0.374165738677394, 0.3872983346207416, 0.3999999999999999], [0.4358898943540672, 0.43588989435406755, 0.4690415759823428, 0.47958315233127197, 0.5000000000000001], [0.282842712474618, 0.2999999999999998, 0.4582575694955839, 0.45825756949558405, 0.4582575694955842], [0.24494897427831802, 0.3872983346207415, 0.4358898943540675, 0.45825756949558394, 0.46904157598234314], [0.22360679774997896, 0.31622776601683766, 0.4358898943540673, 0.43588989435406733, 0.47958315233127163], [0.1732050807568879, 0.360555127546399, 0.36055512754639935, 0.37416573867739383, 0.4123105625617657], [0.22360679774997935, 0.31622776601683794, 0.346410161513776, 0.3872983346207417, 0.4123105625617659], [0.3741657386773942, 0.5099019513592782, 0.5477225575051662, 0.5830951894845299, 0.5830951894845302]])"
      ]
     },
     "execution_count": 61,
     "metadata": {},
     "output_type": "execute_result"
    }
   ],
   "source": [
    "# Calculating Distances\n",
    "indexes, distances = knn(kdtree, X_valid', 5, true)"
   ]
  },
  {
   "cell_type": "code",
   "execution_count": 64,
   "id": "b7e3dfc0",
   "metadata": {},
   "outputs": [
    {
     "ename": "LoadError",
     "evalue": "ArgumentError: All column names must be either Symbols or strings (mixing is not allowed)",
     "output_type": "error",
     "traceback": [
      "ArgumentError: All column names must be either Symbols or strings (mixing is not allowed)",
      "",
      "Stacktrace:",
      " [1] DataFrame(d::Accumulator{Int64, Int64}; copycols::Bool)",
      "   @ DataFrames C:\\Users\\gabri\\.julia\\packages\\DataFrames\\LteEl\\src\\dataframe\\dataframe.jl:289",
      " [2] DataFrame(d::Accumulator{Int64, Int64})",
      "   @ DataFrames C:\\Users\\gabri\\.julia\\packages\\DataFrames\\LteEl\\src\\dataframe\\dataframe.jl:283",
      " [3] (::var\"#13#14\")(i::Int64)",
      "   @ Main .\\In[64]:4",
      " [4] iterate",
      "   @ .\\generator.jl:47 [inlined]",
      " [5] _collect(c::UnitRange{Int64}, itr::Base.Generator{UnitRange{Int64}, var\"#13#14\"}, #unused#::Base.EltypeUnknown, isz::Base.HasShape{1})",
      "   @ Base .\\array.jl:807",
      " [6] collect_similar(cont::UnitRange{Int64}, itr::Base.Generator{UnitRange{Int64}, var\"#13#14\"})",
      "   @ Base .\\array.jl:716",
      " [7] map(f::Function, A::UnitRange{Int64})",
      "   @ Base .\\abstractarray.jl:2933",
      " [8] top-level scope",
      "   @ In[64]:4"
     ]
    }
   ],
   "source": [
    "# Making Predictions\n",
    "c = y_train[hcat(indexes...)]\n",
    "possible_labels = map(i->counter(c[:, i]), 1:size(c,2))\n",
    "predictions_NN = map(i->parse(Int, string(argmax(DataFrame(possible_labels[i])[1,:]))), 1:size(c,2))\n",
    "\n",
    "find_accuracy(predictions_NN, y[valid_df])"
   ]
  }
 ],
 "metadata": {
  "kernelspec": {
   "display_name": "Julia 1.8.5",
   "language": "julia",
   "name": "julia-1.8"
  },
  "language_info": {
   "file_extension": ".jl",
   "mimetype": "application/julia",
   "name": "julia",
   "version": "1.8.5"
  }
 },
 "nbformat": 4,
 "nbformat_minor": 5
}

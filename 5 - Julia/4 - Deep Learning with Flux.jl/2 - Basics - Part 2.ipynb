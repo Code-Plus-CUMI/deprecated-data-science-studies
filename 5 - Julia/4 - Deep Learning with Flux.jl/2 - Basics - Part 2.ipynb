{
 "cells": [
  {
   "cell_type": "markdown",
   "id": "af345dde",
   "metadata": {},
   "source": [
    "<h1 align=\"center\">---- Flux ----</h1>"
   ]
  },
  {
   "cell_type": "markdown",
   "id": "5b8c2d21",
   "metadata": {},
   "source": [
    "----\n",
    "\n",
    "<b>0) Packages</b>"
   ]
  },
  {
   "cell_type": "code",
   "execution_count": null,
   "id": "bfcd2044",
   "metadata": {},
   "outputs": [],
   "source": [
    "# using Pkg; Pkg.add([\"Flux\", \"Plots\"])\n",
    "using Flux, Plots"
   ]
  },
  {
   "cell_type": "markdown",
   "id": "08860571",
   "metadata": {},
   "source": [
    "----\n",
    "\n",
    "<b>1) Plotting Activation Functions</b>"
   ]
  },
  {
   "cell_type": "code",
   "execution_count": 1,
   "id": "565ab128",
   "metadata": {},
   "outputs": [
    {
     "ename": "LoadError",
     "evalue": "syntax: invalid identifier name \"?\"",
     "output_type": "error",
     "traceback": [
      "syntax: invalid identifier name \"?\"",
      "",
      "Stacktrace:",
      " [1] top-level scope",
      "   @ In[1]:2"
     ]
    }
   ],
   "source": [
    "# \\sigma\n",
    "?σ"
   ]
  },
  {
   "cell_type": "code",
   "execution_count": null,
   "id": "7da07dc8",
   "metadata": {},
   "outputs": [],
   "source": [
    "plot(\n",
    "    σ, -5, 5, label=\"\\\\sigma\"\n",
    "    , xlabel=\"x\", ylabel=\"\\\\sigma(x\\\\)\"\n",
    ")"
   ]
  },
  {
   "cell_type": "markdown",
   "id": "8f677ba4",
   "metadata": {},
   "source": [
    "----\n",
    "\n",
    "<b>2) Models</b>"
   ]
  },
  {
   "cell_type": "code",
   "execution_count": 9,
   "id": "9cbebbf0",
   "metadata": {},
   "outputs": [
    {
     "ename": "LoadError",
     "evalue": "UndefVarError: Dense not defined",
     "output_type": "error",
     "traceback": [
      "UndefVarError: Dense not defined",
      "",
      "Stacktrace:",
      " [1] top-level scope",
      "   @ In[9]:6"
     ]
    }
   ],
   "source": [
    "# Dense\n",
    "#\n",
    "# \\ number of inputs\n",
    "# \\ number of outputs\n",
    "# \\ activation function\n",
    "model = Dense(2, 1, σ)\n",
    "\n",
    "println(\"Weights: $model.W\")\n",
    "println(\"Bias: $model.b\")"
   ]
  },
  {
   "cell_type": "code",
   "execution_count": 12,
   "id": "fc92be3b",
   "metadata": {},
   "outputs": [
    {
     "data": {
      "text/plain": [
       "100-element Vector{Float64}:\n",
       " 0.15195840222339796\n",
       " 0.9192675149160315\n",
       " 0.5150655825929561\n",
       " 0.7872415995416927\n",
       " 0.7547004246292889\n",
       " 0.012343513377002457\n",
       " 0.2672591308381901\n",
       " 0.5567073038201084\n",
       " 0.9930054484844429\n",
       " 0.12549439161865572\n",
       " 0.10363333887231974\n",
       " 0.5535642538624576\n",
       " 0.1598333845371097\n",
       " ⋮\n",
       " 0.33185731060199675\n",
       " 0.7341567380549696\n",
       " 0.20899815124527388\n",
       " 0.08716839666618448\n",
       " 0.44931823363229384\n",
       " 0.6925826275138927\n",
       " 0.08631108791496778\n",
       " 0.47318323914082894\n",
       " 0.42898156937770004\n",
       " 0.36789813981348785\n",
       " 0.24095752833822082\n",
       " 0.4165827746682872"
      ]
     },
     "execution_count": 12,
     "metadata": {},
     "output_type": "execute_result"
    }
   ],
   "source": [
    "# Doing a kick off evaluation\n",
    "real_prediction = 5\n",
    "\n",
    "evaluation = model([1, 2])\n",
    "loss = Flux.mse(model([1, 2]), real_prediction)"
   ]
  },
  {
   "cell_type": "code",
   "execution_count": null,
   "id": "c07965de",
   "metadata": {},
   "outputs": [],
   "source": [
    "# Backpropagation\n",
    "L(x,y) = Flux.mse(model(x), y)\n",
    "opt = SGD(params(model))\n",
    "Flux.train!(L, zip(tain_x, train_y), opt)"
   ]
  }
 ],
 "metadata": {
  "kernelspec": {
   "display_name": "Julia 1.8.5",
   "language": "julia",
   "name": "julia-1.8"
  },
  "language_info": {
   "file_extension": ".jl",
   "mimetype": "application/julia",
   "name": "julia",
   "version": "1.8.5"
  }
 },
 "nbformat": 4,
 "nbformat_minor": 5
}

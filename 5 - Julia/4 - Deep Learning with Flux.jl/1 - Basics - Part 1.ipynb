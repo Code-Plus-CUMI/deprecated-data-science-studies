{
 "cells": [
  {
   "cell_type": "markdown",
   "id": "78016788",
   "metadata": {},
   "source": [
    "<h1 align=\"center\">---- Flux ----</h1>\n",
    "\n",
    "Flux is a package like `Tensor Flow` and `Keras` in Python designed to create Deep Learning models.\n",
    "\n",
    "In this notebook, you will learn how to create, train and make predictions with simple models."
   ]
  },
  {
   "cell_type": "markdown",
   "id": "604db5c4",
   "metadata": {},
   "source": [
    "----\n",
    "\n",
    "<b>0) Packages</b>"
   ]
  },
  {
   "cell_type": "code",
   "execution_count": null,
   "id": "773d43dd",
   "metadata": {},
   "outputs": [],
   "source": [
    "using Pkg\n",
    "Pkg.add(\"Flux\")"
   ]
  },
  {
   "cell_type": "code",
   "execution_count": null,
   "id": "398f9d52",
   "metadata": {},
   "outputs": [],
   "source": [
    "using Flux"
   ]
  },
  {
   "cell_type": "markdown",
   "id": "bf8c5264",
   "metadata": {},
   "source": [
    "----\n",
    "\n",
    "<b>1) Creating Simple Models</b>"
   ]
  },
  {
   "cell_type": "code",
   "execution_count": null,
   "id": "da81391e",
   "metadata": {},
   "outputs": [],
   "source": [
    "# One Layer Model\n",
    "one_layer_model = Dense(\n",
    "    1    # number of inputs\n",
    "    , 1  # number of outputs\n",
    ")\n",
    "\n",
    "println(\"Weights: $one_layer_model.weight\")\n",
    "println(\"Bias: $one_layer_model.bias\")"
   ]
  },
  {
   "cell_type": "code",
   "execution_count": null,
   "id": "af316079",
   "metadata": {},
   "outputs": [],
   "source": [
    "# Multiple Layers Model (using Chaing function to stack layers)\n",
    "layer1 = Dense(1, 1)\n",
    "layer2 = Dense(1, 1)\n",
    "\n",
    "multiple_layers_model = Chain(layer1, layer2)"
   ]
  },
  {
   "cell_type": "markdown",
   "id": "ef211a75",
   "metadata": {},
   "source": [
    "----\n",
    "\n",
    "<b>2) Convolutional Model Example: Analising Images</b>"
   ]
  },
  {
   "cell_type": "code",
   "execution_count": null,
   "id": "57466374",
   "metadata": {},
   "outputs": [],
   "source": [
    "# Creating Convolutional Layer\n",
    "layer1 = Dense(1, 1)\n",
    "layer2 = Conv(\n",
    "    (5, 5)    # filter step, in pixels, to analyse images\n",
    "    , 3 => 7  # number of inputs => number of outputs\n",
    "    , relu    # activation function\n",
    ")"
   ]
  },
  {
   "cell_type": "code",
   "execution_count": null,
   "id": "eee0e944",
   "metadata": {},
   "outputs": [],
   "source": [
    "# Creating Fake Datas\n",
    "fake_data = rand(\n",
    "    Float32 # datatype\n",
    "    , 100   # number of rows\n",
    "    , 100   # number of columns\n",
    "    , 3     # three channels of color (RGB)\n",
    "    , 50    # number of elements for each row\n",
    ")"
   ]
  },
  {
   "cell_type": "code",
   "execution_count": null,
   "id": "8d26a3f3",
   "metadata": {},
   "outputs": [],
   "source": [
    "# Using the layer to make predictions\n",
    "layer2(fake_data)"
   ]
  }
 ],
 "metadata": {
  "kernelspec": {
   "display_name": "Julia 1.8.5",
   "language": "julia",
   "name": "julia-1.8"
  },
  "language_info": {
   "file_extension": ".jl",
   "mimetype": "application/julia",
   "name": "julia",
   "version": "1.8.5"
  }
 },
 "nbformat": 4,
 "nbformat_minor": 5
}

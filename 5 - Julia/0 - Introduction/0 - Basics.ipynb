{
 "cells": [
  {
   "cell_type": "markdown",
   "id": "dfb7f420",
   "metadata": {},
   "source": [
    "<h1 align=\"center\">Julia Introduction</h1>\n",
    "\n",
    "</br>\n",
    "\n",
    "> Main Topics\n",
    "\n",
    "```\n",
    "- Basics\n",
    "- Strings\n",
    "- Data Structures\n",
    "```\n",
    "\n",
    "</br>\n",
    "\n",
    "----"
   ]
  },
  {
   "cell_type": "markdown",
   "id": "13def222",
   "metadata": {},
   "source": [
    "<h2>---- Basics ----</h2>\n",
    "\n",
    "</br>\n",
    "\n",
    "> Topics\n",
    "\n",
    "```\n",
    "- Variables, Printing and Comments\n",
    "- Concatenation\n",
    "- Simple Math\n",
    "- Convertions\n",
    "```\n",
    "\n",
    "</br>\n",
    "\n",
    "----"
   ]
  },
  {
   "cell_type": "markdown",
   "id": "37f58f26",
   "metadata": {},
   "source": [
    "<b>- Variables, Printing and Comments</b>"
   ]
  },
  {
   "cell_type": "code",
   "execution_count": 1,
   "id": "312fbcda",
   "metadata": {},
   "outputs": [
    {
     "name": "stdout",
     "output_type": "stream",
     "text": [
      "Hello World, Julia!\n",
      "Hello World Again, Julia!"
     ]
    }
   ],
   "source": [
    "# println >> prints a line and adds a \\n at the end\n",
    "# print   >> just prints a line without adding a \\n at the end\n",
    "println(\"Hello World, Julia!\")\n",
    "print(\"Hello World Again, Julia!\")"
   ]
  },
  {
   "cell_type": "markdown",
   "id": "0b04c947",
   "metadata": {},
   "source": [
    "----"
   ]
  },
  {
   "cell_type": "code",
   "execution_count": 2,
   "id": "c296c2a3",
   "metadata": {},
   "outputs": [
    {
     "data": {
      "text/plain": [
       "Nothing"
      ]
     },
     "execution_count": 2,
     "metadata": {},
     "output_type": "execute_result"
    }
   ],
   "source": [
    "my_null = nothing\n",
    "typeof(my_null)"
   ]
  },
  {
   "cell_type": "code",
   "execution_count": 68,
   "id": "5b1f0dda",
   "metadata": {},
   "outputs": [
    {
     "data": {
      "text/plain": [
       "Bool"
      ]
     },
     "execution_count": 68,
     "metadata": {},
     "output_type": "execute_result"
    }
   ],
   "source": [
    "my_bool1 = true\n",
    "typeof(my_bool1)"
   ]
  },
  {
   "cell_type": "code",
   "execution_count": 69,
   "id": "77401b43",
   "metadata": {},
   "outputs": [
    {
     "data": {
      "text/plain": [
       "Bool"
      ]
     },
     "execution_count": 69,
     "metadata": {},
     "output_type": "execute_result"
    }
   ],
   "source": [
    "my_bool2 = false\n",
    "typeof(my_bool2)"
   ]
  },
  {
   "cell_type": "code",
   "execution_count": 2,
   "id": "454fd077",
   "metadata": {},
   "outputs": [
    {
     "data": {
      "text/plain": [
       "Int64"
      ]
     },
     "execution_count": 2,
     "metadata": {},
     "output_type": "execute_result"
    }
   ],
   "source": [
    "my_integer = 42\n",
    "typeof(my_integer)"
   ]
  },
  {
   "cell_type": "code",
   "execution_count": 3,
   "id": "3370c186",
   "metadata": {},
   "outputs": [
    {
     "data": {
      "text/plain": [
       "Float64"
      ]
     },
     "execution_count": 3,
     "metadata": {},
     "output_type": "execute_result"
    }
   ],
   "source": [
    "my_float = 3.14159\n",
    "typeof(my_float)"
   ]
  },
  {
   "cell_type": "code",
   "execution_count": 4,
   "id": "6197e248",
   "metadata": {},
   "outputs": [
    {
     "data": {
      "text/plain": [
       "String"
      ]
     },
     "execution_count": 4,
     "metadata": {},
     "output_type": "execute_result"
    }
   ],
   "source": [
    "my_string = \"hello world\"\n",
    "typeof(my_string)"
   ]
  },
  {
   "cell_type": "code",
   "execution_count": 25,
   "id": "90656897",
   "metadata": {},
   "outputs": [
    {
     "data": {
      "text/plain": [
       "Char"
      ]
     },
     "execution_count": 25,
     "metadata": {},
     "output_type": "execute_result"
    }
   ],
   "source": [
    "my_char = 'a'\n",
    "typeof(my_char)"
   ]
  },
  {
   "cell_type": "code",
   "execution_count": 5,
   "id": "fc8cb37f",
   "metadata": {},
   "outputs": [
    {
     "name": "stderr",
     "output_type": "stream",
     "text": [
      "WARNING: redefinition of constant my_const. This may fail, cause incorrect answers, or produce other errors.\n"
     ]
    },
    {
     "data": {
      "text/plain": [
       "\"you cannot reassign a value to a constant\""
      ]
     },
     "execution_count": 5,
     "metadata": {},
     "output_type": "execute_result"
    }
   ],
   "source": [
    "const my_const = \"hello world again\"\n",
    "my_const = \"you cannot reassign a value to a constant\""
   ]
  },
  {
   "cell_type": "code",
   "execution_count": 6,
   "id": "62028db4",
   "metadata": {},
   "outputs": [
    {
     "data": {
      "text/plain": [
       "String"
      ]
     },
     "execution_count": 6,
     "metadata": {},
     "output_type": "execute_result"
    }
   ],
   "source": [
    "😄 = \"Dunno why, but you can use emojis as variables names\"\n",
    "typeof(😄)"
   ]
  },
  {
   "cell_type": "markdown",
   "id": "e10340c1",
   "metadata": {},
   "source": [
    "----"
   ]
  },
  {
   "cell_type": "code",
   "execution_count": 7,
   "id": "57a8aa82",
   "metadata": {},
   "outputs": [],
   "source": [
    "# this is a simple comment"
   ]
  },
  {
   "cell_type": "code",
   "execution_count": 8,
   "id": "ae74b6af",
   "metadata": {},
   "outputs": [],
   "source": [
    "#=\n",
    "\n",
    "This is a multi-line\n",
    "comment\n",
    "\n",
    "=#"
   ]
  },
  {
   "cell_type": "markdown",
   "id": "f172c73d",
   "metadata": {},
   "source": [
    "----"
   ]
  },
  {
   "cell_type": "markdown",
   "id": "01cc4a1a",
   "metadata": {},
   "source": [
    "<b>- Concatenation</b>"
   ]
  },
  {
   "cell_type": "code",
   "execution_count": 9,
   "id": "3c08fef3",
   "metadata": {},
   "outputs": [
    {
     "ename": "LoadError",
     "evalue": "MethodError: no method matching +(::String, ::String)\n\u001b[0mClosest candidates are:\n\u001b[0m  +(::Any, ::Any, \u001b[91m::Any\u001b[39m, \u001b[91m::Any...\u001b[39m) at operators.jl:591",
     "output_type": "error",
     "traceback": [
      "MethodError: no method matching +(::String, ::String)\n\u001b[0mClosest candidates are:\n\u001b[0m  +(::Any, ::Any, \u001b[91m::Any\u001b[39m, \u001b[91m::Any...\u001b[39m) at operators.jl:591",
      "",
      "Stacktrace:",
      " [1] top-level scope",
      "   @ In[9]:2"
     ]
    }
   ],
   "source": [
    "# Do not do \"Str1\" + \"Str2\". Use \"*\" operator instead\n",
    "\"a\" + \"b\" # throws an error"
   ]
  },
  {
   "cell_type": "code",
   "execution_count": 10,
   "id": "a91a94c2",
   "metadata": {},
   "outputs": [
    {
     "data": {
      "text/plain": [
       "\"ab\""
      ]
     },
     "execution_count": 10,
     "metadata": {},
     "output_type": "execute_result"
    }
   ],
   "source": [
    "\"a\" * \"b\" # all right!"
   ]
  },
  {
   "cell_type": "markdown",
   "id": "b6fcd252",
   "metadata": {},
   "source": [
    "----"
   ]
  },
  {
   "cell_type": "markdown",
   "id": "acdca1e2",
   "metadata": {},
   "source": [
    "<b>- Simple Math</b>"
   ]
  },
  {
   "cell_type": "code",
   "execution_count": 11,
   "id": "6084062c",
   "metadata": {},
   "outputs": [
    {
     "data": {
      "text/plain": [
       "10"
      ]
     },
     "execution_count": 11,
     "metadata": {},
     "output_type": "execute_result"
    }
   ],
   "source": [
    "addition = 3 + 7"
   ]
  },
  {
   "cell_type": "code",
   "execution_count": 12,
   "id": "f83dc0f5",
   "metadata": {},
   "outputs": [
    {
     "data": {
      "text/plain": [
       "-4"
      ]
     },
     "execution_count": 12,
     "metadata": {},
     "output_type": "execute_result"
    }
   ],
   "source": [
    "subtraction = 3 - 7"
   ]
  },
  {
   "cell_type": "code",
   "execution_count": 13,
   "id": "190c88ad",
   "metadata": {},
   "outputs": [
    {
     "data": {
      "text/plain": [
       "21"
      ]
     },
     "execution_count": 13,
     "metadata": {},
     "output_type": "execute_result"
    }
   ],
   "source": [
    "multiplication = 3 * 7"
   ]
  },
  {
   "cell_type": "code",
   "execution_count": 14,
   "id": "68267355",
   "metadata": {},
   "outputs": [
    {
     "data": {
      "text/plain": [
       "0.42857142857142855"
      ]
     },
     "execution_count": 14,
     "metadata": {},
     "output_type": "execute_result"
    }
   ],
   "source": [
    "quocient_division = 3 / 7"
   ]
  },
  {
   "cell_type": "code",
   "execution_count": 15,
   "id": "027b1583",
   "metadata": {},
   "outputs": [
    {
     "data": {
      "text/plain": [
       "2187"
      ]
     },
     "execution_count": 15,
     "metadata": {},
     "output_type": "execute_result"
    }
   ],
   "source": [
    "power = 3 ^ 7"
   ]
  },
  {
   "cell_type": "code",
   "execution_count": 16,
   "id": "4ee834ac",
   "metadata": {},
   "outputs": [
    {
     "data": {
      "text/plain": [
       "3"
      ]
     },
     "execution_count": 16,
     "metadata": {},
     "output_type": "execute_result"
    }
   ],
   "source": [
    "modulus = 3 % 7"
   ]
  },
  {
   "cell_type": "markdown",
   "id": "7d7bd945",
   "metadata": {},
   "source": [
    "----"
   ]
  },
  {
   "cell_type": "code",
   "execution_count": 17,
   "id": "63d360d8",
   "metadata": {},
   "outputs": [
    {
     "data": {
      "text/plain": [
       "π = 3.1415926535897..."
      ]
     },
     "execution_count": 17,
     "metadata": {},
     "output_type": "execute_result"
    }
   ],
   "source": [
    "# Pi\n",
    "pi"
   ]
  },
  {
   "cell_type": "code",
   "execution_count": 18,
   "id": "9d6061f1",
   "metadata": {},
   "outputs": [
    {
     "data": {
      "text/plain": [
       "π = 3.1415926535897..."
      ]
     },
     "execution_count": 18,
     "metadata": {},
     "output_type": "execute_result"
    }
   ],
   "source": [
    "# Retrieves the last mathematical result\n",
    "ans"
   ]
  },
  {
   "cell_type": "markdown",
   "id": "78a90c27",
   "metadata": {},
   "source": [
    "----"
   ]
  },
  {
   "cell_type": "markdown",
   "id": "16de7c39",
   "metadata": {},
   "source": [
    "<b>- Convertions</b>"
   ]
  },
  {
   "cell_type": "code",
   "execution_count": 19,
   "id": "f415a7fa",
   "metadata": {},
   "outputs": [
    {
     "data": {
      "text/plain": [
       "5"
      ]
     },
     "execution_count": 19,
     "metadata": {},
     "output_type": "execute_result"
    }
   ],
   "source": [
    "# String to Integer\n",
    "parse(Int64, \"5\")"
   ]
  },
  {
   "cell_type": "code",
   "execution_count": 20,
   "id": "789b03d1",
   "metadata": {},
   "outputs": [
    {
     "data": {
      "text/plain": [
       "5.0"
      ]
     },
     "execution_count": 20,
     "metadata": {},
     "output_type": "execute_result"
    }
   ],
   "source": [
    "# String to Float\n",
    "parse(Float64, \"5\")"
   ]
  },
  {
   "cell_type": "code",
   "execution_count": 21,
   "id": "556e533a",
   "metadata": {},
   "outputs": [
    {
     "data": {
      "text/plain": [
       "\"5\""
      ]
     },
     "execution_count": 21,
     "metadata": {},
     "output_type": "execute_result"
    }
   ],
   "source": [
    "# Integer to String\n",
    "string(5)"
   ]
  },
  {
   "cell_type": "code",
   "execution_count": 22,
   "id": "708e509b",
   "metadata": {},
   "outputs": [
    {
     "data": {
      "text/plain": [
       "\"5.75\""
      ]
     },
     "execution_count": 22,
     "metadata": {},
     "output_type": "execute_result"
    }
   ],
   "source": [
    "# Float to String\n",
    "string(5.75)"
   ]
  },
  {
   "cell_type": "code",
   "execution_count": 23,
   "id": "fa2cc59a",
   "metadata": {},
   "outputs": [
    {
     "data": {
      "text/plain": [
       "5"
      ]
     },
     "execution_count": 23,
     "metadata": {},
     "output_type": "execute_result"
    }
   ],
   "source": [
    "# Float to Integer\n",
    "floor(Int, 5.75)"
   ]
  },
  {
   "cell_type": "code",
   "execution_count": 24,
   "id": "3aa06eec",
   "metadata": {},
   "outputs": [
    {
     "data": {
      "text/plain": [
       "5.0"
      ]
     },
     "execution_count": 24,
     "metadata": {},
     "output_type": "execute_result"
    }
   ],
   "source": [
    "# Integer to Float\n",
    "float(5)"
   ]
  },
  {
   "cell_type": "markdown",
   "id": "7abd7f00",
   "metadata": {},
   "source": [
    "----\n",
    "\n",
    "<h2>---- Strings ----</h2>"
   ]
  },
  {
   "cell_type": "code",
   "execution_count": 27,
   "id": "726c3ff2",
   "metadata": {},
   "outputs": [
    {
     "name": "stdout",
     "output_type": "stream",
     "text": [
      "Hello World"
     ]
    }
   ],
   "source": [
    "# Concatenation 1\n",
    "string1 = \"Hello\"\n",
    "string2 = \"World\"\n",
    "\n",
    "print(string1 * \" \" * string2)"
   ]
  },
  {
   "cell_type": "code",
   "execution_count": 28,
   "id": "46ce8782",
   "metadata": {},
   "outputs": [
    {
     "name": "stdout",
     "output_type": "stream",
     "text": [
      "Hello World"
     ]
    }
   ],
   "source": [
    "# Concatenation 2\n",
    "print(\"$string1 $string2\")"
   ]
  },
  {
   "cell_type": "code",
   "execution_count": 31,
   "id": "fec084b7",
   "metadata": {},
   "outputs": [
    {
     "name": "stdout",
     "output_type": "stream",
     "text": [
      "2 times 5 is equals 25!!"
     ]
    }
   ],
   "source": [
    "# Concatenation 3\n",
    "number1 = \"2\"\n",
    "number2 = \"5\"\n",
    "\n",
    "print(\"$number1 times $number2 is equals $(number1 * number2)!!\")"
   ]
  },
  {
   "cell_type": "markdown",
   "id": "f2e70458",
   "metadata": {},
   "source": [
    "----\n",
    "\n",
    "<h2>---- Data Structures ----</h2>"
   ]
  },
  {
   "cell_type": "markdown",
   "id": "098f7302",
   "metadata": {},
   "source": [
    "<b>1) Dictionaries</b>"
   ]
  },
  {
   "cell_type": "code",
   "execution_count": 45,
   "id": "fca11547",
   "metadata": {},
   "outputs": [
    {
     "data": {
      "text/plain": [
       "Dict{String, String} with 2 entries:\n",
       "  \"Demon Slayer\" => \"Tomioka\"\n",
       "  \"Dragon Ball\"  => \"Son Gohan\""
      ]
     },
     "execution_count": 45,
     "metadata": {},
     "output_type": "execute_result"
    }
   ],
   "source": [
    "# Creating a new dict\n",
    "my_dict = Dict(\n",
    "    \"Dragon Ball\"     => \"Son Gohan\"\n",
    "    , \"Demon Slayer\"  => \"Tomioka\"\n",
    ")"
   ]
  },
  {
   "cell_type": "code",
   "execution_count": 33,
   "id": "23336543",
   "metadata": {},
   "outputs": [
    {
     "data": {
      "text/plain": [
       "\"Joseph Joeestar\""
      ]
     },
     "execution_count": 33,
     "metadata": {},
     "output_type": "execute_result"
    }
   ],
   "source": [
    "# Adding a new Key,Value\n",
    "my_dict[\"JoJo\"] = \"Joseph Joeestar\""
   ]
  },
  {
   "cell_type": "code",
   "execution_count": 34,
   "id": "324d08e4",
   "metadata": {},
   "outputs": [
    {
     "name": "stdout",
     "output_type": "stream",
     "text": [
      "Dict(\"JoJo\" => \"Joseph Joeestar\", \"Demon Slayer\" => \"Tomioka\", \"Dragon Ball\" => \"Son Gohan\")"
     ]
    }
   ],
   "source": [
    "# Printing the Whole Dict\n",
    "print(my_dict)"
   ]
  },
  {
   "cell_type": "code",
   "execution_count": 35,
   "id": "118fdae1",
   "metadata": {},
   "outputs": [
    {
     "name": "stdout",
     "output_type": "stream",
     "text": [
      "Joseph Joeestar"
     ]
    }
   ],
   "source": [
    "# Printing a Single Value\n",
    "print(my_dict[\"JoJo\"])"
   ]
  },
  {
   "cell_type": "code",
   "execution_count": 36,
   "id": "f596d3d3",
   "metadata": {},
   "outputs": [
    {
     "data": {
      "text/plain": [
       "\"Son Gohan\""
      ]
     },
     "execution_count": 36,
     "metadata": {},
     "output_type": "execute_result"
    }
   ],
   "source": [
    "# Getting a value and deleting it from the dict\n",
    "# simultaneously\n",
    "pop!(my_dict, \"Dragon Ball\")"
   ]
  },
  {
   "cell_type": "code",
   "execution_count": 37,
   "id": "e8f433da",
   "metadata": {},
   "outputs": [
    {
     "name": "stdout",
     "output_type": "stream",
     "text": [
      "Dict(\"JoJo\" => \"Joseph Joeestar\", \"Demon Slayer\" => \"Tomioka\")"
     ]
    }
   ],
   "source": [
    "# Cheking out the dict\n",
    "print(my_dict)"
   ]
  },
  {
   "cell_type": "code",
   "execution_count": 40,
   "id": "93eddb6c",
   "metadata": {},
   "outputs": [
    {
     "ename": "LoadError",
     "evalue": "KeyError: key 1 not found",
     "output_type": "error",
     "traceback": [
      "KeyError: key 1 not found",
      "",
      "Stacktrace:",
      " [1] getindex(h::Dict{String, String}, key::Int64)",
      "   @ Base .\\dict.jl:498",
      " [2] top-level scope",
      "   @ In[40]:3"
     ]
    }
   ],
   "source": [
    "# You cannot use indexes with dicts\n",
    "# It will throws an error\n",
    "print(my_dict[1])"
   ]
  },
  {
   "cell_type": "markdown",
   "id": "c6d0a8b6",
   "metadata": {},
   "source": [
    "----\n",
    "\n",
    "<b>2) Tuples</b>"
   ]
  },
  {
   "cell_type": "code",
   "execution_count": 41,
   "id": "12aa82aa",
   "metadata": {},
   "outputs": [
    {
     "data": {
      "text/plain": [
       "(\"Son Gohan\", \"Joseph Joestar\", \"Giyu Tomioka\")"
      ]
     },
     "execution_count": 41,
     "metadata": {},
     "output_type": "execute_result"
    }
   ],
   "source": [
    "# Creeating a new Tupple\n",
    "my_tupple = (\"Son Gohan\", \"Joseph Joestar\", \"Giyu Tomioka\")"
   ]
  },
  {
   "cell_type": "code",
   "execution_count": 42,
   "id": "dc5b5391",
   "metadata": {},
   "outputs": [
    {
     "data": {
      "text/plain": [
       "\"Son Gohan\""
      ]
     },
     "execution_count": 42,
     "metadata": {},
     "output_type": "execute_result"
    }
   ],
   "source": [
    "# Getting an elemnt\n",
    "my_tupple[1] # yeeah guy, the indexes start from 1 in Julia..."
   ]
  },
  {
   "cell_type": "code",
   "execution_count": 43,
   "id": "3c6c2dee",
   "metadata": {},
   "outputs": [
    {
     "ename": "LoadError",
     "evalue": "MethodError: no method matching setindex!(::Tuple{String, String, String}, ::String, ::Int64)",
     "output_type": "error",
     "traceback": [
      "MethodError: no method matching setindex!(::Tuple{String, String, String}, ::String, ::Int64)",
      "",
      "Stacktrace:",
      " [1] top-level scope",
      "   @ In[43]:2"
     ]
    }
   ],
   "source": [
    "# You cannot change tupples values\n",
    "my_tupple[1] = \"Broly\""
   ]
  },
  {
   "cell_type": "markdown",
   "id": "676c1586",
   "metadata": {},
   "source": [
    "----\n",
    "\n",
    "<b>3) Arrays</b>"
   ]
  },
  {
   "cell_type": "code",
   "execution_count": 46,
   "id": "a754e326",
   "metadata": {},
   "outputs": [
    {
     "data": {
      "text/plain": [
       "3-element Vector{String}:\n",
       " \"Son Gohan\"\n",
       " \"Giyu Tomioka\"\n",
       " \"Joseph Joestar\""
      ]
     },
     "execution_count": 46,
     "metadata": {},
     "output_type": "execute_result"
    }
   ],
   "source": [
    "# Creating a new array\n",
    "my_array = [\"Son Gohan\", \"Giyu Tomioka\", \"Joseph Joestar\"]"
   ]
  },
  {
   "cell_type": "code",
   "execution_count": 47,
   "id": "a58fd01d",
   "metadata": {},
   "outputs": [
    {
     "data": {
      "text/plain": [
       "\"Giyu Tomioka\""
      ]
     },
     "execution_count": 47,
     "metadata": {},
     "output_type": "execute_result"
    }
   ],
   "source": [
    "# Getting an Element\n",
    "my_array[2]"
   ]
  },
  {
   "cell_type": "code",
   "execution_count": 48,
   "id": "22ceaef2",
   "metadata": {},
   "outputs": [
    {
     "data": {
      "text/plain": [
       "\"Broly\""
      ]
     },
     "execution_count": 48,
     "metadata": {},
     "output_type": "execute_result"
    }
   ],
   "source": [
    "# Changing a Value\n",
    "my_array[1] = \"Broly\""
   ]
  },
  {
   "cell_type": "code",
   "execution_count": 49,
   "id": "bfeae7d3",
   "metadata": {},
   "outputs": [
    {
     "data": {
      "text/plain": [
       "4-element Vector{String}:\n",
       " \"Broly\"\n",
       " \"Giyu Tomioka\"\n",
       " \"Joseph Joestar\"\n",
       " \"Midorya\""
      ]
     },
     "execution_count": 49,
     "metadata": {},
     "output_type": "execute_result"
    }
   ],
   "source": [
    "# Adding a New Element in the End\n",
    "push!(my_array, \"Midorya\")"
   ]
  },
  {
   "cell_type": "code",
   "execution_count": 56,
   "id": "6838caa2",
   "metadata": {},
   "outputs": [
    {
     "data": {
      "text/plain": [
       "5-element Vector{String}:\n",
       " \"Broly\"\n",
       " \"Giyu Tomioka\"\n",
       " \"Joseph Joestar\"\n",
       " \"Levi\"\n",
       " \"King\""
      ]
     },
     "execution_count": 56,
     "metadata": {},
     "output_type": "execute_result"
    }
   ],
   "source": [
    "# Adding more elements in the End\n",
    "push!(my_array, \"Levi\", \"King\")"
   ]
  },
  {
   "cell_type": "code",
   "execution_count": 50,
   "id": "28d70df1",
   "metadata": {},
   "outputs": [
    {
     "data": {
      "text/plain": [
       "\"Midorya\""
      ]
     },
     "execution_count": 50,
     "metadata": {},
     "output_type": "execute_result"
    }
   ],
   "source": [
    "# Deleting the last element\n",
    "pop!(my_array)"
   ]
  },
  {
   "cell_type": "code",
   "execution_count": 52,
   "id": "181be712",
   "metadata": {},
   "outputs": [
    {
     "data": {
      "text/plain": [
       "1×2 Matrix{Float64}:\n",
       " 0.289987  0.422446"
      ]
     },
     "execution_count": 52,
     "metadata": {},
     "output_type": "execute_result"
    }
   ],
   "source": [
    "# Creating a random multi-dimensional array\n",
    "rand(1, 2)"
   ]
  },
  {
   "cell_type": "code",
   "execution_count": 53,
   "id": "ec89d3c7",
   "metadata": {},
   "outputs": [
    {
     "data": {
      "text/plain": [
       "2×2 Matrix{Float64}:\n",
       " 0.324547  0.313218\n",
       " 0.496036  0.75301"
      ]
     },
     "execution_count": 53,
     "metadata": {},
     "output_type": "execute_result"
    }
   ],
   "source": [
    "rand(2, 2)"
   ]
  },
  {
   "cell_type": "code",
   "execution_count": 54,
   "id": "990ae1a5",
   "metadata": {},
   "outputs": [
    {
     "data": {
      "text/plain": [
       "3×4×5 Array{Float64, 3}:\n",
       "[:, :, 1] =\n",
       " 0.583182  0.436061  0.191474  0.844967\n",
       " 0.533269  0.599859  0.15122   0.726626\n",
       " 0.424316  0.158449  0.252591  0.436083\n",
       "\n",
       "[:, :, 2] =\n",
       " 0.209069  0.921531  0.797179  0.360004\n",
       " 0.379038  0.966754  0.336069  0.952579\n",
       " 0.130137  0.795059  0.520042  0.463048\n",
       "\n",
       "[:, :, 3] =\n",
       " 0.22141   0.634862  0.246007   0.396561\n",
       " 0.839932  0.998151  0.442637   0.133679\n",
       " 0.321996  0.890397  0.0997657  0.443505\n",
       "\n",
       "[:, :, 4] =\n",
       " 0.0289659  0.196815  0.645269  0.576521\n",
       " 0.479875   0.326686  0.419945  0.397132\n",
       " 0.659632   0.828771  0.309346  0.690135\n",
       "\n",
       "[:, :, 5] =\n",
       " 0.506747  0.774507  0.409214  0.225668\n",
       " 0.538873  0.936249  0.339577  0.00973742\n",
       " 0.353143  0.80567   0.546404  0.439953"
      ]
     },
     "execution_count": 54,
     "metadata": {},
     "output_type": "execute_result"
    }
   ],
   "source": [
    "rand(3, 4, 5)"
   ]
  },
  {
   "cell_type": "code",
   "execution_count": 55,
   "id": "e5034253",
   "metadata": {},
   "outputs": [
    {
     "data": {
      "text/plain": [
       "3×3×3×3 Array{Float64, 4}:\n",
       "[:, :, 1, 1] =\n",
       " 0.258781  0.534321  0.868729\n",
       " 0.54207   0.736511  0.227073\n",
       " 0.309265  0.72661   0.289023\n",
       "\n",
       "[:, :, 2, 1] =\n",
       " 0.654474  0.558389  0.776221\n",
       " 0.823403  0.228593  0.348566\n",
       " 0.677061  0.181834  0.915591\n",
       "\n",
       "[:, :, 3, 1] =\n",
       " 0.759365  0.845011  0.137134\n",
       " 0.701503  0.884788  0.165702\n",
       " 0.256919  0.027112  0.859872\n",
       "\n",
       "[:, :, 1, 2] =\n",
       " 0.957802  0.539355  0.428501\n",
       " 0.758876  0.563567  0.869047\n",
       " 0.526478  0.376149  0.691874\n",
       "\n",
       "[:, :, 2, 2] =\n",
       " 0.951537  0.892188  0.856303\n",
       " 0.826569  0.937119  0.760486\n",
       " 0.109097  0.56733   0.881412\n",
       "\n",
       "[:, :, 3, 2] =\n",
       " 0.258719  0.8126    0.414196\n",
       " 0.459101  0.77789   0.25954\n",
       " 0.512242  0.760666  0.582628\n",
       "\n",
       "[:, :, 1, 3] =\n",
       " 0.519451   0.824215  0.25702\n",
       " 0.0745692  0.409978  0.547743\n",
       " 0.650494   0.548362  0.336597\n",
       "\n",
       "[:, :, 2, 3] =\n",
       " 0.86368   0.151144  0.74844\n",
       " 0.461951  0.906512  0.674842\n",
       " 0.233089  0.818154  0.434254\n",
       "\n",
       "[:, :, 3, 3] =\n",
       " 0.12551   0.322018  0.362092\n",
       " 0.81807   0.236712  0.925705\n",
       " 0.189553  0.109016  0.767397"
      ]
     },
     "execution_count": 55,
     "metadata": {},
     "output_type": "execute_result"
    }
   ],
   "source": [
    "rand(3, 3, 3, 3)"
   ]
  },
  {
   "cell_type": "code",
   "execution_count": 57,
   "id": "31e994ce",
   "metadata": {},
   "outputs": [
    {
     "data": {
      "text/plain": [
       "2×2 Matrix{Float64}:\n",
       " 0.0  0.0\n",
       " 0.0  0.0"
      ]
     },
     "execution_count": 57,
     "metadata": {},
     "output_type": "execute_result"
    }
   ],
   "source": [
    "# Creating array with zeros\n",
    "zeros(2,2)"
   ]
  },
  {
   "cell_type": "code",
   "execution_count": 1,
   "id": "84a4831a",
   "metadata": {},
   "outputs": [
    {
     "data": {
      "text/plain": [
       "2×2 Matrix{Float64}:\n",
       " 1.0  1.0\n",
       " 1.0  1.0"
      ]
     },
     "execution_count": 1,
     "metadata": {},
     "output_type": "execute_result"
    }
   ],
   "source": [
    "# Creating array with ones\n",
    "ones(2, 2)"
   ]
  },
  {
   "cell_type": "code",
   "execution_count": 62,
   "id": "090fe65f",
   "metadata": {},
   "outputs": [
    {
     "data": {
      "text/plain": [
       "3×3 Matrix{Int64}:\n",
       " 2  3  4\n",
       " 3  4  5\n",
       " 4  5  6"
      ]
     },
     "execution_count": 62,
     "metadata": {},
     "output_type": "execute_result"
    }
   ],
   "source": [
    "# Creating arrays comprehension\n",
    "rows = 3\n",
    "columns = 3\n",
    "my_array = [i + j for i in 1:rows, j in 1:columns]"
   ]
  }
 ],
 "metadata": {
  "kernelspec": {
   "display_name": "Julia 1.8.5",
   "language": "julia",
   "name": "julia-1.8"
  },
  "language_info": {
   "file_extension": ".jl",
   "mimetype": "application/julia",
   "name": "julia",
   "version": "1.8.5"
  }
 },
 "nbformat": 4,
 "nbformat_minor": 5
}

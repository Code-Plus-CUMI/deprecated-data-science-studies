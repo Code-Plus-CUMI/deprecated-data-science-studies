{
 "cells": [
  {
   "cell_type": "markdown",
   "id": "300ad3a3",
   "metadata": {},
   "source": [
    "<h1 align=\"center\">---- Data Science ----</h1>"
   ]
  },
  {
   "cell_type": "markdown",
   "id": "8aeb5e32",
   "metadata": {},
   "source": [
    "`POMDPs` is a Julia Package that helps Data Scientists to formulate problems and take better decision to solve them."
   ]
  }
 ],
 "metadata": {
  "kernelspec": {
   "display_name": "Julia 1.8.5",
   "language": "julia",
   "name": "julia-1.8"
  },
  "language_info": {
   "file_extension": ".jl",
   "mimetype": "application/julia",
   "name": "julia",
   "version": "1.8.5"
  }
 },
 "nbformat": 4,
 "nbformat_minor": 5
}

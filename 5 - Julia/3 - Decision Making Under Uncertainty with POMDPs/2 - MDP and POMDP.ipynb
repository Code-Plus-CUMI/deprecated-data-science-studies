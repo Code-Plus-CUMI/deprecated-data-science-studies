{
 "cells": [
  {
   "cell_type": "markdown",
   "id": "7ef589ce",
   "metadata": {},
   "source": [
    "<h1 align=\"center\">---- Data Science ----</h1>"
   ]
  },
  {
   "cell_type": "markdown",
   "id": "d131ea21",
   "metadata": {},
   "source": [
    "----\n",
    "\n",
    "**0) Markov Decision Process (MDP)**\n",
    "\n",
    "> Elements\n",
    "\n",
    "```\n",
    "\\ State Space (S): all available outcomes (POMDPs.states)\n",
    "\\ Action Space (A): all actions available to change the states (POMDPs.actions)\n",
    "\n",
    "\\ Transition Function (T or P): function that allows the action A change the state S (POMDPs.transition)\n",
    "\\ Reward Function (R): weights for each combination of action-state (POMDPs.reward)\n",
    "\n",
    "\\ Discount Factor (Y): best actions combination to change states (POMDPs.discount)\n",
    "```"
   ]
  },
  {
   "cell_type": "markdown",
   "id": "d5c24f3e",
   "metadata": {},
   "source": [
    "----\n",
    "\n",
    "**1) Partially Observable Markov Decision Process (POMDP)**\n",
    "\n",
    "> Elements\n",
    "\n",
    "```\n",
    "\\ State Space (S): all available outcomes (POMDPs.states)\n",
    "\\ Action Space (A): all actions available to change the states (POMDPs.actions)\n",
    "\\ Observation Space (OO): set of all possible observations to change the states (POMDPs.observations)\n",
    "\n",
    "\\ Transition Function (T or P): function that allows the action A change the state S (POMDPs.transition)\n",
    "\\ Reward Function (R): weights for each combination of action-state (POMDPs.reward)\n",
    "\\ Observation Function (O): function that returns the probability distribution of each possible outcome from Observation Space (POMDPs.observation)\n",
    "\n",
    "\\ Discount Factor (Y): best actions combination to change states (POMDPs.discount)\n",
    "```"
   ]
  }
 ],
 "metadata": {
  "kernelspec": {
   "display_name": "Julia 1.8.5",
   "language": "julia",
   "name": "julia-1.8"
  },
  "language_info": {
   "file_extension": ".jl",
   "mimetype": "application/julia",
   "name": "julia",
   "version": "1.8.5"
  }
 },
 "nbformat": 4,
 "nbformat_minor": 5
}

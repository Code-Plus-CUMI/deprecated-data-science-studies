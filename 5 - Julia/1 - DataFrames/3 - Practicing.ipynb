{
 "cells": [
  {
   "cell_type": "markdown",
   "id": "0dcc432a",
   "metadata": {},
   "source": [
    "<h1 align=\"center\">---- DataFrames ----</h1>"
   ]
  },
  {
   "cell_type": "markdown",
   "id": "83796ceb",
   "metadata": {},
   "source": [
    "----\n",
    "\n",
    "<b>0) Packages</b>"
   ]
  },
  {
   "cell_type": "code",
   "execution_count": 1,
   "id": "a168186c",
   "metadata": {},
   "outputs": [
    {
     "name": "stderr",
     "output_type": "stream",
     "text": [
      "\u001b[32m\u001b[1m    Updating\u001b[22m\u001b[39m registry at `C:\\Users\\gabri\\.julia\\registries\\General.toml`\n",
      "\u001b[32m\u001b[1m   Resolving\u001b[22m\u001b[39m package versions...\n",
      "\u001b[32m\u001b[1m    Updating\u001b[22m\u001b[39m `C:\\Users\\gabri\\.julia\\environments\\v1.8\\Project.toml`\n",
      " \u001b[90m [9a3f8284] \u001b[39m\u001b[92m+ Random\u001b[39m\n",
      "\u001b[32m\u001b[1m  No Changes\u001b[22m\u001b[39m to `C:\\Users\\gabri\\.julia\\environments\\v1.8\\Manifest.toml`\n"
     ]
    }
   ],
   "source": [
    "using Pkg\n",
    "Pkg.add(\"Random\")"
   ]
  },
  {
   "cell_type": "code",
   "execution_count": 10,
   "id": "7e5194dc",
   "metadata": {},
   "outputs": [],
   "source": [
    "using DataFrames  # dataframe manipulations\n",
    "using Statistics  # stats calculations\n",
    "using Random      # random numbers\n",
    "using Pipe        # pipes functions"
   ]
  },
  {
   "cell_type": "code",
   "execution_count": 20,
   "id": "ea9f8c6a",
   "metadata": {},
   "outputs": [],
   "source": [
    "Random.seed!(2022); # seed!!"
   ]
  },
  {
   "cell_type": "markdown",
   "id": "a95e96cb",
   "metadata": {},
   "source": [
    "----\n",
    "\n",
    "<b>1 - Playing with Random Functions</b>"
   ]
  },
  {
   "cell_type": "code",
   "execution_count": 41,
   "id": "66e17b81",
   "metadata": {},
   "outputs": [
    {
     "data": {
      "text/plain": [
       "randomArray (generic function with 1 method)"
      ]
     },
     "execution_count": 41,
     "metadata": {},
     "output_type": "execute_result"
    }
   ],
   "source": [
    "# Creating a function to generate n random numbers\n",
    "# between 1 and 100\n",
    "#\n",
    "# @time allows you to see how much time it takes\n",
    "# to run\n",
    "function randomArray(number_elements)\n",
    "    array = Float64[]\n",
    "    \n",
    "    @time for element in 1:number_elements\n",
    "        push!(array, rand(1:100))\n",
    "    end\n",
    "    \n",
    "    return array\n",
    "end"
   ]
  },
  {
   "cell_type": "code",
   "execution_count": 42,
   "id": "a23e44ab",
   "metadata": {},
   "outputs": [
    {
     "name": "stdout",
     "output_type": "stream",
     "text": [
      "  0.000002 seconds (1 allocation: 80 bytes)\n"
     ]
    },
    {
     "data": {
      "text/plain": [
       "3-element Vector{Float64}:\n",
       " 90.0\n",
       " 82.0\n",
       "  9.0"
      ]
     },
     "execution_count": 42,
     "metadata": {},
     "output_type": "execute_result"
    }
   ],
   "source": [
    "# Generating a simple one row array\n",
    "my_array_1 = randomArray(3)"
   ]
  },
  {
   "cell_type": "code",
   "execution_count": 43,
   "id": "43539d2f",
   "metadata": {},
   "outputs": [
    {
     "name": "stdout",
     "output_type": "stream",
     "text": [
      "  0.000002 seconds (1 allocation: 80 bytes)\n",
      "  0.000000 seconds (1 allocation: 80 bytes)\n",
      "  0.000001 seconds (1 allocation: 80 bytes)\n",
      "  0.000001 seconds (1 allocation: 80 bytes)\n",
      "  0.000000 seconds (1 allocation: 80 bytes)\n"
     ]
    },
    {
     "data": {
      "text/plain": [
       "5-element Vector{Vector{Float64}}:\n",
       " [47.0, 43.0, 6.0]\n",
       " [3.0, 99.0, 61.0]\n",
       " [15.0, 20.0, 96.0]\n",
       " [72.0, 86.0, 45.0]\n",
       " [10.0, 59.0, 3.0]"
      ]
     },
     "execution_count": 43,
     "metadata": {},
     "output_type": "execute_result"
    }
   ],
   "source": [
    "# Generating a simple multiple rows array\n",
    "my_array_2 = [randomArray(3) for _ in 1:5]"
   ]
  },
  {
   "cell_type": "code",
   "execution_count": 44,
   "id": "04960bdf",
   "metadata": {},
   "outputs": [
    {
     "data": {
      "text/plain": [
       "5-element Vector{Float64}:\n",
       "  90.0\n",
       " 102.0\n",
       "  35.0\n",
       " 158.0\n",
       "  69.0"
      ]
     },
     "execution_count": 44,
     "metadata": {},
     "output_type": "execute_result"
    }
   ],
   "source": [
    "# Calculating the sum for each row in my_array_2\n",
    "# and subtracting from the last element of this row\n",
    "@. sum(my_array_2) - last(my_array_2)"
   ]
  }
 ],
 "metadata": {
  "kernelspec": {
   "display_name": "Julia 1.8.5",
   "language": "julia",
   "name": "julia-1.8"
  },
  "language_info": {
   "file_extension": ".jl",
   "mimetype": "application/julia",
   "name": "julia",
   "version": "1.8.5"
  }
 },
 "nbformat": 4,
 "nbformat_minor": 5
}

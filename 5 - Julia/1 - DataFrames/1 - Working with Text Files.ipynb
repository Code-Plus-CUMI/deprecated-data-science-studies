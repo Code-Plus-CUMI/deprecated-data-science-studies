{
 "cells": [
  {
   "cell_type": "markdown",
   "id": "4b1e2b91",
   "metadata": {},
   "source": [
    "<h1 align=\"center\">---- DataFrames ----</h1>"
   ]
  },
  {
   "cell_type": "markdown",
   "id": "c375957e",
   "metadata": {},
   "source": [
    "----\n",
    "\n",
    "<b>0) Packages</b>"
   ]
  },
  {
   "cell_type": "code",
   "execution_count": 1,
   "id": "034c03b5",
   "metadata": {},
   "outputs": [
    {
     "name": "stderr",
     "output_type": "stream",
     "text": [
      "\u001b[32m\u001b[1m    Updating\u001b[22m\u001b[39m registry at `C:\\Users\\gabri\\.julia\\registries\\General.toml`\n",
      "\u001b[32m\u001b[1m   Resolving\u001b[22m\u001b[39m package versions...\n",
      "\u001b[32m\u001b[1m   Installed\u001b[22m\u001b[39m FilePathsBase ─── v0.9.20\n",
      "\u001b[32m\u001b[1m   Installed\u001b[22m\u001b[39m WeakRefStrings ── v1.4.2\n",
      "\u001b[32m\u001b[1m   Installed\u001b[22m\u001b[39m WorkerUtilities ─ v1.6.1\n",
      "\u001b[32m\u001b[1m   Installed\u001b[22m\u001b[39m CSV ───────────── v0.10.9\n",
      "\u001b[32m\u001b[1m    Updating\u001b[22m\u001b[39m `C:\\Users\\gabri\\.julia\\environments\\v1.8\\Project.toml`\n",
      " \u001b[90m [336ed68f] \u001b[39m\u001b[92m+ CSV v0.10.9\u001b[39m\n",
      "\u001b[32m\u001b[1m    Updating\u001b[22m\u001b[39m `C:\\Users\\gabri\\.julia\\environments\\v1.8\\Manifest.toml`\n",
      " \u001b[90m [336ed68f] \u001b[39m\u001b[92m+ CSV v0.10.9\u001b[39m\n",
      " \u001b[90m [48062228] \u001b[39m\u001b[92m+ FilePathsBase v0.9.20\u001b[39m\n",
      " \u001b[90m [ea10d353] \u001b[39m\u001b[92m+ WeakRefStrings v1.4.2\u001b[39m\n",
      " \u001b[90m [76eceee3] \u001b[39m\u001b[92m+ WorkerUtilities v1.6.1\u001b[39m\n",
      "\u001b[32m\u001b[1mPrecompiling\u001b[22m\u001b[39m project...\n",
      "\u001b[32m  ✓ \u001b[39m\u001b[90mWorkerUtilities\u001b[39m\n",
      "\u001b[32m  ✓ \u001b[39m\u001b[90mWeakRefStrings\u001b[39m\n",
      "\u001b[32m  ✓ \u001b[39m\u001b[90mFilePathsBase\u001b[39m\n",
      "\u001b[32m  ✓ \u001b[39mCSV\n",
      "  4 dependencies successfully precompiled in 15 seconds. 185 already precompiled. 2 skipped during auto due to previous errors.\n",
      "\u001b[32m\u001b[1m   Resolving\u001b[22m\u001b[39m package versions...\n",
      "\u001b[32m\u001b[1m   Installed\u001b[22m\u001b[39m CEnum ─────── v0.4.2\n",
      "\u001b[32m\u001b[1m   Installed\u001b[22m\u001b[39m Lz4_jll ───── v1.9.3+0\n",
      "\u001b[32m\u001b[1m   Installed\u001b[22m\u001b[39m CodecLz4 ──── v0.4.0\n",
      "\u001b[32m\u001b[1m   Installed\u001b[22m\u001b[39m Mocking ───── v0.7.5\n",
      "\u001b[32m\u001b[1m   Installed\u001b[22m\u001b[39m ArrowTypes ── v2.0.2\n",
      "\u001b[32m\u001b[1m   Installed\u001b[22m\u001b[39m BitIntegers ─ v0.2.7\n",
      "\u001b[32m\u001b[1m   Installed\u001b[22m\u001b[39m ExprTools ─── v0.1.8\n",
      "\u001b[32m\u001b[1m   Installed\u001b[22m\u001b[39m CodecZstd ─── v0.7.2\n",
      "\u001b[32m\u001b[1m   Installed\u001b[22m\u001b[39m Arrow ─────── v2.4.3\n",
      "\u001b[32m\u001b[1m   Installed\u001b[22m\u001b[39m TimeZones ─── v1.9.1\n",
      "\u001b[32m\u001b[1m    Updating\u001b[22m\u001b[39m `C:\\Users\\gabri\\.julia\\environments\\v1.8\\Project.toml`\n",
      " \u001b[90m [69666777] \u001b[39m\u001b[92m+ Arrow v2.4.3\u001b[39m\n",
      "\u001b[32m\u001b[1m    Updating\u001b[22m\u001b[39m `C:\\Users\\gabri\\.julia\\environments\\v1.8\\Manifest.toml`\n",
      " \u001b[90m [69666777] \u001b[39m\u001b[92m+ Arrow v2.4.3\u001b[39m\n",
      " \u001b[90m [31f734f8] \u001b[39m\u001b[92m+ ArrowTypes v2.0.2\u001b[39m\n",
      " \u001b[90m [c3b6d118] \u001b[39m\u001b[92m+ BitIntegers v0.2.7\u001b[39m\n",
      " \u001b[90m [fa961155] \u001b[39m\u001b[92m+ CEnum v0.4.2\u001b[39m\n",
      " \u001b[90m [5ba52731] \u001b[39m\u001b[92m+ CodecLz4 v0.4.0\u001b[39m\n",
      " \u001b[90m [6b39b394] \u001b[39m\u001b[92m+ CodecZstd v0.7.2\u001b[39m\n",
      " \u001b[90m [e2ba6199] \u001b[39m\u001b[92m+ ExprTools v0.1.8\u001b[39m\n",
      " \u001b[90m [78c3b35d] \u001b[39m\u001b[92m+ Mocking v0.7.5\u001b[39m\n",
      " \u001b[90m [f269a46b] \u001b[39m\u001b[92m+ TimeZones v1.9.1\u001b[39m\n",
      " \u001b[90m [5ced341a] \u001b[39m\u001b[92m+ Lz4_jll v1.9.3+0\u001b[39m\n",
      " \u001b[90m [4af54fe1] \u001b[39m\u001b[92m+ LazyArtifacts\u001b[39m\n",
      "\u001b[32m\u001b[1m    Building\u001b[22m\u001b[39m TimeZones → `C:\\Users\\gabri\\.julia\\scratchspaces\\44cfe95a-1eb2-52ea-b672-e2afdf69b78f\\a92ec4466fc6e3dd704e2668b5e7f24add36d242\\build.log`\n",
      "\u001b[32m\u001b[1mPrecompiling\u001b[22m\u001b[39m project...\n",
      "\u001b[32m  ✓ \u001b[39m\u001b[90mCEnum\u001b[39m\n",
      "\u001b[32m  ✓ \u001b[39m\u001b[90mArrowTypes\u001b[39m\n",
      "\u001b[32m  ✓ \u001b[39m\u001b[90mLz4_jll\u001b[39m\n",
      "\u001b[32m  ✓ \u001b[39m\u001b[90mBitIntegers\u001b[39m\n",
      "\u001b[32m  ✓ \u001b[39m\u001b[90mCodecZstd\u001b[39m\n",
      "\u001b[32m  ✓ \u001b[39m\u001b[90mCodecLz4\u001b[39m\n",
      "\u001b[32m  ✓ \u001b[39mArrow\n",
      "  7 dependencies successfully precompiled in 7 seconds. 192 already precompiled. 2 skipped during auto due to previous errors.\n"
     ]
    }
   ],
   "source": [
    "using Pkg\n",
    "#Pkg.add(\"CSV\")   # reads/writes csv files\n",
    "#Pkg.add(\"Arrow\") # reads/writes arrow files"
   ]
  },
  {
   "cell_type": "code",
   "execution_count": 1,
   "id": "159ad3b7",
   "metadata": {},
   "outputs": [],
   "source": [
    "using DataFrames\n",
    "using CSV\n",
    "using Arrow\n",
    "using Statistics"
   ]
  },
  {
   "cell_type": "markdown",
   "id": "03a8056a",
   "metadata": {},
   "source": [
    "----\n",
    "\n",
    "<b>1) Loading Dataset</b>"
   ]
  },
  {
   "cell_type": "code",
   "execution_count": 2,
   "id": "232d385f",
   "metadata": {},
   "outputs": [
    {
     "data": {
      "text/plain": [
       "\"auto.txt\""
      ]
     },
     "execution_count": 2,
     "metadata": {},
     "output_type": "execute_result"
    }
   ],
   "source": [
    "# Downloading the text file\n",
    "download(\n",
    "    \"https://archive.ics.uci.edu/ml/machine-learning-databases/auto-mpg/auto-mpg.data-original\"\n",
    "    , \"auto.txt\"\n",
    ")"
   ]
  },
  {
   "cell_type": "code",
   "execution_count": 3,
   "id": "7e907f07",
   "metadata": {},
   "outputs": [
    {
     "data": {
      "text/plain": [
       "406-element Vector{String}:\n",
       " \"18.0   8.   307.0      130.0   \" ⋯ 25 bytes ⋯ \" 1.\\t\\\"chevrolet chevelle malibu\\\"\"\n",
       " \"15.0   8.   350.0      165.0   \" ⋯ 17 bytes ⋯ \"5   70.  1.\\t\\\"buick skylark 320\\\"\"\n",
       " \"18.0   8.   318.0      150.0   \" ⋯ 18 bytes ⋯ \"   70.  1.\\t\\\"plymouth satellite\\\"\"\n",
       " \"16.0   8.   304.0      150.0      3433.      12.0   70.  1.\\t\\\"amc rebel sst\\\"\"\n",
       " \"17.0   8.   302.0      140.0      3449.      10.5   70.  1.\\t\\\"ford torino\\\"\"\n",
       " \"15.0   8.   429.0      198.0      4341.      10.0   70.  1.\\t\\\"ford galaxie 500\\\"\"\n",
       " \"14.0   8.   454.0      220.0      4354.       9.0   70.  1.\\t\\\"chevrolet impala\\\"\"\n",
       " \"14.0   8.   440.0      215.0   \" ⋯ 17 bytes ⋯ \"5   70.  1.\\t\\\"plymouth fury iii\\\"\"\n",
       " \"14.0   8.   455.0      225.0      4425.      10.0   70.  1.\\t\\\"pontiac catalina\\\"\"\n",
       " \"15.0   8.   390.0      190.0   \" ⋯ 18 bytes ⋯ \"   70.  1.\\t\\\"amc ambassador dpl\\\"\"\n",
       " \"NA     4.   133.0      115.0   \" ⋯ 20 bytes ⋯ \" 70.  2.\\t\\\"citroen ds-21 pallas\\\"\"\n",
       " \"NA     8.   350.0      165.0   \" ⋯ 32 bytes ⋯ \"evrolet chevelle concours (sw)\\\"\"\n",
       " \"NA     8.   351.0      153.0      4034.      11.0   70.  1.\\t\\\"ford torino (sw)\\\"\"\n",
       " ⋮\n",
       " \"25.0   6.   181.0      110.0   \" ⋯ 21 bytes ⋯ \"82.  1.\\t\\\"buick century limited\\\"\"\n",
       " \"38.0   6.   262.0      85.00   \" ⋯ 33 bytes ⋯ \"smobile cutlass ciera (diesel)\\\"\"\n",
       " \"26.0   4.   156.0      92.00   \" ⋯ 26 bytes ⋯ \"1.\\t\\\"chrysler lebaron medallion\\\"\"\n",
       " \"22.0   6.   232.0      112.0      2835       14.7   82.  1.\\t\\\"ford granada l\\\"\"\n",
       " \"32.0   4.   144.0      96.00      2665.      13.9   82.  3.\\t\\\"toyota celica gt\\\"\"\n",
       " \"36.0   4.   135.0      84.00   \" ⋯ 17 bytes ⋯ \"0   82.  1.\\t\\\"dodge charger 2.2\\\"\"\n",
       " \"27.0   4.   151.0      90.00      2950.      17.3   82.  1.\\t\\\"chevrolet camaro\\\"\"\n",
       " \"27.0   4.   140.0      86.00      2790.      15.6   82.  1.\\t\\\"ford mustang gl\\\"\"\n",
       " \"44.0   4.   97.00      52.00      2130.      24.6   82.  2.\\t\\\"vw pickup\\\"\"\n",
       " \"32.0   4.   135.0      84.00      2295.      11.6   82.  1.\\t\\\"dodge rampage\\\"\"\n",
       " \"28.0   4.   120.0      79.00      2625.      18.6   82.  1.\\t\\\"ford ranger\\\"\"\n",
       " \"31.0   4.   119.0      82.00      2720.      19.4   82.  1.\\t\\\"chevy s-10\\\"\""
      ]
     },
     "execution_count": 3,
     "metadata": {},
     "output_type": "execute_result"
    }
   ],
   "source": [
    "# Reading line per line\n",
    "readlines(\"auto.txt\")"
   ]
  },
  {
   "cell_type": "code",
   "execution_count": 4,
   "id": "61ccc187",
   "metadata": {},
   "outputs": [
    {
     "data": {
      "text/plain": [
       "32149-element Vector{UInt8}:\n",
       " 0x31\n",
       " 0x38\n",
       " 0x2e\n",
       " 0x30\n",
       " 0x20\n",
       " 0x20\n",
       " 0x20\n",
       " 0x38\n",
       " 0x2e\n",
       " 0x20\n",
       " 0x20\n",
       " 0x20\n",
       " 0x33\n",
       "    ⋮\n",
       " 0x63\n",
       " 0x68\n",
       " 0x65\n",
       " 0x76\n",
       " 0x79\n",
       " 0x20\n",
       " 0x73\n",
       " 0x2d\n",
       " 0x31\n",
       " 0x30\n",
       " 0x22\n",
       " 0x0a"
      ]
     },
     "execution_count": 4,
     "metadata": {},
     "output_type": "execute_result"
    }
   ],
   "source": [
    "# Storing the whole dataset in a variable\n",
    "raw_data = read(\"auto.txt\")"
   ]
  },
  {
   "cell_type": "code",
   "execution_count": 5,
   "id": "0e22c00d",
   "metadata": {},
   "outputs": [
    {
     "data": {
      "text/plain": [
       "\"18.0   8.   307.0      130.0      3504.      12.0   70.  1.\\t\\\"chevrolet chevelle malibu\\\"\\n15.0   8.   350.0      165.0      3693.      11.5   70.  1.\\t\\\"buick skylark 320\\\"\\n18.0   8.   318.0      150.0      3436.      11.0   70.  1.\\t\\\"plymouth satellite\\\"\\n16.0   8.   304.0    \" ⋯ 31610 bytes ⋯ \"00      2130.      24.6   82.  2.\\t\\\"vw pickup\\\"\\n32.0   4.   135.0      84.00      2295.      11.6   82.  1.\\t\\\"dodge rampage\\\"\\n28.0   4.   120.0      79.00      2625.      18.6   82.  1.\\t\\\"ford ranger\\\"\\n31.0   4.   119.0      82.00      2720.      19.4   82.  1.\\t\\\"chevy s-10\\\"\\n\""
      ]
     },
     "execution_count": 5,
     "metadata": {},
     "output_type": "execute_result"
    }
   ],
   "source": [
    "# Oops, do not forget to convert it to string in order to don't\n",
    "# get an hexadecimal array\n",
    "raw_data = read(\"auto.txt\", String)"
   ]
  },
  {
   "cell_type": "code",
   "execution_count": 6,
   "id": "48e1f83f",
   "metadata": {},
   "outputs": [
    {
     "data": {
      "text/plain": [
       "\"18.0   8.   307.0      130.0      3504.      12.0   70.  1. \\\"chevrolet chevelle malibu\\\"\\n15.0   8.   350.0      165.0      3693.      11.5   70.  1. \\\"buick skylark 320\\\"\\n18.0   8.   318.0      150.0      3436.      11.0   70.  1. \\\"plymouth satellite\\\"\\n16.0   8.   304.0    \" ⋯ 31610 bytes ⋯ \"00      2130.      24.6   82.  2. \\\"vw pickup\\\"\\n32.0   4.   135.0      84.00      2295.      11.6   82.  1. \\\"dodge rampage\\\"\\n28.0   4.   120.0      79.00      2625.      18.6   82.  1. \\\"ford ranger\\\"\\n31.0   4.   119.0      82.00      2720.      19.4   82.  1. \\\"chevy s-10\\\"\\n\""
      ]
     },
     "execution_count": 6,
     "metadata": {},
     "output_type": "execute_result"
    }
   ],
   "source": [
    "# Oh, our dataset have a bunch of \"\\t\" scapes. Let's replace it\n",
    "# by an empty String\n",
    "raw_data_with_no_tab = replace(raw_data, '\\t'=>' ')"
   ]
  },
  {
   "cell_type": "code",
   "execution_count": 7,
   "id": "10f7ef07",
   "metadata": {},
   "outputs": [
    {
     "data": {
      "text/plain": [
       "IOBuffer(data=UInt8[...], readable=true, writable=false, seekable=true, append=false, size=32149, maxsize=Inf, ptr=1, mark=-1)"
      ]
     },
     "execution_count": 7,
     "metadata": {},
     "output_type": "execute_result"
    }
   ],
   "source": [
    "# Now, let's create an \"IOBuffer\" variable to simulate a CSV File\n",
    "# with this data\n",
    "io = IOBuffer(raw_data_with_no_tab)"
   ]
  },
  {
   "cell_type": "code",
   "execution_count": 8,
   "id": "82ebac66",
   "metadata": {},
   "outputs": [
    {
     "data": {
      "text/html": [
       "<div><div style = \"float: left;\"><span>406×9 DataFrame</span></div><div style = \"float: right;\"><span style = \"font-style: italic;\">381 rows omitted</span></div><div style = \"clear: both;\"></div></div><div class = \"data-frame\" style = \"overflow-x: scroll;\"><table class = \"data-frame\" style = \"margin-bottom: 6px;\"><thead><tr class = \"header\"><th class = \"rowNumber\" style = \"font-weight: bold; text-align: right;\">Row</th><th style = \"text-align: left;\">mpg</th><th style = \"text-align: left;\">cylinders</th><th style = \"text-align: left;\">displacement</th><th style = \"text-align: left;\">horsepower</th><th style = \"text-align: left;\">weight</th><th style = \"text-align: left;\">acceleration</th><th style = \"text-align: left;\">year</th><th style = \"text-align: left;\">origin</th><th style = \"text-align: left;\">name</th></tr><tr class = \"subheader headerLastRow\"><th class = \"rowNumber\" style = \"font-weight: bold; text-align: right;\"></th><th title = \"Union{Missing, Float64}\" style = \"text-align: left;\">Float64?</th><th title = \"Float64\" style = \"text-align: left;\">Float64</th><th title = \"Float64\" style = \"text-align: left;\">Float64</th><th title = \"Union{Missing, Float64}\" style = \"text-align: left;\">Float64?</th><th title = \"Float64\" style = \"text-align: left;\">Float64</th><th title = \"Float64\" style = \"text-align: left;\">Float64</th><th title = \"Float64\" style = \"text-align: left;\">Float64</th><th title = \"Float64\" style = \"text-align: left;\">Float64</th><th title = \"String\" style = \"text-align: left;\">String</th></tr></thead><tbody><tr><td class = \"rowNumber\" style = \"font-weight: bold; text-align: right;\">1</td><td style = \"text-align: right;\">18.0</td><td style = \"text-align: right;\">8.0</td><td style = \"text-align: right;\">307.0</td><td style = \"text-align: right;\">130.0</td><td style = \"text-align: right;\">3504.0</td><td style = \"text-align: right;\">12.0</td><td style = \"text-align: right;\">70.0</td><td style = \"text-align: right;\">1.0</td><td style = \"text-align: left;\">chevrolet chevelle malibu</td></tr><tr><td class = \"rowNumber\" style = \"font-weight: bold; text-align: right;\">2</td><td style = \"text-align: right;\">15.0</td><td style = \"text-align: right;\">8.0</td><td style = \"text-align: right;\">350.0</td><td style = \"text-align: right;\">165.0</td><td style = \"text-align: right;\">3693.0</td><td style = \"text-align: right;\">11.5</td><td style = \"text-align: right;\">70.0</td><td style = \"text-align: right;\">1.0</td><td style = \"text-align: left;\">buick skylark 320</td></tr><tr><td class = \"rowNumber\" style = \"font-weight: bold; text-align: right;\">3</td><td style = \"text-align: right;\">18.0</td><td style = \"text-align: right;\">8.0</td><td style = \"text-align: right;\">318.0</td><td style = \"text-align: right;\">150.0</td><td style = \"text-align: right;\">3436.0</td><td style = \"text-align: right;\">11.0</td><td style = \"text-align: right;\">70.0</td><td style = \"text-align: right;\">1.0</td><td style = \"text-align: left;\">plymouth satellite</td></tr><tr><td class = \"rowNumber\" style = \"font-weight: bold; text-align: right;\">4</td><td style = \"text-align: right;\">16.0</td><td style = \"text-align: right;\">8.0</td><td style = \"text-align: right;\">304.0</td><td style = \"text-align: right;\">150.0</td><td style = \"text-align: right;\">3433.0</td><td style = \"text-align: right;\">12.0</td><td style = \"text-align: right;\">70.0</td><td style = \"text-align: right;\">1.0</td><td style = \"text-align: left;\">amc rebel sst</td></tr><tr><td class = \"rowNumber\" style = \"font-weight: bold; text-align: right;\">5</td><td style = \"text-align: right;\">17.0</td><td style = \"text-align: right;\">8.0</td><td style = \"text-align: right;\">302.0</td><td style = \"text-align: right;\">140.0</td><td style = \"text-align: right;\">3449.0</td><td style = \"text-align: right;\">10.5</td><td style = \"text-align: right;\">70.0</td><td style = \"text-align: right;\">1.0</td><td style = \"text-align: left;\">ford torino</td></tr><tr><td class = \"rowNumber\" style = \"font-weight: bold; text-align: right;\">6</td><td style = \"text-align: right;\">15.0</td><td style = \"text-align: right;\">8.0</td><td style = \"text-align: right;\">429.0</td><td style = \"text-align: right;\">198.0</td><td style = \"text-align: right;\">4341.0</td><td style = \"text-align: right;\">10.0</td><td style = \"text-align: right;\">70.0</td><td style = \"text-align: right;\">1.0</td><td style = \"text-align: left;\">ford galaxie 500</td></tr><tr><td class = \"rowNumber\" style = \"font-weight: bold; text-align: right;\">7</td><td style = \"text-align: right;\">14.0</td><td style = \"text-align: right;\">8.0</td><td style = \"text-align: right;\">454.0</td><td style = \"text-align: right;\">220.0</td><td style = \"text-align: right;\">4354.0</td><td style = \"text-align: right;\">9.0</td><td style = \"text-align: right;\">70.0</td><td style = \"text-align: right;\">1.0</td><td style = \"text-align: left;\">chevrolet impala</td></tr><tr><td class = \"rowNumber\" style = \"font-weight: bold; text-align: right;\">8</td><td style = \"text-align: right;\">14.0</td><td style = \"text-align: right;\">8.0</td><td style = \"text-align: right;\">440.0</td><td style = \"text-align: right;\">215.0</td><td style = \"text-align: right;\">4312.0</td><td style = \"text-align: right;\">8.5</td><td style = \"text-align: right;\">70.0</td><td style = \"text-align: right;\">1.0</td><td style = \"text-align: left;\">plymouth fury iii</td></tr><tr><td class = \"rowNumber\" style = \"font-weight: bold; text-align: right;\">9</td><td style = \"text-align: right;\">14.0</td><td style = \"text-align: right;\">8.0</td><td style = \"text-align: right;\">455.0</td><td style = \"text-align: right;\">225.0</td><td style = \"text-align: right;\">4425.0</td><td style = \"text-align: right;\">10.0</td><td style = \"text-align: right;\">70.0</td><td style = \"text-align: right;\">1.0</td><td style = \"text-align: left;\">pontiac catalina</td></tr><tr><td class = \"rowNumber\" style = \"font-weight: bold; text-align: right;\">10</td><td style = \"text-align: right;\">15.0</td><td style = \"text-align: right;\">8.0</td><td style = \"text-align: right;\">390.0</td><td style = \"text-align: right;\">190.0</td><td style = \"text-align: right;\">3850.0</td><td style = \"text-align: right;\">8.5</td><td style = \"text-align: right;\">70.0</td><td style = \"text-align: right;\">1.0</td><td style = \"text-align: left;\">amc ambassador dpl</td></tr><tr><td class = \"rowNumber\" style = \"font-weight: bold; text-align: right;\">11</td><td style = \"font-style: italic; text-align: right;\">missing</td><td style = \"text-align: right;\">4.0</td><td style = \"text-align: right;\">133.0</td><td style = \"text-align: right;\">115.0</td><td style = \"text-align: right;\">3090.0</td><td style = \"text-align: right;\">17.5</td><td style = \"text-align: right;\">70.0</td><td style = \"text-align: right;\">2.0</td><td style = \"text-align: left;\">citroen ds-21 pallas</td></tr><tr><td class = \"rowNumber\" style = \"font-weight: bold; text-align: right;\">12</td><td style = \"font-style: italic; text-align: right;\">missing</td><td style = \"text-align: right;\">8.0</td><td style = \"text-align: right;\">350.0</td><td style = \"text-align: right;\">165.0</td><td style = \"text-align: right;\">4142.0</td><td style = \"text-align: right;\">11.5</td><td style = \"text-align: right;\">70.0</td><td style = \"text-align: right;\">1.0</td><td style = \"text-align: left;\">chevrolet chevelle concours (sw)</td></tr><tr><td class = \"rowNumber\" style = \"font-weight: bold; text-align: right;\">13</td><td style = \"font-style: italic; text-align: right;\">missing</td><td style = \"text-align: right;\">8.0</td><td style = \"text-align: right;\">351.0</td><td style = \"text-align: right;\">153.0</td><td style = \"text-align: right;\">4034.0</td><td style = \"text-align: right;\">11.0</td><td style = \"text-align: right;\">70.0</td><td style = \"text-align: right;\">1.0</td><td style = \"text-align: left;\">ford torino (sw)</td></tr><tr><td style = \"text-align: right;\">&vellip;</td><td style = \"text-align: right;\">&vellip;</td><td style = \"text-align: right;\">&vellip;</td><td style = \"text-align: right;\">&vellip;</td><td style = \"text-align: right;\">&vellip;</td><td style = \"text-align: right;\">&vellip;</td><td style = \"text-align: right;\">&vellip;</td><td style = \"text-align: right;\">&vellip;</td><td style = \"text-align: right;\">&vellip;</td><td style = \"text-align: right;\">&vellip;</td></tr><tr><td class = \"rowNumber\" style = \"font-weight: bold; text-align: right;\">395</td><td style = \"font-style: italic; text-align: right;\">25.0</td><td style = \"text-align: right;\">6.0</td><td style = \"text-align: right;\">181.0</td><td style = \"text-align: right;\">110.0</td><td style = \"text-align: right;\">2945.0</td><td style = \"text-align: right;\">16.4</td><td style = \"text-align: right;\">82.0</td><td style = \"text-align: right;\">1.0</td><td style = \"text-align: left;\">buick century limited</td></tr><tr><td class = \"rowNumber\" style = \"font-weight: bold; text-align: right;\">396</td><td style = \"font-style: italic; text-align: right;\">38.0</td><td style = \"text-align: right;\">6.0</td><td style = \"text-align: right;\">262.0</td><td style = \"text-align: right;\">85.0</td><td style = \"text-align: right;\">3015.0</td><td style = \"text-align: right;\">17.0</td><td style = \"text-align: right;\">82.0</td><td style = \"text-align: right;\">1.0</td><td style = \"text-align: left;\">oldsmobile cutlass ciera (diesel)</td></tr><tr><td class = \"rowNumber\" style = \"font-weight: bold; text-align: right;\">397</td><td style = \"text-align: right;\">26.0</td><td style = \"text-align: right;\">4.0</td><td style = \"text-align: right;\">156.0</td><td style = \"text-align: right;\">92.0</td><td style = \"text-align: right;\">2585.0</td><td style = \"text-align: right;\">14.5</td><td style = \"text-align: right;\">82.0</td><td style = \"text-align: right;\">1.0</td><td style = \"text-align: left;\">chrysler lebaron medallion</td></tr><tr><td class = \"rowNumber\" style = \"font-weight: bold; text-align: right;\">398</td><td style = \"text-align: right;\">22.0</td><td style = \"text-align: right;\">6.0</td><td style = \"text-align: right;\">232.0</td><td style = \"text-align: right;\">112.0</td><td style = \"text-align: right;\">2835.0</td><td style = \"text-align: right;\">14.7</td><td style = \"text-align: right;\">82.0</td><td style = \"text-align: right;\">1.0</td><td style = \"text-align: left;\">ford granada l</td></tr><tr><td class = \"rowNumber\" style = \"font-weight: bold; text-align: right;\">399</td><td style = \"font-style: italic; text-align: right;\">32.0</td><td style = \"text-align: right;\">4.0</td><td style = \"text-align: right;\">144.0</td><td style = \"text-align: right;\">96.0</td><td style = \"text-align: right;\">2665.0</td><td style = \"text-align: right;\">13.9</td><td style = \"text-align: right;\">82.0</td><td style = \"text-align: right;\">3.0</td><td style = \"text-align: left;\">toyota celica gt</td></tr><tr><td class = \"rowNumber\" style = \"font-weight: bold; text-align: right;\">400</td><td style = \"text-align: right;\">36.0</td><td style = \"text-align: right;\">4.0</td><td style = \"text-align: right;\">135.0</td><td style = \"text-align: right;\">84.0</td><td style = \"text-align: right;\">2370.0</td><td style = \"text-align: right;\">13.0</td><td style = \"text-align: right;\">82.0</td><td style = \"text-align: right;\">1.0</td><td style = \"text-align: left;\">dodge charger 2.2</td></tr><tr><td class = \"rowNumber\" style = \"font-weight: bold; text-align: right;\">401</td><td style = \"text-align: right;\">27.0</td><td style = \"text-align: right;\">4.0</td><td style = \"text-align: right;\">151.0</td><td style = \"text-align: right;\">90.0</td><td style = \"text-align: right;\">2950.0</td><td style = \"text-align: right;\">17.3</td><td style = \"text-align: right;\">82.0</td><td style = \"text-align: right;\">1.0</td><td style = \"text-align: left;\">chevrolet camaro</td></tr><tr><td class = \"rowNumber\" style = \"font-weight: bold; text-align: right;\">402</td><td style = \"text-align: right;\">27.0</td><td style = \"text-align: right;\">4.0</td><td style = \"text-align: right;\">140.0</td><td style = \"text-align: right;\">86.0</td><td style = \"text-align: right;\">2790.0</td><td style = \"text-align: right;\">15.6</td><td style = \"text-align: right;\">82.0</td><td style = \"text-align: right;\">1.0</td><td style = \"text-align: left;\">ford mustang gl</td></tr><tr><td class = \"rowNumber\" style = \"font-weight: bold; text-align: right;\">403</td><td style = \"text-align: right;\">44.0</td><td style = \"text-align: right;\">4.0</td><td style = \"text-align: right;\">97.0</td><td style = \"text-align: right;\">52.0</td><td style = \"text-align: right;\">2130.0</td><td style = \"text-align: right;\">24.6</td><td style = \"text-align: right;\">82.0</td><td style = \"text-align: right;\">2.0</td><td style = \"text-align: left;\">vw pickup</td></tr><tr><td class = \"rowNumber\" style = \"font-weight: bold; text-align: right;\">404</td><td style = \"text-align: right;\">32.0</td><td style = \"text-align: right;\">4.0</td><td style = \"text-align: right;\">135.0</td><td style = \"text-align: right;\">84.0</td><td style = \"text-align: right;\">2295.0</td><td style = \"text-align: right;\">11.6</td><td style = \"text-align: right;\">82.0</td><td style = \"text-align: right;\">1.0</td><td style = \"text-align: left;\">dodge rampage</td></tr><tr><td class = \"rowNumber\" style = \"font-weight: bold; text-align: right;\">405</td><td style = \"text-align: right;\">28.0</td><td style = \"text-align: right;\">4.0</td><td style = \"text-align: right;\">120.0</td><td style = \"text-align: right;\">79.0</td><td style = \"text-align: right;\">2625.0</td><td style = \"text-align: right;\">18.6</td><td style = \"text-align: right;\">82.0</td><td style = \"text-align: right;\">1.0</td><td style = \"text-align: left;\">ford ranger</td></tr><tr><td class = \"rowNumber\" style = \"font-weight: bold; text-align: right;\">406</td><td style = \"text-align: right;\">31.0</td><td style = \"text-align: right;\">4.0</td><td style = \"text-align: right;\">119.0</td><td style = \"text-align: right;\">82.0</td><td style = \"text-align: right;\">2720.0</td><td style = \"text-align: right;\">19.4</td><td style = \"text-align: right;\">82.0</td><td style = \"text-align: right;\">1.0</td><td style = \"text-align: left;\">chevy s-10</td></tr></tbody></table></div>"
      ],
      "text/latex": [
       "\\begin{tabular}{r|ccccccccc}\n",
       "\t& mpg & cylinders & displacement & horsepower & weight & acceleration & year & origin & \\\\\n",
       "\t\\hline\n",
       "\t& Float64? & Float64 & Float64 & Float64? & Float64 & Float64 & Float64 & Float64 & \\\\\n",
       "\t\\hline\n",
       "\t1 & 18.0 & 8.0 & 307.0 & 130.0 & 3504.0 & 12.0 & 70.0 & 1.0 & $\\dots$ \\\\\n",
       "\t2 & 15.0 & 8.0 & 350.0 & 165.0 & 3693.0 & 11.5 & 70.0 & 1.0 & $\\dots$ \\\\\n",
       "\t3 & 18.0 & 8.0 & 318.0 & 150.0 & 3436.0 & 11.0 & 70.0 & 1.0 & $\\dots$ \\\\\n",
       "\t4 & 16.0 & 8.0 & 304.0 & 150.0 & 3433.0 & 12.0 & 70.0 & 1.0 & $\\dots$ \\\\\n",
       "\t5 & 17.0 & 8.0 & 302.0 & 140.0 & 3449.0 & 10.5 & 70.0 & 1.0 & $\\dots$ \\\\\n",
       "\t6 & 15.0 & 8.0 & 429.0 & 198.0 & 4341.0 & 10.0 & 70.0 & 1.0 & $\\dots$ \\\\\n",
       "\t7 & 14.0 & 8.0 & 454.0 & 220.0 & 4354.0 & 9.0 & 70.0 & 1.0 & $\\dots$ \\\\\n",
       "\t8 & 14.0 & 8.0 & 440.0 & 215.0 & 4312.0 & 8.5 & 70.0 & 1.0 & $\\dots$ \\\\\n",
       "\t9 & 14.0 & 8.0 & 455.0 & 225.0 & 4425.0 & 10.0 & 70.0 & 1.0 & $\\dots$ \\\\\n",
       "\t10 & 15.0 & 8.0 & 390.0 & 190.0 & 3850.0 & 8.5 & 70.0 & 1.0 & $\\dots$ \\\\\n",
       "\t11 & \\emph{missing} & 4.0 & 133.0 & 115.0 & 3090.0 & 17.5 & 70.0 & 2.0 & $\\dots$ \\\\\n",
       "\t12 & \\emph{missing} & 8.0 & 350.0 & 165.0 & 4142.0 & 11.5 & 70.0 & 1.0 & $\\dots$ \\\\\n",
       "\t13 & \\emph{missing} & 8.0 & 351.0 & 153.0 & 4034.0 & 11.0 & 70.0 & 1.0 & $\\dots$ \\\\\n",
       "\t14 & \\emph{missing} & 8.0 & 383.0 & 175.0 & 4166.0 & 10.5 & 70.0 & 1.0 & $\\dots$ \\\\\n",
       "\t15 & \\emph{missing} & 8.0 & 360.0 & 175.0 & 3850.0 & 11.0 & 70.0 & 1.0 & $\\dots$ \\\\\n",
       "\t16 & 15.0 & 8.0 & 383.0 & 170.0 & 3563.0 & 10.0 & 70.0 & 1.0 & $\\dots$ \\\\\n",
       "\t17 & 14.0 & 8.0 & 340.0 & 160.0 & 3609.0 & 8.0 & 70.0 & 1.0 & $\\dots$ \\\\\n",
       "\t18 & \\emph{missing} & 8.0 & 302.0 & 140.0 & 3353.0 & 8.0 & 70.0 & 1.0 & $\\dots$ \\\\\n",
       "\t19 & 15.0 & 8.0 & 400.0 & 150.0 & 3761.0 & 9.5 & 70.0 & 1.0 & $\\dots$ \\\\\n",
       "\t20 & 14.0 & 8.0 & 455.0 & 225.0 & 3086.0 & 10.0 & 70.0 & 1.0 & $\\dots$ \\\\\n",
       "\t21 & 24.0 & 4.0 & 113.0 & 95.0 & 2372.0 & 15.0 & 70.0 & 3.0 & $\\dots$ \\\\\n",
       "\t22 & 22.0 & 6.0 & 198.0 & 95.0 & 2833.0 & 15.5 & 70.0 & 1.0 & $\\dots$ \\\\\n",
       "\t23 & 18.0 & 6.0 & 199.0 & 97.0 & 2774.0 & 15.5 & 70.0 & 1.0 & $\\dots$ \\\\\n",
       "\t24 & 21.0 & 6.0 & 200.0 & 85.0 & 2587.0 & 16.0 & 70.0 & 1.0 & $\\dots$ \\\\\n",
       "\t25 & 27.0 & 4.0 & 97.0 & 88.0 & 2130.0 & 14.5 & 70.0 & 3.0 & $\\dots$ \\\\\n",
       "\t26 & 26.0 & 4.0 & 97.0 & 46.0 & 1835.0 & 20.5 & 70.0 & 2.0 & $\\dots$ \\\\\n",
       "\t27 & 25.0 & 4.0 & 110.0 & 87.0 & 2672.0 & 17.5 & 70.0 & 2.0 & $\\dots$ \\\\\n",
       "\t28 & 24.0 & 4.0 & 107.0 & 90.0 & 2430.0 & 14.5 & 70.0 & 2.0 & $\\dots$ \\\\\n",
       "\t29 & 25.0 & 4.0 & 104.0 & 95.0 & 2375.0 & 17.5 & 70.0 & 2.0 & $\\dots$ \\\\\n",
       "\t30 & 26.0 & 4.0 & 121.0 & 113.0 & 2234.0 & 12.5 & 70.0 & 2.0 & $\\dots$ \\\\\n",
       "\t$\\dots$ & $\\dots$ & $\\dots$ & $\\dots$ & $\\dots$ & $\\dots$ & $\\dots$ & $\\dots$ & $\\dots$ &  \\\\\n",
       "\\end{tabular}\n"
      ],
      "text/plain": [
       "\u001b[1m406×9 DataFrame\u001b[0m\n",
       "\u001b[1m Row \u001b[0m│\u001b[1m mpg       \u001b[0m\u001b[1m cylinders \u001b[0m\u001b[1m displacement \u001b[0m\u001b[1m horsepower \u001b[0m\u001b[1m weight  \u001b[0m\u001b[1m acceleration \u001b[0m\u001b[1m \u001b[0m ⋯\n",
       "     │\u001b[90m Float64?  \u001b[0m\u001b[90m Float64   \u001b[0m\u001b[90m Float64      \u001b[0m\u001b[90m Float64?   \u001b[0m\u001b[90m Float64 \u001b[0m\u001b[90m Float64      \u001b[0m\u001b[90m \u001b[0m ⋯\n",
       "─────┼──────────────────────────────────────────────────────────────────────────\n",
       "   1 │      18.0        8.0         307.0       130.0   3504.0          12.0   ⋯\n",
       "   2 │      15.0        8.0         350.0       165.0   3693.0          11.5\n",
       "   3 │      18.0        8.0         318.0       150.0   3436.0          11.0\n",
       "   4 │      16.0        8.0         304.0       150.0   3433.0          12.0\n",
       "   5 │      17.0        8.0         302.0       140.0   3449.0          10.5   ⋯\n",
       "   6 │      15.0        8.0         429.0       198.0   4341.0          10.0\n",
       "   7 │      14.0        8.0         454.0       220.0   4354.0           9.0\n",
       "   8 │      14.0        8.0         440.0       215.0   4312.0           8.5\n",
       "   9 │      14.0        8.0         455.0       225.0   4425.0          10.0   ⋯\n",
       "  10 │      15.0        8.0         390.0       190.0   3850.0           8.5\n",
       "  11 │\u001b[90m missing   \u001b[0m       4.0         133.0       115.0   3090.0          17.5\n",
       "  ⋮  │     ⋮          ⋮           ⋮            ⋮          ⋮          ⋮         ⋱\n",
       " 397 │      26.0        4.0         156.0        92.0   2585.0          14.5\n",
       " 398 │      22.0        6.0         232.0       112.0   2835.0          14.7   ⋯\n",
       " 399 │      32.0        4.0         144.0        96.0   2665.0          13.9\n",
       " 400 │      36.0        4.0         135.0        84.0   2370.0          13.0\n",
       " 401 │      27.0        4.0         151.0        90.0   2950.0          17.3\n",
       " 402 │      27.0        4.0         140.0        86.0   2790.0          15.6   ⋯\n",
       " 403 │      44.0        4.0          97.0        52.0   2130.0          24.6\n",
       " 404 │      32.0        4.0         135.0        84.0   2295.0          11.6\n",
       " 405 │      28.0        4.0         120.0        79.0   2625.0          18.6\n",
       " 406 │      31.0        4.0         119.0        82.0   2720.0          19.4   ⋯\n",
       "\u001b[36m                                                  3 columns and 385 rows omitted\u001b[0m"
      ]
     },
     "execution_count": 8,
     "metadata": {},
     "output_type": "execute_result"
    }
   ],
   "source": [
    "# And, convert it to a DataFrame\n",
    "df = CSV.File(\n",
    "    io\n",
    "    , delim=' '\n",
    "    , ignorerepeated=true\n",
    "    , header=[:mpg, :cylinders, :displacement, :horsepower,\n",
    "              :weight, :acceleration, :year, :origin, :name]\n",
    "    , missingstring=\"NA\"\n",
    ") |> DataFrame"
   ]
  },
  {
   "cell_type": "markdown",
   "id": "dcd0bf70",
   "metadata": {},
   "source": [
    "----\n",
    "\n",
    "<b>2) Another Way to do it</b>"
   ]
  },
  {
   "cell_type": "code",
   "execution_count": 9,
   "id": "34fc543c",
   "metadata": {},
   "outputs": [
    {
     "data": {
      "text/html": [
       "<div><div style = \"float: left;\"><span>406×2 DataFrame</span></div><div style = \"float: right;\"><span style = \"font-style: italic;\">381 rows omitted</span></div><div style = \"clear: both;\"></div></div><div class = \"data-frame\" style = \"overflow-x: scroll;\"><table class = \"data-frame\" style = \"margin-bottom: 6px;\"><thead><tr class = \"header\"><th class = \"rowNumber\" style = \"font-weight: bold; text-align: right;\">Row</th><th style = \"text-align: left;\">metrics</th><th style = \"text-align: left;\">name</th></tr><tr class = \"subheader headerLastRow\"><th class = \"rowNumber\" style = \"font-weight: bold; text-align: right;\"></th><th title = \"String\" style = \"text-align: left;\">String</th><th title = \"String\" style = \"text-align: left;\">String</th></tr></thead><tbody><tr><td class = \"rowNumber\" style = \"font-weight: bold; text-align: right;\">1</td><td style = \"text-align: left;\">18.0   8.   307.0      130.0      3504.      12.0   70.  1.</td><td style = \"text-align: left;\">chevrolet chevelle malibu</td></tr><tr><td class = \"rowNumber\" style = \"font-weight: bold; text-align: right;\">2</td><td style = \"text-align: left;\">15.0   8.   350.0      165.0      3693.      11.5   70.  1.</td><td style = \"text-align: left;\">buick skylark 320</td></tr><tr><td class = \"rowNumber\" style = \"font-weight: bold; text-align: right;\">3</td><td style = \"text-align: left;\">18.0   8.   318.0      150.0      3436.      11.0   70.  1.</td><td style = \"text-align: left;\">plymouth satellite</td></tr><tr><td class = \"rowNumber\" style = \"font-weight: bold; text-align: right;\">4</td><td style = \"text-align: left;\">16.0   8.   304.0      150.0      3433.      12.0   70.  1.</td><td style = \"text-align: left;\">amc rebel sst</td></tr><tr><td class = \"rowNumber\" style = \"font-weight: bold; text-align: right;\">5</td><td style = \"text-align: left;\">17.0   8.   302.0      140.0      3449.      10.5   70.  1.</td><td style = \"text-align: left;\">ford torino</td></tr><tr><td class = \"rowNumber\" style = \"font-weight: bold; text-align: right;\">6</td><td style = \"text-align: left;\">15.0   8.   429.0      198.0      4341.      10.0   70.  1.</td><td style = \"text-align: left;\">ford galaxie 500</td></tr><tr><td class = \"rowNumber\" style = \"font-weight: bold; text-align: right;\">7</td><td style = \"text-align: left;\">14.0   8.   454.0      220.0      4354.       9.0   70.  1.</td><td style = \"text-align: left;\">chevrolet impala</td></tr><tr><td class = \"rowNumber\" style = \"font-weight: bold; text-align: right;\">8</td><td style = \"text-align: left;\">14.0   8.   440.0      215.0      4312.       8.5   70.  1.</td><td style = \"text-align: left;\">plymouth fury iii</td></tr><tr><td class = \"rowNumber\" style = \"font-weight: bold; text-align: right;\">9</td><td style = \"text-align: left;\">14.0   8.   455.0      225.0      4425.      10.0   70.  1.</td><td style = \"text-align: left;\">pontiac catalina</td></tr><tr><td class = \"rowNumber\" style = \"font-weight: bold; text-align: right;\">10</td><td style = \"text-align: left;\">15.0   8.   390.0      190.0      3850.       8.5   70.  1.</td><td style = \"text-align: left;\">amc ambassador dpl</td></tr><tr><td class = \"rowNumber\" style = \"font-weight: bold; text-align: right;\">11</td><td style = \"text-align: left;\">NA     4.   133.0      115.0      3090.      17.5   70.  2.</td><td style = \"text-align: left;\">citroen ds-21 pallas</td></tr><tr><td class = \"rowNumber\" style = \"font-weight: bold; text-align: right;\">12</td><td style = \"text-align: left;\">NA     8.   350.0      165.0      4142.      11.5   70.  1.</td><td style = \"text-align: left;\">chevrolet chevelle concours (sw)</td></tr><tr><td class = \"rowNumber\" style = \"font-weight: bold; text-align: right;\">13</td><td style = \"text-align: left;\">NA     8.   351.0      153.0      4034.      11.0   70.  1.</td><td style = \"text-align: left;\">ford torino (sw)</td></tr><tr><td style = \"text-align: right;\">&vellip;</td><td style = \"text-align: right;\">&vellip;</td><td style = \"text-align: right;\">&vellip;</td></tr><tr><td class = \"rowNumber\" style = \"font-weight: bold; text-align: right;\">395</td><td style = \"text-align: left;\">25.0   6.   181.0      110.0      2945.      16.4   82.  1.</td><td style = \"text-align: left;\">buick century limited</td></tr><tr><td class = \"rowNumber\" style = \"font-weight: bold; text-align: right;\">396</td><td style = \"text-align: left;\">38.0   6.   262.0      85.00      3015.      17.0   82.  1.</td><td style = \"text-align: left;\">oldsmobile cutlass ciera (diesel)</td></tr><tr><td class = \"rowNumber\" style = \"font-weight: bold; text-align: right;\">397</td><td style = \"text-align: left;\">26.0   4.   156.0      92.00      2585.      14.5   82.  1.</td><td style = \"text-align: left;\">chrysler lebaron medallion</td></tr><tr><td class = \"rowNumber\" style = \"font-weight: bold; text-align: right;\">398</td><td style = \"text-align: left;\">22.0   6.   232.0      112.0      2835       14.7   82.  1.</td><td style = \"text-align: left;\">ford granada l</td></tr><tr><td class = \"rowNumber\" style = \"font-weight: bold; text-align: right;\">399</td><td style = \"text-align: left;\">32.0   4.   144.0      96.00      2665.      13.9   82.  3.</td><td style = \"text-align: left;\">toyota celica gt</td></tr><tr><td class = \"rowNumber\" style = \"font-weight: bold; text-align: right;\">400</td><td style = \"text-align: left;\">36.0   4.   135.0      84.00      2370.      13.0   82.  1.</td><td style = \"text-align: left;\">dodge charger 2.2</td></tr><tr><td class = \"rowNumber\" style = \"font-weight: bold; text-align: right;\">401</td><td style = \"text-align: left;\">27.0   4.   151.0      90.00      2950.      17.3   82.  1.</td><td style = \"text-align: left;\">chevrolet camaro</td></tr><tr><td class = \"rowNumber\" style = \"font-weight: bold; text-align: right;\">402</td><td style = \"text-align: left;\">27.0   4.   140.0      86.00      2790.      15.6   82.  1.</td><td style = \"text-align: left;\">ford mustang gl</td></tr><tr><td class = \"rowNumber\" style = \"font-weight: bold; text-align: right;\">403</td><td style = \"text-align: left;\">44.0   4.   97.00      52.00      2130.      24.6   82.  2.</td><td style = \"text-align: left;\">vw pickup</td></tr><tr><td class = \"rowNumber\" style = \"font-weight: bold; text-align: right;\">404</td><td style = \"text-align: left;\">32.0   4.   135.0      84.00      2295.      11.6   82.  1.</td><td style = \"text-align: left;\">dodge rampage</td></tr><tr><td class = \"rowNumber\" style = \"font-weight: bold; text-align: right;\">405</td><td style = \"text-align: left;\">28.0   4.   120.0      79.00      2625.      18.6   82.  1.</td><td style = \"text-align: left;\">ford ranger</td></tr><tr><td class = \"rowNumber\" style = \"font-weight: bold; text-align: right;\">406</td><td style = \"text-align: left;\">31.0   4.   119.0      82.00      2720.      19.4   82.  1.</td><td style = \"text-align: left;\">chevy s-10</td></tr></tbody></table></div>"
      ],
      "text/latex": [
       "\\begin{tabular}{r|cc}\n",
       "\t& metrics & name\\\\\n",
       "\t\\hline\n",
       "\t& String & String\\\\\n",
       "\t\\hline\n",
       "\t1 & 18.0   8.   307.0      130.0      3504.      12.0   70.  1. & chevrolet chevelle malibu \\\\\n",
       "\t2 & 15.0   8.   350.0      165.0      3693.      11.5   70.  1. & buick skylark 320 \\\\\n",
       "\t3 & 18.0   8.   318.0      150.0      3436.      11.0   70.  1. & plymouth satellite \\\\\n",
       "\t4 & 16.0   8.   304.0      150.0      3433.      12.0   70.  1. & amc rebel sst \\\\\n",
       "\t5 & 17.0   8.   302.0      140.0      3449.      10.5   70.  1. & ford torino \\\\\n",
       "\t6 & 15.0   8.   429.0      198.0      4341.      10.0   70.  1. & ford galaxie 500 \\\\\n",
       "\t7 & 14.0   8.   454.0      220.0      4354.       9.0   70.  1. & chevrolet impala \\\\\n",
       "\t8 & 14.0   8.   440.0      215.0      4312.       8.5   70.  1. & plymouth fury iii \\\\\n",
       "\t9 & 14.0   8.   455.0      225.0      4425.      10.0   70.  1. & pontiac catalina \\\\\n",
       "\t10 & 15.0   8.   390.0      190.0      3850.       8.5   70.  1. & amc ambassador dpl \\\\\n",
       "\t11 & NA     4.   133.0      115.0      3090.      17.5   70.  2. & citroen ds-21 pallas \\\\\n",
       "\t12 & NA     8.   350.0      165.0      4142.      11.5   70.  1. & chevrolet chevelle concours (sw) \\\\\n",
       "\t13 & NA     8.   351.0      153.0      4034.      11.0   70.  1. & ford torino (sw) \\\\\n",
       "\t14 & NA     8.   383.0      175.0      4166.      10.5   70.  1. & plymouth satellite (sw) \\\\\n",
       "\t15 & NA     8.   360.0      175.0      3850.      11.0   70.  1. & amc rebel sst (sw) \\\\\n",
       "\t16 & 15.0   8.   383.0      170.0      3563.      10.0   70.  1. & dodge challenger se \\\\\n",
       "\t17 & 14.0   8.   340.0      160.0      3609.       8.0   70.  1. & plymouth 'cuda 340 \\\\\n",
       "\t18 & NA     8.   302.0      140.0      3353.       8.0   70.  1. & ford mustang boss 302 \\\\\n",
       "\t19 & 15.0   8.   400.0      150.0      3761.       9.5   70.  1. & chevrolet monte carlo \\\\\n",
       "\t20 & 14.0   8.   455.0      225.0      3086.      10.0   70.  1. & buick estate wagon (sw) \\\\\n",
       "\t21 & 24.0   4.   113.0      95.00      2372.      15.0   70.  3. & toyota corona mark ii \\\\\n",
       "\t22 & 22.0   6.   198.0      95.00      2833.      15.5   70.  1. & plymouth duster \\\\\n",
       "\t23 & 18.0   6.   199.0      97.00      2774.      15.5   70.  1. & amc hornet \\\\\n",
       "\t24 & 21.0   6.   200.0      85.00      2587.      16.0   70.  1. & ford maverick \\\\\n",
       "\t25 & 27.0   4.   97.00      88.00      2130.      14.5   70.  3. & datsun pl510 \\\\\n",
       "\t26 & 26.0   4.   97.00      46.00      1835.      20.5   70.  2. & volkswagen 1131 deluxe sedan \\\\\n",
       "\t27 & 25.0   4.   110.0      87.00      2672.      17.5   70.  2. & peugeot 504 \\\\\n",
       "\t28 & 24.0   4.   107.0      90.00      2430.      14.5   70.  2. & audi 100 ls \\\\\n",
       "\t29 & 25.0   4.   104.0      95.00      2375.      17.5   70.  2. & saab 99e \\\\\n",
       "\t30 & 26.0   4.   121.0      113.0      2234.      12.5   70.  2. & bmw 2002 \\\\\n",
       "\t$\\dots$ & $\\dots$ & $\\dots$ \\\\\n",
       "\\end{tabular}\n"
      ],
      "text/plain": [
       "\u001b[1m406×2 DataFrame\u001b[0m\n",
       "\u001b[1m Row \u001b[0m│\u001b[1m metrics                           \u001b[0m\u001b[1m name                              \u001b[0m\n",
       "     │\u001b[90m String                            \u001b[0m\u001b[90m String                            \u001b[0m\n",
       "─────┼──────────────────────────────────────────────────────────────────────\n",
       "   1 │ 18.0   8.   307.0      130.0    …  chevrolet chevelle malibu\n",
       "   2 │ 15.0   8.   350.0      165.0    …  buick skylark 320\n",
       "   3 │ 18.0   8.   318.0      150.0    …  plymouth satellite\n",
       "   4 │ 16.0   8.   304.0      150.0    …  amc rebel sst\n",
       "   5 │ 17.0   8.   302.0      140.0    …  ford torino\n",
       "   6 │ 15.0   8.   429.0      198.0    …  ford galaxie 500\n",
       "   7 │ 14.0   8.   454.0      220.0    …  chevrolet impala\n",
       "   8 │ 14.0   8.   440.0      215.0    …  plymouth fury iii\n",
       "   9 │ 14.0   8.   455.0      225.0    …  pontiac catalina\n",
       "  10 │ 15.0   8.   390.0      190.0    …  amc ambassador dpl\n",
       "  11 │ NA     4.   133.0      115.0    …  citroen ds-21 pallas\n",
       "  ⋮  │                 ⋮                                  ⋮\n",
       " 397 │ 26.0   4.   156.0      92.00    …  chrysler lebaron medallion\n",
       " 398 │ 22.0   6.   232.0      112.0    …  ford granada l\n",
       " 399 │ 32.0   4.   144.0      96.00    …  toyota celica gt\n",
       " 400 │ 36.0   4.   135.0      84.00    …  dodge charger 2.2\n",
       " 401 │ 27.0   4.   151.0      90.00    …  chevrolet camaro\n",
       " 402 │ 27.0   4.   140.0      86.00    …  ford mustang gl\n",
       " 403 │ 44.0   4.   97.00      52.00    …  vw pickup\n",
       " 404 │ 32.0   4.   135.0      84.00    …  dodge rampage\n",
       " 405 │ 28.0   4.   120.0      79.00    …  ford ranger\n",
       " 406 │ 31.0   4.   119.0      82.00    …  chevy s-10\n",
       "\u001b[36m                                                            385 rows omitted\u001b[0m"
      ]
     },
     "execution_count": 9,
     "metadata": {},
     "output_type": "execute_result"
    }
   ],
   "source": [
    "# Reading dataset\n",
    "df = CSV.File(\"auto.txt\", header=[:metrics, :name]) |> DataFrame"
   ]
  },
  {
   "cell_type": "code",
   "execution_count": 10,
   "id": "ab2b3920",
   "metadata": {},
   "outputs": [
    {
     "data": {
      "text/plain": [
       "406-element Vector{Vector{SubString{String}}}:\n",
       " [\"18.0\", \"8.\", \"307.0\", \"130.0\", \"3504.\", \"12.0\", \"70.\", \"1.\"]\n",
       " [\"15.0\", \"8.\", \"350.0\", \"165.0\", \"3693.\", \"11.5\", \"70.\", \"1.\"]\n",
       " [\"18.0\", \"8.\", \"318.0\", \"150.0\", \"3436.\", \"11.0\", \"70.\", \"1.\"]\n",
       " [\"16.0\", \"8.\", \"304.0\", \"150.0\", \"3433.\", \"12.0\", \"70.\", \"1.\"]\n",
       " [\"17.0\", \"8.\", \"302.0\", \"140.0\", \"3449.\", \"10.5\", \"70.\", \"1.\"]\n",
       " [\"15.0\", \"8.\", \"429.0\", \"198.0\", \"4341.\", \"10.0\", \"70.\", \"1.\"]\n",
       " [\"14.0\", \"8.\", \"454.0\", \"220.0\", \"4354.\", \"9.0\", \"70.\", \"1.\"]\n",
       " [\"14.0\", \"8.\", \"440.0\", \"215.0\", \"4312.\", \"8.5\", \"70.\", \"1.\"]\n",
       " [\"14.0\", \"8.\", \"455.0\", \"225.0\", \"4425.\", \"10.0\", \"70.\", \"1.\"]\n",
       " [\"15.0\", \"8.\", \"390.0\", \"190.0\", \"3850.\", \"8.5\", \"70.\", \"1.\"]\n",
       " [\"NA\", \"4.\", \"133.0\", \"115.0\", \"3090.\", \"17.5\", \"70.\", \"2.\"]\n",
       " [\"NA\", \"8.\", \"350.0\", \"165.0\", \"4142.\", \"11.5\", \"70.\", \"1.\"]\n",
       " [\"NA\", \"8.\", \"351.0\", \"153.0\", \"4034.\", \"11.0\", \"70.\", \"1.\"]\n",
       " ⋮\n",
       " [\"25.0\", \"6.\", \"181.0\", \"110.0\", \"2945.\", \"16.4\", \"82.\", \"1.\"]\n",
       " [\"38.0\", \"6.\", \"262.0\", \"85.00\", \"3015.\", \"17.0\", \"82.\", \"1.\"]\n",
       " [\"26.0\", \"4.\", \"156.0\", \"92.00\", \"2585.\", \"14.5\", \"82.\", \"1.\"]\n",
       " [\"22.0\", \"6.\", \"232.0\", \"112.0\", \"2835\", \"14.7\", \"82.\", \"1.\"]\n",
       " [\"32.0\", \"4.\", \"144.0\", \"96.00\", \"2665.\", \"13.9\", \"82.\", \"3.\"]\n",
       " [\"36.0\", \"4.\", \"135.0\", \"84.00\", \"2370.\", \"13.0\", \"82.\", \"1.\"]\n",
       " [\"27.0\", \"4.\", \"151.0\", \"90.00\", \"2950.\", \"17.3\", \"82.\", \"1.\"]\n",
       " [\"27.0\", \"4.\", \"140.0\", \"86.00\", \"2790.\", \"15.6\", \"82.\", \"1.\"]\n",
       " [\"44.0\", \"4.\", \"97.00\", \"52.00\", \"2130.\", \"24.6\", \"82.\", \"2.\"]\n",
       " [\"32.0\", \"4.\", \"135.0\", \"84.00\", \"2295.\", \"11.6\", \"82.\", \"1.\"]\n",
       " [\"28.0\", \"4.\", \"120.0\", \"79.00\", \"2625.\", \"18.6\", \"82.\", \"1.\"]\n",
       " [\"31.0\", \"4.\", \"119.0\", \"82.00\", \"2720.\", \"19.4\", \"82.\", \"1.\"]"
      ]
     },
     "execution_count": 10,
     "metadata": {},
     "output_type": "execute_result"
    }
   ],
   "source": [
    "# Splitting metrics by spaces\n",
    "metrics_array = split.(df.metrics)"
   ]
  },
  {
   "cell_type": "code",
   "execution_count": 11,
   "id": "e20f4efa",
   "metadata": {},
   "outputs": [
    {
     "data": {
      "text/html": [
       "<div><div style = \"float: left;\"><span>0×8 DataFrame</span></div><div style = \"clear: both;\"></div></div><div class = \"data-frame\" style = \"overflow-x: scroll;\"><table class = \"data-frame\" style = \"margin-bottom: 6px;\"><thead><tr class = \"header\"><th class = \"rowNumber\" style = \"font-weight: bold; text-align: right;\">Row</th><th style = \"text-align: left;\">mpg</th><th style = \"text-align: left;\">cylinders</th><th style = \"text-align: left;\">displacement</th><th style = \"text-align: left;\">horsepower</th><th style = \"text-align: left;\">weight</th><th style = \"text-align: left;\">acceleration</th><th style = \"text-align: left;\">year</th><th style = \"text-align: left;\">origin</th></tr><tr class = \"subheader headerLastRow\"><th class = \"rowNumber\" style = \"font-weight: bold; text-align: right;\"></th><th title = \"Float64\" style = \"text-align: left;\">Float64</th><th title = \"Float64\" style = \"text-align: left;\">Float64</th><th title = \"Float64\" style = \"text-align: left;\">Float64</th><th title = \"Float64\" style = \"text-align: left;\">Float64</th><th title = \"Float64\" style = \"text-align: left;\">Float64</th><th title = \"Float64\" style = \"text-align: left;\">Float64</th><th title = \"Float64\" style = \"text-align: left;\">Float64</th><th title = \"Float64\" style = \"text-align: left;\">Float64</th></tr></thead><tbody></tbody></table></div>"
      ],
      "text/latex": [
       "\\begin{tabular}{r|cccccccc}\n",
       "\t& mpg & cylinders & displacement & horsepower & weight & acceleration & year & origin\\\\\n",
       "\t\\hline\n",
       "\t& Float64 & Float64 & Float64 & Float64 & Float64 & Float64 & Float64 & Float64\\\\\n",
       "\t\\hline\n",
       "\\end{tabular}\n"
      ],
      "text/plain": [
       "\u001b[1m0×8 DataFrame\u001b[0m\n",
       "\u001b[1m Row \u001b[0m│\u001b[1m mpg     \u001b[0m\u001b[1m cylinders \u001b[0m\u001b[1m displacement \u001b[0m\u001b[1m horsepower \u001b[0m\u001b[1m weight  \u001b[0m\u001b[1m acceleration \u001b[0m\u001b[1m ye\u001b[0m ⋯\n",
       "     │\u001b[90m Float64 \u001b[0m\u001b[90m Float64   \u001b[0m\u001b[90m Float64      \u001b[0m\u001b[90m Float64    \u001b[0m\u001b[90m Float64 \u001b[0m\u001b[90m Float64      \u001b[0m\u001b[90m Fl\u001b[0m ⋯\n",
       "─────┴──────────────────────────────────────────────────────────────────────────\n",
       "\u001b[36m                                                               2 columns omitted\u001b[0m"
      ]
     },
     "execution_count": 11,
     "metadata": {},
     "output_type": "execute_result"
    }
   ],
   "source": [
    "# Creating a new dataframe with just the headers\n",
    "new_df = DataFrame(\n",
    "    [col => Float64[] for \n",
    "    col in [:mpg, :cylinders, :displacement, :horsepower,\n",
    "            :weight, :acceleration, :year, :origin]]\n",
    ")"
   ]
  },
  {
   "cell_type": "code",
   "execution_count": 12,
   "id": "7d3eef98",
   "metadata": {},
   "outputs": [
    {
     "data": {
      "text/html": [
       "<div><div style = \"float: left;\"><span>0×8 DataFrame</span></div><div style = \"clear: both;\"></div></div><div class = \"data-frame\" style = \"overflow-x: scroll;\"><table class = \"data-frame\" style = \"margin-bottom: 6px;\"><thead><tr class = \"header\"><th class = \"rowNumber\" style = \"font-weight: bold; text-align: right;\">Row</th><th style = \"text-align: left;\">mpg</th><th style = \"text-align: left;\">cylinders</th><th style = \"text-align: left;\">displacement</th><th style = \"text-align: left;\">horsepower</th><th style = \"text-align: left;\">weight</th><th style = \"text-align: left;\">acceleration</th><th style = \"text-align: left;\">year</th><th style = \"text-align: left;\">origin</th></tr><tr class = \"subheader headerLastRow\"><th class = \"rowNumber\" style = \"font-weight: bold; text-align: right;\"></th><th title = \"Union{Missing, Float64}\" style = \"text-align: left;\">Float64?</th><th title = \"Float64\" style = \"text-align: left;\">Float64</th><th title = \"Float64\" style = \"text-align: left;\">Float64</th><th title = \"Union{Missing, Float64}\" style = \"text-align: left;\">Float64?</th><th title = \"Float64\" style = \"text-align: left;\">Float64</th><th title = \"Float64\" style = \"text-align: left;\">Float64</th><th title = \"Float64\" style = \"text-align: left;\">Float64</th><th title = \"Float64\" style = \"text-align: left;\">Float64</th></tr></thead><tbody></tbody></table></div>"
      ],
      "text/latex": [
       "\\begin{tabular}{r|cccccccc}\n",
       "\t& mpg & cylinders & displacement & horsepower & weight & acceleration & year & origin\\\\\n",
       "\t\\hline\n",
       "\t& Float64? & Float64 & Float64 & Float64? & Float64 & Float64 & Float64 & Float64\\\\\n",
       "\t\\hline\n",
       "\\end{tabular}\n"
      ],
      "text/plain": [
       "\u001b[1m0×8 DataFrame\u001b[0m\n",
       "\u001b[1m Row \u001b[0m│\u001b[1m mpg      \u001b[0m\u001b[1m cylinders \u001b[0m\u001b[1m displacement \u001b[0m\u001b[1m horsepower \u001b[0m\u001b[1m weight  \u001b[0m\u001b[1m acceleration \u001b[0m\u001b[1m y\u001b[0m ⋯\n",
       "     │\u001b[90m Float64? \u001b[0m\u001b[90m Float64   \u001b[0m\u001b[90m Float64      \u001b[0m\u001b[90m Float64?   \u001b[0m\u001b[90m Float64 \u001b[0m\u001b[90m Float64      \u001b[0m\u001b[90m F\u001b[0m ⋯\n",
       "─────┴──────────────────────────────────────────────────────────────────────────\n",
       "\u001b[36m                                                               2 columns omitted\u001b[0m"
      ]
     },
     "execution_count": 12,
     "metadata": {},
     "output_type": "execute_result"
    }
   ],
   "source": [
    "# Enabling missing values to \"mpg\" and \"horsepower\" features\n",
    "allowmissing!(new_df, [:mpg, :horsepower])"
   ]
  },
  {
   "cell_type": "code",
   "execution_count": 13,
   "id": "4e39b69e",
   "metadata": {},
   "outputs": [
    {
     "data": {
      "text/html": [
       "<div><div style = \"float: left;\"><span>406×8 DataFrame</span></div><div style = \"float: right;\"><span style = \"font-style: italic;\">381 rows omitted</span></div><div style = \"clear: both;\"></div></div><div class = \"data-frame\" style = \"overflow-x: scroll;\"><table class = \"data-frame\" style = \"margin-bottom: 6px;\"><thead><tr class = \"header\"><th class = \"rowNumber\" style = \"font-weight: bold; text-align: right;\">Row</th><th style = \"text-align: left;\">mpg</th><th style = \"text-align: left;\">cylinders</th><th style = \"text-align: left;\">displacement</th><th style = \"text-align: left;\">horsepower</th><th style = \"text-align: left;\">weight</th><th style = \"text-align: left;\">acceleration</th><th style = \"text-align: left;\">year</th><th style = \"text-align: left;\">origin</th></tr><tr class = \"subheader headerLastRow\"><th class = \"rowNumber\" style = \"font-weight: bold; text-align: right;\"></th><th title = \"Union{Missing, Float64}\" style = \"text-align: left;\">Float64?</th><th title = \"Float64\" style = \"text-align: left;\">Float64</th><th title = \"Float64\" style = \"text-align: left;\">Float64</th><th title = \"Union{Missing, Float64}\" style = \"text-align: left;\">Float64?</th><th title = \"Float64\" style = \"text-align: left;\">Float64</th><th title = \"Float64\" style = \"text-align: left;\">Float64</th><th title = \"Float64\" style = \"text-align: left;\">Float64</th><th title = \"Float64\" style = \"text-align: left;\">Float64</th></tr></thead><tbody><tr><td class = \"rowNumber\" style = \"font-weight: bold; text-align: right;\">1</td><td style = \"text-align: right;\">18.0</td><td style = \"text-align: right;\">8.0</td><td style = \"text-align: right;\">307.0</td><td style = \"text-align: right;\">130.0</td><td style = \"text-align: right;\">3504.0</td><td style = \"text-align: right;\">12.0</td><td style = \"text-align: right;\">70.0</td><td style = \"text-align: right;\">1.0</td></tr><tr><td class = \"rowNumber\" style = \"font-weight: bold; text-align: right;\">2</td><td style = \"text-align: right;\">15.0</td><td style = \"text-align: right;\">8.0</td><td style = \"text-align: right;\">350.0</td><td style = \"text-align: right;\">165.0</td><td style = \"text-align: right;\">3693.0</td><td style = \"text-align: right;\">11.5</td><td style = \"text-align: right;\">70.0</td><td style = \"text-align: right;\">1.0</td></tr><tr><td class = \"rowNumber\" style = \"font-weight: bold; text-align: right;\">3</td><td style = \"text-align: right;\">18.0</td><td style = \"text-align: right;\">8.0</td><td style = \"text-align: right;\">318.0</td><td style = \"text-align: right;\">150.0</td><td style = \"text-align: right;\">3436.0</td><td style = \"text-align: right;\">11.0</td><td style = \"text-align: right;\">70.0</td><td style = \"text-align: right;\">1.0</td></tr><tr><td class = \"rowNumber\" style = \"font-weight: bold; text-align: right;\">4</td><td style = \"text-align: right;\">16.0</td><td style = \"text-align: right;\">8.0</td><td style = \"text-align: right;\">304.0</td><td style = \"text-align: right;\">150.0</td><td style = \"text-align: right;\">3433.0</td><td style = \"text-align: right;\">12.0</td><td style = \"text-align: right;\">70.0</td><td style = \"text-align: right;\">1.0</td></tr><tr><td class = \"rowNumber\" style = \"font-weight: bold; text-align: right;\">5</td><td style = \"text-align: right;\">17.0</td><td style = \"text-align: right;\">8.0</td><td style = \"text-align: right;\">302.0</td><td style = \"text-align: right;\">140.0</td><td style = \"text-align: right;\">3449.0</td><td style = \"text-align: right;\">10.5</td><td style = \"text-align: right;\">70.0</td><td style = \"text-align: right;\">1.0</td></tr><tr><td class = \"rowNumber\" style = \"font-weight: bold; text-align: right;\">6</td><td style = \"text-align: right;\">15.0</td><td style = \"text-align: right;\">8.0</td><td style = \"text-align: right;\">429.0</td><td style = \"text-align: right;\">198.0</td><td style = \"text-align: right;\">4341.0</td><td style = \"text-align: right;\">10.0</td><td style = \"text-align: right;\">70.0</td><td style = \"text-align: right;\">1.0</td></tr><tr><td class = \"rowNumber\" style = \"font-weight: bold; text-align: right;\">7</td><td style = \"text-align: right;\">14.0</td><td style = \"text-align: right;\">8.0</td><td style = \"text-align: right;\">454.0</td><td style = \"text-align: right;\">220.0</td><td style = \"text-align: right;\">4354.0</td><td style = \"text-align: right;\">9.0</td><td style = \"text-align: right;\">70.0</td><td style = \"text-align: right;\">1.0</td></tr><tr><td class = \"rowNumber\" style = \"font-weight: bold; text-align: right;\">8</td><td style = \"text-align: right;\">14.0</td><td style = \"text-align: right;\">8.0</td><td style = \"text-align: right;\">440.0</td><td style = \"text-align: right;\">215.0</td><td style = \"text-align: right;\">4312.0</td><td style = \"text-align: right;\">8.5</td><td style = \"text-align: right;\">70.0</td><td style = \"text-align: right;\">1.0</td></tr><tr><td class = \"rowNumber\" style = \"font-weight: bold; text-align: right;\">9</td><td style = \"text-align: right;\">14.0</td><td style = \"text-align: right;\">8.0</td><td style = \"text-align: right;\">455.0</td><td style = \"text-align: right;\">225.0</td><td style = \"text-align: right;\">4425.0</td><td style = \"text-align: right;\">10.0</td><td style = \"text-align: right;\">70.0</td><td style = \"text-align: right;\">1.0</td></tr><tr><td class = \"rowNumber\" style = \"font-weight: bold; text-align: right;\">10</td><td style = \"text-align: right;\">15.0</td><td style = \"text-align: right;\">8.0</td><td style = \"text-align: right;\">390.0</td><td style = \"text-align: right;\">190.0</td><td style = \"text-align: right;\">3850.0</td><td style = \"text-align: right;\">8.5</td><td style = \"text-align: right;\">70.0</td><td style = \"text-align: right;\">1.0</td></tr><tr><td class = \"rowNumber\" style = \"font-weight: bold; text-align: right;\">11</td><td style = \"font-style: italic; text-align: right;\">missing</td><td style = \"text-align: right;\">4.0</td><td style = \"text-align: right;\">133.0</td><td style = \"text-align: right;\">115.0</td><td style = \"text-align: right;\">3090.0</td><td style = \"text-align: right;\">17.5</td><td style = \"text-align: right;\">70.0</td><td style = \"text-align: right;\">2.0</td></tr><tr><td class = \"rowNumber\" style = \"font-weight: bold; text-align: right;\">12</td><td style = \"font-style: italic; text-align: right;\">missing</td><td style = \"text-align: right;\">8.0</td><td style = \"text-align: right;\">350.0</td><td style = \"text-align: right;\">165.0</td><td style = \"text-align: right;\">4142.0</td><td style = \"text-align: right;\">11.5</td><td style = \"text-align: right;\">70.0</td><td style = \"text-align: right;\">1.0</td></tr><tr><td class = \"rowNumber\" style = \"font-weight: bold; text-align: right;\">13</td><td style = \"font-style: italic; text-align: right;\">missing</td><td style = \"text-align: right;\">8.0</td><td style = \"text-align: right;\">351.0</td><td style = \"text-align: right;\">153.0</td><td style = \"text-align: right;\">4034.0</td><td style = \"text-align: right;\">11.0</td><td style = \"text-align: right;\">70.0</td><td style = \"text-align: right;\">1.0</td></tr><tr><td style = \"text-align: right;\">&vellip;</td><td style = \"text-align: right;\">&vellip;</td><td style = \"text-align: right;\">&vellip;</td><td style = \"text-align: right;\">&vellip;</td><td style = \"text-align: right;\">&vellip;</td><td style = \"text-align: right;\">&vellip;</td><td style = \"text-align: right;\">&vellip;</td><td style = \"text-align: right;\">&vellip;</td><td style = \"text-align: right;\">&vellip;</td></tr><tr><td class = \"rowNumber\" style = \"font-weight: bold; text-align: right;\">395</td><td style = \"font-style: italic; text-align: right;\">25.0</td><td style = \"text-align: right;\">6.0</td><td style = \"text-align: right;\">181.0</td><td style = \"text-align: right;\">110.0</td><td style = \"text-align: right;\">2945.0</td><td style = \"text-align: right;\">16.4</td><td style = \"text-align: right;\">82.0</td><td style = \"text-align: right;\">1.0</td></tr><tr><td class = \"rowNumber\" style = \"font-weight: bold; text-align: right;\">396</td><td style = \"font-style: italic; text-align: right;\">38.0</td><td style = \"text-align: right;\">6.0</td><td style = \"text-align: right;\">262.0</td><td style = \"text-align: right;\">85.0</td><td style = \"text-align: right;\">3015.0</td><td style = \"text-align: right;\">17.0</td><td style = \"text-align: right;\">82.0</td><td style = \"text-align: right;\">1.0</td></tr><tr><td class = \"rowNumber\" style = \"font-weight: bold; text-align: right;\">397</td><td style = \"text-align: right;\">26.0</td><td style = \"text-align: right;\">4.0</td><td style = \"text-align: right;\">156.0</td><td style = \"text-align: right;\">92.0</td><td style = \"text-align: right;\">2585.0</td><td style = \"text-align: right;\">14.5</td><td style = \"text-align: right;\">82.0</td><td style = \"text-align: right;\">1.0</td></tr><tr><td class = \"rowNumber\" style = \"font-weight: bold; text-align: right;\">398</td><td style = \"text-align: right;\">22.0</td><td style = \"text-align: right;\">6.0</td><td style = \"text-align: right;\">232.0</td><td style = \"text-align: right;\">112.0</td><td style = \"text-align: right;\">2835.0</td><td style = \"text-align: right;\">14.7</td><td style = \"text-align: right;\">82.0</td><td style = \"text-align: right;\">1.0</td></tr><tr><td class = \"rowNumber\" style = \"font-weight: bold; text-align: right;\">399</td><td style = \"font-style: italic; text-align: right;\">32.0</td><td style = \"text-align: right;\">4.0</td><td style = \"text-align: right;\">144.0</td><td style = \"text-align: right;\">96.0</td><td style = \"text-align: right;\">2665.0</td><td style = \"text-align: right;\">13.9</td><td style = \"text-align: right;\">82.0</td><td style = \"text-align: right;\">3.0</td></tr><tr><td class = \"rowNumber\" style = \"font-weight: bold; text-align: right;\">400</td><td style = \"text-align: right;\">36.0</td><td style = \"text-align: right;\">4.0</td><td style = \"text-align: right;\">135.0</td><td style = \"text-align: right;\">84.0</td><td style = \"text-align: right;\">2370.0</td><td style = \"text-align: right;\">13.0</td><td style = \"text-align: right;\">82.0</td><td style = \"text-align: right;\">1.0</td></tr><tr><td class = \"rowNumber\" style = \"font-weight: bold; text-align: right;\">401</td><td style = \"text-align: right;\">27.0</td><td style = \"text-align: right;\">4.0</td><td style = \"text-align: right;\">151.0</td><td style = \"text-align: right;\">90.0</td><td style = \"text-align: right;\">2950.0</td><td style = \"text-align: right;\">17.3</td><td style = \"text-align: right;\">82.0</td><td style = \"text-align: right;\">1.0</td></tr><tr><td class = \"rowNumber\" style = \"font-weight: bold; text-align: right;\">402</td><td style = \"text-align: right;\">27.0</td><td style = \"text-align: right;\">4.0</td><td style = \"text-align: right;\">140.0</td><td style = \"text-align: right;\">86.0</td><td style = \"text-align: right;\">2790.0</td><td style = \"text-align: right;\">15.6</td><td style = \"text-align: right;\">82.0</td><td style = \"text-align: right;\">1.0</td></tr><tr><td class = \"rowNumber\" style = \"font-weight: bold; text-align: right;\">403</td><td style = \"text-align: right;\">44.0</td><td style = \"text-align: right;\">4.0</td><td style = \"text-align: right;\">97.0</td><td style = \"text-align: right;\">52.0</td><td style = \"text-align: right;\">2130.0</td><td style = \"text-align: right;\">24.6</td><td style = \"text-align: right;\">82.0</td><td style = \"text-align: right;\">2.0</td></tr><tr><td class = \"rowNumber\" style = \"font-weight: bold; text-align: right;\">404</td><td style = \"text-align: right;\">32.0</td><td style = \"text-align: right;\">4.0</td><td style = \"text-align: right;\">135.0</td><td style = \"text-align: right;\">84.0</td><td style = \"text-align: right;\">2295.0</td><td style = \"text-align: right;\">11.6</td><td style = \"text-align: right;\">82.0</td><td style = \"text-align: right;\">1.0</td></tr><tr><td class = \"rowNumber\" style = \"font-weight: bold; text-align: right;\">405</td><td style = \"text-align: right;\">28.0</td><td style = \"text-align: right;\">4.0</td><td style = \"text-align: right;\">120.0</td><td style = \"text-align: right;\">79.0</td><td style = \"text-align: right;\">2625.0</td><td style = \"text-align: right;\">18.6</td><td style = \"text-align: right;\">82.0</td><td style = \"text-align: right;\">1.0</td></tr><tr><td class = \"rowNumber\" style = \"font-weight: bold; text-align: right;\">406</td><td style = \"text-align: right;\">31.0</td><td style = \"text-align: right;\">4.0</td><td style = \"text-align: right;\">119.0</td><td style = \"text-align: right;\">82.0</td><td style = \"text-align: right;\">2720.0</td><td style = \"text-align: right;\">19.4</td><td style = \"text-align: right;\">82.0</td><td style = \"text-align: right;\">1.0</td></tr></tbody></table></div>"
      ],
      "text/latex": [
       "\\begin{tabular}{r|cccccccc}\n",
       "\t& mpg & cylinders & displacement & horsepower & weight & acceleration & year & origin\\\\\n",
       "\t\\hline\n",
       "\t& Float64? & Float64 & Float64 & Float64? & Float64 & Float64 & Float64 & Float64\\\\\n",
       "\t\\hline\n",
       "\t1 & 18.0 & 8.0 & 307.0 & 130.0 & 3504.0 & 12.0 & 70.0 & 1.0 \\\\\n",
       "\t2 & 15.0 & 8.0 & 350.0 & 165.0 & 3693.0 & 11.5 & 70.0 & 1.0 \\\\\n",
       "\t3 & 18.0 & 8.0 & 318.0 & 150.0 & 3436.0 & 11.0 & 70.0 & 1.0 \\\\\n",
       "\t4 & 16.0 & 8.0 & 304.0 & 150.0 & 3433.0 & 12.0 & 70.0 & 1.0 \\\\\n",
       "\t5 & 17.0 & 8.0 & 302.0 & 140.0 & 3449.0 & 10.5 & 70.0 & 1.0 \\\\\n",
       "\t6 & 15.0 & 8.0 & 429.0 & 198.0 & 4341.0 & 10.0 & 70.0 & 1.0 \\\\\n",
       "\t7 & 14.0 & 8.0 & 454.0 & 220.0 & 4354.0 & 9.0 & 70.0 & 1.0 \\\\\n",
       "\t8 & 14.0 & 8.0 & 440.0 & 215.0 & 4312.0 & 8.5 & 70.0 & 1.0 \\\\\n",
       "\t9 & 14.0 & 8.0 & 455.0 & 225.0 & 4425.0 & 10.0 & 70.0 & 1.0 \\\\\n",
       "\t10 & 15.0 & 8.0 & 390.0 & 190.0 & 3850.0 & 8.5 & 70.0 & 1.0 \\\\\n",
       "\t11 & \\emph{missing} & 4.0 & 133.0 & 115.0 & 3090.0 & 17.5 & 70.0 & 2.0 \\\\\n",
       "\t12 & \\emph{missing} & 8.0 & 350.0 & 165.0 & 4142.0 & 11.5 & 70.0 & 1.0 \\\\\n",
       "\t13 & \\emph{missing} & 8.0 & 351.0 & 153.0 & 4034.0 & 11.0 & 70.0 & 1.0 \\\\\n",
       "\t14 & \\emph{missing} & 8.0 & 383.0 & 175.0 & 4166.0 & 10.5 & 70.0 & 1.0 \\\\\n",
       "\t15 & \\emph{missing} & 8.0 & 360.0 & 175.0 & 3850.0 & 11.0 & 70.0 & 1.0 \\\\\n",
       "\t16 & 15.0 & 8.0 & 383.0 & 170.0 & 3563.0 & 10.0 & 70.0 & 1.0 \\\\\n",
       "\t17 & 14.0 & 8.0 & 340.0 & 160.0 & 3609.0 & 8.0 & 70.0 & 1.0 \\\\\n",
       "\t18 & \\emph{missing} & 8.0 & 302.0 & 140.0 & 3353.0 & 8.0 & 70.0 & 1.0 \\\\\n",
       "\t19 & 15.0 & 8.0 & 400.0 & 150.0 & 3761.0 & 9.5 & 70.0 & 1.0 \\\\\n",
       "\t20 & 14.0 & 8.0 & 455.0 & 225.0 & 3086.0 & 10.0 & 70.0 & 1.0 \\\\\n",
       "\t21 & 24.0 & 4.0 & 113.0 & 95.0 & 2372.0 & 15.0 & 70.0 & 3.0 \\\\\n",
       "\t22 & 22.0 & 6.0 & 198.0 & 95.0 & 2833.0 & 15.5 & 70.0 & 1.0 \\\\\n",
       "\t23 & 18.0 & 6.0 & 199.0 & 97.0 & 2774.0 & 15.5 & 70.0 & 1.0 \\\\\n",
       "\t24 & 21.0 & 6.0 & 200.0 & 85.0 & 2587.0 & 16.0 & 70.0 & 1.0 \\\\\n",
       "\t25 & 27.0 & 4.0 & 97.0 & 88.0 & 2130.0 & 14.5 & 70.0 & 3.0 \\\\\n",
       "\t26 & 26.0 & 4.0 & 97.0 & 46.0 & 1835.0 & 20.5 & 70.0 & 2.0 \\\\\n",
       "\t27 & 25.0 & 4.0 & 110.0 & 87.0 & 2672.0 & 17.5 & 70.0 & 2.0 \\\\\n",
       "\t28 & 24.0 & 4.0 & 107.0 & 90.0 & 2430.0 & 14.5 & 70.0 & 2.0 \\\\\n",
       "\t29 & 25.0 & 4.0 & 104.0 & 95.0 & 2375.0 & 17.5 & 70.0 & 2.0 \\\\\n",
       "\t30 & 26.0 & 4.0 & 121.0 & 113.0 & 2234.0 & 12.5 & 70.0 & 2.0 \\\\\n",
       "\t$\\dots$ & $\\dots$ & $\\dots$ & $\\dots$ & $\\dots$ & $\\dots$ & $\\dots$ & $\\dots$ & $\\dots$ \\\\\n",
       "\\end{tabular}\n"
      ],
      "text/plain": [
       "\u001b[1m406×8 DataFrame\u001b[0m\n",
       "\u001b[1m Row \u001b[0m│\u001b[1m mpg       \u001b[0m\u001b[1m cylinders \u001b[0m\u001b[1m displacement \u001b[0m\u001b[1m horsepower \u001b[0m\u001b[1m weight  \u001b[0m\u001b[1m acceleration \u001b[0m\u001b[1m \u001b[0m ⋯\n",
       "     │\u001b[90m Float64?  \u001b[0m\u001b[90m Float64   \u001b[0m\u001b[90m Float64      \u001b[0m\u001b[90m Float64?   \u001b[0m\u001b[90m Float64 \u001b[0m\u001b[90m Float64      \u001b[0m\u001b[90m \u001b[0m ⋯\n",
       "─────┼──────────────────────────────────────────────────────────────────────────\n",
       "   1 │      18.0        8.0         307.0       130.0   3504.0          12.0   ⋯\n",
       "   2 │      15.0        8.0         350.0       165.0   3693.0          11.5\n",
       "   3 │      18.0        8.0         318.0       150.0   3436.0          11.0\n",
       "   4 │      16.0        8.0         304.0       150.0   3433.0          12.0\n",
       "   5 │      17.0        8.0         302.0       140.0   3449.0          10.5   ⋯\n",
       "   6 │      15.0        8.0         429.0       198.0   4341.0          10.0\n",
       "   7 │      14.0        8.0         454.0       220.0   4354.0           9.0\n",
       "   8 │      14.0        8.0         440.0       215.0   4312.0           8.5\n",
       "   9 │      14.0        8.0         455.0       225.0   4425.0          10.0   ⋯\n",
       "  10 │      15.0        8.0         390.0       190.0   3850.0           8.5\n",
       "  11 │\u001b[90m missing   \u001b[0m       4.0         133.0       115.0   3090.0          17.5\n",
       "  ⋮  │     ⋮          ⋮           ⋮            ⋮          ⋮          ⋮         ⋱\n",
       " 397 │      26.0        4.0         156.0        92.0   2585.0          14.5\n",
       " 398 │      22.0        6.0         232.0       112.0   2835.0          14.7   ⋯\n",
       " 399 │      32.0        4.0         144.0        96.0   2665.0          13.9\n",
       " 400 │      36.0        4.0         135.0        84.0   2370.0          13.0\n",
       " 401 │      27.0        4.0         151.0        90.0   2950.0          17.3\n",
       " 402 │      27.0        4.0         140.0        86.0   2790.0          15.6   ⋯\n",
       " 403 │      44.0        4.0          97.0        52.0   2130.0          24.6\n",
       " 404 │      32.0        4.0         135.0        84.0   2295.0          11.6\n",
       " 405 │      28.0        4.0         120.0        79.0   2625.0          18.6\n",
       " 406 │      31.0        4.0         119.0        82.0   2720.0          19.4   ⋯\n",
       "\u001b[36m                                                  2 columns and 385 rows omitted\u001b[0m"
      ]
     },
     "execution_count": 13,
     "metadata": {},
     "output_type": "execute_result"
    }
   ],
   "source": [
    "# Setting the metrics to it\n",
    "for row in metrics_array\n",
    "    push!(new_df, [v == \"NA\" ? missing : parse(Float64, v) for v in row])\n",
    "end\n",
    "\n",
    "new_df"
   ]
  },
  {
   "cell_type": "code",
   "execution_count": 14,
   "id": "533db0b6",
   "metadata": {},
   "outputs": [
    {
     "data": {
      "text/plain": [
       "406-element Vector{String}:\n",
       " \"chevrolet chevelle malibu\"\n",
       " \"buick skylark 320\"\n",
       " \"plymouth satellite\"\n",
       " \"amc rebel sst\"\n",
       " \"ford torino\"\n",
       " \"ford galaxie 500\"\n",
       " \"chevrolet impala\"\n",
       " \"plymouth fury iii\"\n",
       " \"pontiac catalina\"\n",
       " \"amc ambassador dpl\"\n",
       " \"citroen ds-21 pallas\"\n",
       " \"chevrolet chevelle concours (sw)\"\n",
       " \"ford torino (sw)\"\n",
       " ⋮\n",
       " \"buick century limited\"\n",
       " \"oldsmobile cutlass ciera (diesel)\"\n",
       " \"chrysler lebaron medallion\"\n",
       " \"ford granada l\"\n",
       " \"toyota celica gt\"\n",
       " \"dodge charger 2.2\"\n",
       " \"chevrolet camaro\"\n",
       " \"ford mustang gl\"\n",
       " \"vw pickup\"\n",
       " \"dodge rampage\"\n",
       " \"ford ranger\"\n",
       " \"chevy s-10\""
      ]
     },
     "execution_count": 14,
     "metadata": {},
     "output_type": "execute_result"
    }
   ],
   "source": [
    "# Adding the \"name\" feature\n",
    "new_df.name = df.name"
   ]
  },
  {
   "cell_type": "code",
   "execution_count": 15,
   "id": "535a1e55",
   "metadata": {},
   "outputs": [
    {
     "data": {
      "text/html": [
       "<div><div style = \"float: left;\"><span>406×9 DataFrame</span></div><div style = \"float: right;\"><span style = \"font-style: italic;\">381 rows omitted</span></div><div style = \"clear: both;\"></div></div><div class = \"data-frame\" style = \"overflow-x: scroll;\"><table class = \"data-frame\" style = \"margin-bottom: 6px;\"><thead><tr class = \"header\"><th class = \"rowNumber\" style = \"font-weight: bold; text-align: right;\">Row</th><th style = \"text-align: left;\">mpg</th><th style = \"text-align: left;\">cylinders</th><th style = \"text-align: left;\">displacement</th><th style = \"text-align: left;\">horsepower</th><th style = \"text-align: left;\">weight</th><th style = \"text-align: left;\">acceleration</th><th style = \"text-align: left;\">year</th><th style = \"text-align: left;\">origin</th><th style = \"text-align: left;\">name</th></tr><tr class = \"subheader headerLastRow\"><th class = \"rowNumber\" style = \"font-weight: bold; text-align: right;\"></th><th title = \"Union{Missing, Float64}\" style = \"text-align: left;\">Float64?</th><th title = \"Float64\" style = \"text-align: left;\">Float64</th><th title = \"Float64\" style = \"text-align: left;\">Float64</th><th title = \"Union{Missing, Float64}\" style = \"text-align: left;\">Float64?</th><th title = \"Float64\" style = \"text-align: left;\">Float64</th><th title = \"Float64\" style = \"text-align: left;\">Float64</th><th title = \"Float64\" style = \"text-align: left;\">Float64</th><th title = \"Float64\" style = \"text-align: left;\">Float64</th><th title = \"String\" style = \"text-align: left;\">String</th></tr></thead><tbody><tr><td class = \"rowNumber\" style = \"font-weight: bold; text-align: right;\">1</td><td style = \"text-align: right;\">18.0</td><td style = \"text-align: right;\">8.0</td><td style = \"text-align: right;\">307.0</td><td style = \"text-align: right;\">130.0</td><td style = \"text-align: right;\">3504.0</td><td style = \"text-align: right;\">12.0</td><td style = \"text-align: right;\">70.0</td><td style = \"text-align: right;\">1.0</td><td style = \"text-align: left;\">chevrolet chevelle malibu</td></tr><tr><td class = \"rowNumber\" style = \"font-weight: bold; text-align: right;\">2</td><td style = \"text-align: right;\">15.0</td><td style = \"text-align: right;\">8.0</td><td style = \"text-align: right;\">350.0</td><td style = \"text-align: right;\">165.0</td><td style = \"text-align: right;\">3693.0</td><td style = \"text-align: right;\">11.5</td><td style = \"text-align: right;\">70.0</td><td style = \"text-align: right;\">1.0</td><td style = \"text-align: left;\">buick skylark 320</td></tr><tr><td class = \"rowNumber\" style = \"font-weight: bold; text-align: right;\">3</td><td style = \"text-align: right;\">18.0</td><td style = \"text-align: right;\">8.0</td><td style = \"text-align: right;\">318.0</td><td style = \"text-align: right;\">150.0</td><td style = \"text-align: right;\">3436.0</td><td style = \"text-align: right;\">11.0</td><td style = \"text-align: right;\">70.0</td><td style = \"text-align: right;\">1.0</td><td style = \"text-align: left;\">plymouth satellite</td></tr><tr><td class = \"rowNumber\" style = \"font-weight: bold; text-align: right;\">4</td><td style = \"text-align: right;\">16.0</td><td style = \"text-align: right;\">8.0</td><td style = \"text-align: right;\">304.0</td><td style = \"text-align: right;\">150.0</td><td style = \"text-align: right;\">3433.0</td><td style = \"text-align: right;\">12.0</td><td style = \"text-align: right;\">70.0</td><td style = \"text-align: right;\">1.0</td><td style = \"text-align: left;\">amc rebel sst</td></tr><tr><td class = \"rowNumber\" style = \"font-weight: bold; text-align: right;\">5</td><td style = \"text-align: right;\">17.0</td><td style = \"text-align: right;\">8.0</td><td style = \"text-align: right;\">302.0</td><td style = \"text-align: right;\">140.0</td><td style = \"text-align: right;\">3449.0</td><td style = \"text-align: right;\">10.5</td><td style = \"text-align: right;\">70.0</td><td style = \"text-align: right;\">1.0</td><td style = \"text-align: left;\">ford torino</td></tr><tr><td class = \"rowNumber\" style = \"font-weight: bold; text-align: right;\">6</td><td style = \"text-align: right;\">15.0</td><td style = \"text-align: right;\">8.0</td><td style = \"text-align: right;\">429.0</td><td style = \"text-align: right;\">198.0</td><td style = \"text-align: right;\">4341.0</td><td style = \"text-align: right;\">10.0</td><td style = \"text-align: right;\">70.0</td><td style = \"text-align: right;\">1.0</td><td style = \"text-align: left;\">ford galaxie 500</td></tr><tr><td class = \"rowNumber\" style = \"font-weight: bold; text-align: right;\">7</td><td style = \"text-align: right;\">14.0</td><td style = \"text-align: right;\">8.0</td><td style = \"text-align: right;\">454.0</td><td style = \"text-align: right;\">220.0</td><td style = \"text-align: right;\">4354.0</td><td style = \"text-align: right;\">9.0</td><td style = \"text-align: right;\">70.0</td><td style = \"text-align: right;\">1.0</td><td style = \"text-align: left;\">chevrolet impala</td></tr><tr><td class = \"rowNumber\" style = \"font-weight: bold; text-align: right;\">8</td><td style = \"text-align: right;\">14.0</td><td style = \"text-align: right;\">8.0</td><td style = \"text-align: right;\">440.0</td><td style = \"text-align: right;\">215.0</td><td style = \"text-align: right;\">4312.0</td><td style = \"text-align: right;\">8.5</td><td style = \"text-align: right;\">70.0</td><td style = \"text-align: right;\">1.0</td><td style = \"text-align: left;\">plymouth fury iii</td></tr><tr><td class = \"rowNumber\" style = \"font-weight: bold; text-align: right;\">9</td><td style = \"text-align: right;\">14.0</td><td style = \"text-align: right;\">8.0</td><td style = \"text-align: right;\">455.0</td><td style = \"text-align: right;\">225.0</td><td style = \"text-align: right;\">4425.0</td><td style = \"text-align: right;\">10.0</td><td style = \"text-align: right;\">70.0</td><td style = \"text-align: right;\">1.0</td><td style = \"text-align: left;\">pontiac catalina</td></tr><tr><td class = \"rowNumber\" style = \"font-weight: bold; text-align: right;\">10</td><td style = \"text-align: right;\">15.0</td><td style = \"text-align: right;\">8.0</td><td style = \"text-align: right;\">390.0</td><td style = \"text-align: right;\">190.0</td><td style = \"text-align: right;\">3850.0</td><td style = \"text-align: right;\">8.5</td><td style = \"text-align: right;\">70.0</td><td style = \"text-align: right;\">1.0</td><td style = \"text-align: left;\">amc ambassador dpl</td></tr><tr><td class = \"rowNumber\" style = \"font-weight: bold; text-align: right;\">11</td><td style = \"font-style: italic; text-align: right;\">missing</td><td style = \"text-align: right;\">4.0</td><td style = \"text-align: right;\">133.0</td><td style = \"text-align: right;\">115.0</td><td style = \"text-align: right;\">3090.0</td><td style = \"text-align: right;\">17.5</td><td style = \"text-align: right;\">70.0</td><td style = \"text-align: right;\">2.0</td><td style = \"text-align: left;\">citroen ds-21 pallas</td></tr><tr><td class = \"rowNumber\" style = \"font-weight: bold; text-align: right;\">12</td><td style = \"font-style: italic; text-align: right;\">missing</td><td style = \"text-align: right;\">8.0</td><td style = \"text-align: right;\">350.0</td><td style = \"text-align: right;\">165.0</td><td style = \"text-align: right;\">4142.0</td><td style = \"text-align: right;\">11.5</td><td style = \"text-align: right;\">70.0</td><td style = \"text-align: right;\">1.0</td><td style = \"text-align: left;\">chevrolet chevelle concours (sw)</td></tr><tr><td class = \"rowNumber\" style = \"font-weight: bold; text-align: right;\">13</td><td style = \"font-style: italic; text-align: right;\">missing</td><td style = \"text-align: right;\">8.0</td><td style = \"text-align: right;\">351.0</td><td style = \"text-align: right;\">153.0</td><td style = \"text-align: right;\">4034.0</td><td style = \"text-align: right;\">11.0</td><td style = \"text-align: right;\">70.0</td><td style = \"text-align: right;\">1.0</td><td style = \"text-align: left;\">ford torino (sw)</td></tr><tr><td style = \"text-align: right;\">&vellip;</td><td style = \"text-align: right;\">&vellip;</td><td style = \"text-align: right;\">&vellip;</td><td style = \"text-align: right;\">&vellip;</td><td style = \"text-align: right;\">&vellip;</td><td style = \"text-align: right;\">&vellip;</td><td style = \"text-align: right;\">&vellip;</td><td style = \"text-align: right;\">&vellip;</td><td style = \"text-align: right;\">&vellip;</td><td style = \"text-align: right;\">&vellip;</td></tr><tr><td class = \"rowNumber\" style = \"font-weight: bold; text-align: right;\">395</td><td style = \"font-style: italic; text-align: right;\">25.0</td><td style = \"text-align: right;\">6.0</td><td style = \"text-align: right;\">181.0</td><td style = \"text-align: right;\">110.0</td><td style = \"text-align: right;\">2945.0</td><td style = \"text-align: right;\">16.4</td><td style = \"text-align: right;\">82.0</td><td style = \"text-align: right;\">1.0</td><td style = \"text-align: left;\">buick century limited</td></tr><tr><td class = \"rowNumber\" style = \"font-weight: bold; text-align: right;\">396</td><td style = \"font-style: italic; text-align: right;\">38.0</td><td style = \"text-align: right;\">6.0</td><td style = \"text-align: right;\">262.0</td><td style = \"text-align: right;\">85.0</td><td style = \"text-align: right;\">3015.0</td><td style = \"text-align: right;\">17.0</td><td style = \"text-align: right;\">82.0</td><td style = \"text-align: right;\">1.0</td><td style = \"text-align: left;\">oldsmobile cutlass ciera (diesel)</td></tr><tr><td class = \"rowNumber\" style = \"font-weight: bold; text-align: right;\">397</td><td style = \"text-align: right;\">26.0</td><td style = \"text-align: right;\">4.0</td><td style = \"text-align: right;\">156.0</td><td style = \"text-align: right;\">92.0</td><td style = \"text-align: right;\">2585.0</td><td style = \"text-align: right;\">14.5</td><td style = \"text-align: right;\">82.0</td><td style = \"text-align: right;\">1.0</td><td style = \"text-align: left;\">chrysler lebaron medallion</td></tr><tr><td class = \"rowNumber\" style = \"font-weight: bold; text-align: right;\">398</td><td style = \"text-align: right;\">22.0</td><td style = \"text-align: right;\">6.0</td><td style = \"text-align: right;\">232.0</td><td style = \"text-align: right;\">112.0</td><td style = \"text-align: right;\">2835.0</td><td style = \"text-align: right;\">14.7</td><td style = \"text-align: right;\">82.0</td><td style = \"text-align: right;\">1.0</td><td style = \"text-align: left;\">ford granada l</td></tr><tr><td class = \"rowNumber\" style = \"font-weight: bold; text-align: right;\">399</td><td style = \"font-style: italic; text-align: right;\">32.0</td><td style = \"text-align: right;\">4.0</td><td style = \"text-align: right;\">144.0</td><td style = \"text-align: right;\">96.0</td><td style = \"text-align: right;\">2665.0</td><td style = \"text-align: right;\">13.9</td><td style = \"text-align: right;\">82.0</td><td style = \"text-align: right;\">3.0</td><td style = \"text-align: left;\">toyota celica gt</td></tr><tr><td class = \"rowNumber\" style = \"font-weight: bold; text-align: right;\">400</td><td style = \"text-align: right;\">36.0</td><td style = \"text-align: right;\">4.0</td><td style = \"text-align: right;\">135.0</td><td style = \"text-align: right;\">84.0</td><td style = \"text-align: right;\">2370.0</td><td style = \"text-align: right;\">13.0</td><td style = \"text-align: right;\">82.0</td><td style = \"text-align: right;\">1.0</td><td style = \"text-align: left;\">dodge charger 2.2</td></tr><tr><td class = \"rowNumber\" style = \"font-weight: bold; text-align: right;\">401</td><td style = \"text-align: right;\">27.0</td><td style = \"text-align: right;\">4.0</td><td style = \"text-align: right;\">151.0</td><td style = \"text-align: right;\">90.0</td><td style = \"text-align: right;\">2950.0</td><td style = \"text-align: right;\">17.3</td><td style = \"text-align: right;\">82.0</td><td style = \"text-align: right;\">1.0</td><td style = \"text-align: left;\">chevrolet camaro</td></tr><tr><td class = \"rowNumber\" style = \"font-weight: bold; text-align: right;\">402</td><td style = \"text-align: right;\">27.0</td><td style = \"text-align: right;\">4.0</td><td style = \"text-align: right;\">140.0</td><td style = \"text-align: right;\">86.0</td><td style = \"text-align: right;\">2790.0</td><td style = \"text-align: right;\">15.6</td><td style = \"text-align: right;\">82.0</td><td style = \"text-align: right;\">1.0</td><td style = \"text-align: left;\">ford mustang gl</td></tr><tr><td class = \"rowNumber\" style = \"font-weight: bold; text-align: right;\">403</td><td style = \"text-align: right;\">44.0</td><td style = \"text-align: right;\">4.0</td><td style = \"text-align: right;\">97.0</td><td style = \"text-align: right;\">52.0</td><td style = \"text-align: right;\">2130.0</td><td style = \"text-align: right;\">24.6</td><td style = \"text-align: right;\">82.0</td><td style = \"text-align: right;\">2.0</td><td style = \"text-align: left;\">vw pickup</td></tr><tr><td class = \"rowNumber\" style = \"font-weight: bold; text-align: right;\">404</td><td style = \"text-align: right;\">32.0</td><td style = \"text-align: right;\">4.0</td><td style = \"text-align: right;\">135.0</td><td style = \"text-align: right;\">84.0</td><td style = \"text-align: right;\">2295.0</td><td style = \"text-align: right;\">11.6</td><td style = \"text-align: right;\">82.0</td><td style = \"text-align: right;\">1.0</td><td style = \"text-align: left;\">dodge rampage</td></tr><tr><td class = \"rowNumber\" style = \"font-weight: bold; text-align: right;\">405</td><td style = \"text-align: right;\">28.0</td><td style = \"text-align: right;\">4.0</td><td style = \"text-align: right;\">120.0</td><td style = \"text-align: right;\">79.0</td><td style = \"text-align: right;\">2625.0</td><td style = \"text-align: right;\">18.6</td><td style = \"text-align: right;\">82.0</td><td style = \"text-align: right;\">1.0</td><td style = \"text-align: left;\">ford ranger</td></tr><tr><td class = \"rowNumber\" style = \"font-weight: bold; text-align: right;\">406</td><td style = \"text-align: right;\">31.0</td><td style = \"text-align: right;\">4.0</td><td style = \"text-align: right;\">119.0</td><td style = \"text-align: right;\">82.0</td><td style = \"text-align: right;\">2720.0</td><td style = \"text-align: right;\">19.4</td><td style = \"text-align: right;\">82.0</td><td style = \"text-align: right;\">1.0</td><td style = \"text-align: left;\">chevy s-10</td></tr></tbody></table></div>"
      ],
      "text/latex": [
       "\\begin{tabular}{r|ccccccccc}\n",
       "\t& mpg & cylinders & displacement & horsepower & weight & acceleration & year & origin & \\\\\n",
       "\t\\hline\n",
       "\t& Float64? & Float64 & Float64 & Float64? & Float64 & Float64 & Float64 & Float64 & \\\\\n",
       "\t\\hline\n",
       "\t1 & 18.0 & 8.0 & 307.0 & 130.0 & 3504.0 & 12.0 & 70.0 & 1.0 & $\\dots$ \\\\\n",
       "\t2 & 15.0 & 8.0 & 350.0 & 165.0 & 3693.0 & 11.5 & 70.0 & 1.0 & $\\dots$ \\\\\n",
       "\t3 & 18.0 & 8.0 & 318.0 & 150.0 & 3436.0 & 11.0 & 70.0 & 1.0 & $\\dots$ \\\\\n",
       "\t4 & 16.0 & 8.0 & 304.0 & 150.0 & 3433.0 & 12.0 & 70.0 & 1.0 & $\\dots$ \\\\\n",
       "\t5 & 17.0 & 8.0 & 302.0 & 140.0 & 3449.0 & 10.5 & 70.0 & 1.0 & $\\dots$ \\\\\n",
       "\t6 & 15.0 & 8.0 & 429.0 & 198.0 & 4341.0 & 10.0 & 70.0 & 1.0 & $\\dots$ \\\\\n",
       "\t7 & 14.0 & 8.0 & 454.0 & 220.0 & 4354.0 & 9.0 & 70.0 & 1.0 & $\\dots$ \\\\\n",
       "\t8 & 14.0 & 8.0 & 440.0 & 215.0 & 4312.0 & 8.5 & 70.0 & 1.0 & $\\dots$ \\\\\n",
       "\t9 & 14.0 & 8.0 & 455.0 & 225.0 & 4425.0 & 10.0 & 70.0 & 1.0 & $\\dots$ \\\\\n",
       "\t10 & 15.0 & 8.0 & 390.0 & 190.0 & 3850.0 & 8.5 & 70.0 & 1.0 & $\\dots$ \\\\\n",
       "\t11 & \\emph{missing} & 4.0 & 133.0 & 115.0 & 3090.0 & 17.5 & 70.0 & 2.0 & $\\dots$ \\\\\n",
       "\t12 & \\emph{missing} & 8.0 & 350.0 & 165.0 & 4142.0 & 11.5 & 70.0 & 1.0 & $\\dots$ \\\\\n",
       "\t13 & \\emph{missing} & 8.0 & 351.0 & 153.0 & 4034.0 & 11.0 & 70.0 & 1.0 & $\\dots$ \\\\\n",
       "\t14 & \\emph{missing} & 8.0 & 383.0 & 175.0 & 4166.0 & 10.5 & 70.0 & 1.0 & $\\dots$ \\\\\n",
       "\t15 & \\emph{missing} & 8.0 & 360.0 & 175.0 & 3850.0 & 11.0 & 70.0 & 1.0 & $\\dots$ \\\\\n",
       "\t16 & 15.0 & 8.0 & 383.0 & 170.0 & 3563.0 & 10.0 & 70.0 & 1.0 & $\\dots$ \\\\\n",
       "\t17 & 14.0 & 8.0 & 340.0 & 160.0 & 3609.0 & 8.0 & 70.0 & 1.0 & $\\dots$ \\\\\n",
       "\t18 & \\emph{missing} & 8.0 & 302.0 & 140.0 & 3353.0 & 8.0 & 70.0 & 1.0 & $\\dots$ \\\\\n",
       "\t19 & 15.0 & 8.0 & 400.0 & 150.0 & 3761.0 & 9.5 & 70.0 & 1.0 & $\\dots$ \\\\\n",
       "\t20 & 14.0 & 8.0 & 455.0 & 225.0 & 3086.0 & 10.0 & 70.0 & 1.0 & $\\dots$ \\\\\n",
       "\t21 & 24.0 & 4.0 & 113.0 & 95.0 & 2372.0 & 15.0 & 70.0 & 3.0 & $\\dots$ \\\\\n",
       "\t22 & 22.0 & 6.0 & 198.0 & 95.0 & 2833.0 & 15.5 & 70.0 & 1.0 & $\\dots$ \\\\\n",
       "\t23 & 18.0 & 6.0 & 199.0 & 97.0 & 2774.0 & 15.5 & 70.0 & 1.0 & $\\dots$ \\\\\n",
       "\t24 & 21.0 & 6.0 & 200.0 & 85.0 & 2587.0 & 16.0 & 70.0 & 1.0 & $\\dots$ \\\\\n",
       "\t25 & 27.0 & 4.0 & 97.0 & 88.0 & 2130.0 & 14.5 & 70.0 & 3.0 & $\\dots$ \\\\\n",
       "\t26 & 26.0 & 4.0 & 97.0 & 46.0 & 1835.0 & 20.5 & 70.0 & 2.0 & $\\dots$ \\\\\n",
       "\t27 & 25.0 & 4.0 & 110.0 & 87.0 & 2672.0 & 17.5 & 70.0 & 2.0 & $\\dots$ \\\\\n",
       "\t28 & 24.0 & 4.0 & 107.0 & 90.0 & 2430.0 & 14.5 & 70.0 & 2.0 & $\\dots$ \\\\\n",
       "\t29 & 25.0 & 4.0 & 104.0 & 95.0 & 2375.0 & 17.5 & 70.0 & 2.0 & $\\dots$ \\\\\n",
       "\t30 & 26.0 & 4.0 & 121.0 & 113.0 & 2234.0 & 12.5 & 70.0 & 2.0 & $\\dots$ \\\\\n",
       "\t$\\dots$ & $\\dots$ & $\\dots$ & $\\dots$ & $\\dots$ & $\\dots$ & $\\dots$ & $\\dots$ & $\\dots$ &  \\\\\n",
       "\\end{tabular}\n"
      ],
      "text/plain": [
       "\u001b[1m406×9 DataFrame\u001b[0m\n",
       "\u001b[1m Row \u001b[0m│\u001b[1m mpg       \u001b[0m\u001b[1m cylinders \u001b[0m\u001b[1m displacement \u001b[0m\u001b[1m horsepower \u001b[0m\u001b[1m weight  \u001b[0m\u001b[1m acceleration \u001b[0m\u001b[1m \u001b[0m ⋯\n",
       "     │\u001b[90m Float64?  \u001b[0m\u001b[90m Float64   \u001b[0m\u001b[90m Float64      \u001b[0m\u001b[90m Float64?   \u001b[0m\u001b[90m Float64 \u001b[0m\u001b[90m Float64      \u001b[0m\u001b[90m \u001b[0m ⋯\n",
       "─────┼──────────────────────────────────────────────────────────────────────────\n",
       "   1 │      18.0        8.0         307.0       130.0   3504.0          12.0   ⋯\n",
       "   2 │      15.0        8.0         350.0       165.0   3693.0          11.5\n",
       "   3 │      18.0        8.0         318.0       150.0   3436.0          11.0\n",
       "   4 │      16.0        8.0         304.0       150.0   3433.0          12.0\n",
       "   5 │      17.0        8.0         302.0       140.0   3449.0          10.5   ⋯\n",
       "   6 │      15.0        8.0         429.0       198.0   4341.0          10.0\n",
       "   7 │      14.0        8.0         454.0       220.0   4354.0           9.0\n",
       "   8 │      14.0        8.0         440.0       215.0   4312.0           8.5\n",
       "   9 │      14.0        8.0         455.0       225.0   4425.0          10.0   ⋯\n",
       "  10 │      15.0        8.0         390.0       190.0   3850.0           8.5\n",
       "  11 │\u001b[90m missing   \u001b[0m       4.0         133.0       115.0   3090.0          17.5\n",
       "  ⋮  │     ⋮          ⋮           ⋮            ⋮          ⋮          ⋮         ⋱\n",
       " 397 │      26.0        4.0         156.0        92.0   2585.0          14.5\n",
       " 398 │      22.0        6.0         232.0       112.0   2835.0          14.7   ⋯\n",
       " 399 │      32.0        4.0         144.0        96.0   2665.0          13.9\n",
       " 400 │      36.0        4.0         135.0        84.0   2370.0          13.0\n",
       " 401 │      27.0        4.0         151.0        90.0   2950.0          17.3\n",
       " 402 │      27.0        4.0         140.0        86.0   2790.0          15.6   ⋯\n",
       " 403 │      44.0        4.0          97.0        52.0   2130.0          24.6\n",
       " 404 │      32.0        4.0         135.0        84.0   2295.0          11.6\n",
       " 405 │      28.0        4.0         120.0        79.0   2625.0          18.6\n",
       " 406 │      31.0        4.0         119.0        82.0   2720.0          19.4   ⋯\n",
       "\u001b[36m                                                  3 columns and 385 rows omitted\u001b[0m"
      ]
     },
     "execution_count": 15,
     "metadata": {},
     "output_type": "execute_result"
    }
   ],
   "source": [
    "# Final Result\n",
    "new_df"
   ]
  },
  {
   "cell_type": "markdown",
   "id": "484f75f1",
   "metadata": {},
   "source": [
    "----\n",
    "\n",
    "<b>3) The Way I Would Do</b>"
   ]
  },
  {
   "cell_type": "code",
   "execution_count": 16,
   "id": "ecbb7936",
   "metadata": {},
   "outputs": [
    {
     "data": {
      "text/html": [
       "<div><div style = \"float: left;\"><span>406×2 DataFrame</span></div><div style = \"float: right;\"><span style = \"font-style: italic;\">381 rows omitted</span></div><div style = \"clear: both;\"></div></div><div class = \"data-frame\" style = \"overflow-x: scroll;\"><table class = \"data-frame\" style = \"margin-bottom: 6px;\"><thead><tr class = \"header\"><th class = \"rowNumber\" style = \"font-weight: bold; text-align: right;\">Row</th><th style = \"text-align: left;\">metrics</th><th style = \"text-align: left;\">name</th></tr><tr class = \"subheader headerLastRow\"><th class = \"rowNumber\" style = \"font-weight: bold; text-align: right;\"></th><th title = \"String\" style = \"text-align: left;\">String</th><th title = \"String\" style = \"text-align: left;\">String</th></tr></thead><tbody><tr><td class = \"rowNumber\" style = \"font-weight: bold; text-align: right;\">1</td><td style = \"text-align: left;\">18.0   8.   307.0      130.0      3504.      12.0   70.  1.</td><td style = \"text-align: left;\">chevrolet chevelle malibu</td></tr><tr><td class = \"rowNumber\" style = \"font-weight: bold; text-align: right;\">2</td><td style = \"text-align: left;\">15.0   8.   350.0      165.0      3693.      11.5   70.  1.</td><td style = \"text-align: left;\">buick skylark 320</td></tr><tr><td class = \"rowNumber\" style = \"font-weight: bold; text-align: right;\">3</td><td style = \"text-align: left;\">18.0   8.   318.0      150.0      3436.      11.0   70.  1.</td><td style = \"text-align: left;\">plymouth satellite</td></tr><tr><td class = \"rowNumber\" style = \"font-weight: bold; text-align: right;\">4</td><td style = \"text-align: left;\">16.0   8.   304.0      150.0      3433.      12.0   70.  1.</td><td style = \"text-align: left;\">amc rebel sst</td></tr><tr><td class = \"rowNumber\" style = \"font-weight: bold; text-align: right;\">5</td><td style = \"text-align: left;\">17.0   8.   302.0      140.0      3449.      10.5   70.  1.</td><td style = \"text-align: left;\">ford torino</td></tr><tr><td class = \"rowNumber\" style = \"font-weight: bold; text-align: right;\">6</td><td style = \"text-align: left;\">15.0   8.   429.0      198.0      4341.      10.0   70.  1.</td><td style = \"text-align: left;\">ford galaxie 500</td></tr><tr><td class = \"rowNumber\" style = \"font-weight: bold; text-align: right;\">7</td><td style = \"text-align: left;\">14.0   8.   454.0      220.0      4354.       9.0   70.  1.</td><td style = \"text-align: left;\">chevrolet impala</td></tr><tr><td class = \"rowNumber\" style = \"font-weight: bold; text-align: right;\">8</td><td style = \"text-align: left;\">14.0   8.   440.0      215.0      4312.       8.5   70.  1.</td><td style = \"text-align: left;\">plymouth fury iii</td></tr><tr><td class = \"rowNumber\" style = \"font-weight: bold; text-align: right;\">9</td><td style = \"text-align: left;\">14.0   8.   455.0      225.0      4425.      10.0   70.  1.</td><td style = \"text-align: left;\">pontiac catalina</td></tr><tr><td class = \"rowNumber\" style = \"font-weight: bold; text-align: right;\">10</td><td style = \"text-align: left;\">15.0   8.   390.0      190.0      3850.       8.5   70.  1.</td><td style = \"text-align: left;\">amc ambassador dpl</td></tr><tr><td class = \"rowNumber\" style = \"font-weight: bold; text-align: right;\">11</td><td style = \"text-align: left;\">NA     4.   133.0      115.0      3090.      17.5   70.  2.</td><td style = \"text-align: left;\">citroen ds-21 pallas</td></tr><tr><td class = \"rowNumber\" style = \"font-weight: bold; text-align: right;\">12</td><td style = \"text-align: left;\">NA     8.   350.0      165.0      4142.      11.5   70.  1.</td><td style = \"text-align: left;\">chevrolet chevelle concours (sw)</td></tr><tr><td class = \"rowNumber\" style = \"font-weight: bold; text-align: right;\">13</td><td style = \"text-align: left;\">NA     8.   351.0      153.0      4034.      11.0   70.  1.</td><td style = \"text-align: left;\">ford torino (sw)</td></tr><tr><td style = \"text-align: right;\">&vellip;</td><td style = \"text-align: right;\">&vellip;</td><td style = \"text-align: right;\">&vellip;</td></tr><tr><td class = \"rowNumber\" style = \"font-weight: bold; text-align: right;\">395</td><td style = \"text-align: left;\">25.0   6.   181.0      110.0      2945.      16.4   82.  1.</td><td style = \"text-align: left;\">buick century limited</td></tr><tr><td class = \"rowNumber\" style = \"font-weight: bold; text-align: right;\">396</td><td style = \"text-align: left;\">38.0   6.   262.0      85.00      3015.      17.0   82.  1.</td><td style = \"text-align: left;\">oldsmobile cutlass ciera (diesel)</td></tr><tr><td class = \"rowNumber\" style = \"font-weight: bold; text-align: right;\">397</td><td style = \"text-align: left;\">26.0   4.   156.0      92.00      2585.      14.5   82.  1.</td><td style = \"text-align: left;\">chrysler lebaron medallion</td></tr><tr><td class = \"rowNumber\" style = \"font-weight: bold; text-align: right;\">398</td><td style = \"text-align: left;\">22.0   6.   232.0      112.0      2835       14.7   82.  1.</td><td style = \"text-align: left;\">ford granada l</td></tr><tr><td class = \"rowNumber\" style = \"font-weight: bold; text-align: right;\">399</td><td style = \"text-align: left;\">32.0   4.   144.0      96.00      2665.      13.9   82.  3.</td><td style = \"text-align: left;\">toyota celica gt</td></tr><tr><td class = \"rowNumber\" style = \"font-weight: bold; text-align: right;\">400</td><td style = \"text-align: left;\">36.0   4.   135.0      84.00      2370.      13.0   82.  1.</td><td style = \"text-align: left;\">dodge charger 2.2</td></tr><tr><td class = \"rowNumber\" style = \"font-weight: bold; text-align: right;\">401</td><td style = \"text-align: left;\">27.0   4.   151.0      90.00      2950.      17.3   82.  1.</td><td style = \"text-align: left;\">chevrolet camaro</td></tr><tr><td class = \"rowNumber\" style = \"font-weight: bold; text-align: right;\">402</td><td style = \"text-align: left;\">27.0   4.   140.0      86.00      2790.      15.6   82.  1.</td><td style = \"text-align: left;\">ford mustang gl</td></tr><tr><td class = \"rowNumber\" style = \"font-weight: bold; text-align: right;\">403</td><td style = \"text-align: left;\">44.0   4.   97.00      52.00      2130.      24.6   82.  2.</td><td style = \"text-align: left;\">vw pickup</td></tr><tr><td class = \"rowNumber\" style = \"font-weight: bold; text-align: right;\">404</td><td style = \"text-align: left;\">32.0   4.   135.0      84.00      2295.      11.6   82.  1.</td><td style = \"text-align: left;\">dodge rampage</td></tr><tr><td class = \"rowNumber\" style = \"font-weight: bold; text-align: right;\">405</td><td style = \"text-align: left;\">28.0   4.   120.0      79.00      2625.      18.6   82.  1.</td><td style = \"text-align: left;\">ford ranger</td></tr><tr><td class = \"rowNumber\" style = \"font-weight: bold; text-align: right;\">406</td><td style = \"text-align: left;\">31.0   4.   119.0      82.00      2720.      19.4   82.  1.</td><td style = \"text-align: left;\">chevy s-10</td></tr></tbody></table></div>"
      ],
      "text/latex": [
       "\\begin{tabular}{r|cc}\n",
       "\t& metrics & name\\\\\n",
       "\t\\hline\n",
       "\t& String & String\\\\\n",
       "\t\\hline\n",
       "\t1 & 18.0   8.   307.0      130.0      3504.      12.0   70.  1. & chevrolet chevelle malibu \\\\\n",
       "\t2 & 15.0   8.   350.0      165.0      3693.      11.5   70.  1. & buick skylark 320 \\\\\n",
       "\t3 & 18.0   8.   318.0      150.0      3436.      11.0   70.  1. & plymouth satellite \\\\\n",
       "\t4 & 16.0   8.   304.0      150.0      3433.      12.0   70.  1. & amc rebel sst \\\\\n",
       "\t5 & 17.0   8.   302.0      140.0      3449.      10.5   70.  1. & ford torino \\\\\n",
       "\t6 & 15.0   8.   429.0      198.0      4341.      10.0   70.  1. & ford galaxie 500 \\\\\n",
       "\t7 & 14.0   8.   454.0      220.0      4354.       9.0   70.  1. & chevrolet impala \\\\\n",
       "\t8 & 14.0   8.   440.0      215.0      4312.       8.5   70.  1. & plymouth fury iii \\\\\n",
       "\t9 & 14.0   8.   455.0      225.0      4425.      10.0   70.  1. & pontiac catalina \\\\\n",
       "\t10 & 15.0   8.   390.0      190.0      3850.       8.5   70.  1. & amc ambassador dpl \\\\\n",
       "\t11 & NA     4.   133.0      115.0      3090.      17.5   70.  2. & citroen ds-21 pallas \\\\\n",
       "\t12 & NA     8.   350.0      165.0      4142.      11.5   70.  1. & chevrolet chevelle concours (sw) \\\\\n",
       "\t13 & NA     8.   351.0      153.0      4034.      11.0   70.  1. & ford torino (sw) \\\\\n",
       "\t14 & NA     8.   383.0      175.0      4166.      10.5   70.  1. & plymouth satellite (sw) \\\\\n",
       "\t15 & NA     8.   360.0      175.0      3850.      11.0   70.  1. & amc rebel sst (sw) \\\\\n",
       "\t16 & 15.0   8.   383.0      170.0      3563.      10.0   70.  1. & dodge challenger se \\\\\n",
       "\t17 & 14.0   8.   340.0      160.0      3609.       8.0   70.  1. & plymouth 'cuda 340 \\\\\n",
       "\t18 & NA     8.   302.0      140.0      3353.       8.0   70.  1. & ford mustang boss 302 \\\\\n",
       "\t19 & 15.0   8.   400.0      150.0      3761.       9.5   70.  1. & chevrolet monte carlo \\\\\n",
       "\t20 & 14.0   8.   455.0      225.0      3086.      10.0   70.  1. & buick estate wagon (sw) \\\\\n",
       "\t21 & 24.0   4.   113.0      95.00      2372.      15.0   70.  3. & toyota corona mark ii \\\\\n",
       "\t22 & 22.0   6.   198.0      95.00      2833.      15.5   70.  1. & plymouth duster \\\\\n",
       "\t23 & 18.0   6.   199.0      97.00      2774.      15.5   70.  1. & amc hornet \\\\\n",
       "\t24 & 21.0   6.   200.0      85.00      2587.      16.0   70.  1. & ford maverick \\\\\n",
       "\t25 & 27.0   4.   97.00      88.00      2130.      14.5   70.  3. & datsun pl510 \\\\\n",
       "\t26 & 26.0   4.   97.00      46.00      1835.      20.5   70.  2. & volkswagen 1131 deluxe sedan \\\\\n",
       "\t27 & 25.0   4.   110.0      87.00      2672.      17.5   70.  2. & peugeot 504 \\\\\n",
       "\t28 & 24.0   4.   107.0      90.00      2430.      14.5   70.  2. & audi 100 ls \\\\\n",
       "\t29 & 25.0   4.   104.0      95.00      2375.      17.5   70.  2. & saab 99e \\\\\n",
       "\t30 & 26.0   4.   121.0      113.0      2234.      12.5   70.  2. & bmw 2002 \\\\\n",
       "\t$\\dots$ & $\\dots$ & $\\dots$ \\\\\n",
       "\\end{tabular}\n"
      ],
      "text/plain": [
       "\u001b[1m406×2 DataFrame\u001b[0m\n",
       "\u001b[1m Row \u001b[0m│\u001b[1m metrics                           \u001b[0m\u001b[1m name                              \u001b[0m\n",
       "     │\u001b[90m String                            \u001b[0m\u001b[90m String                            \u001b[0m\n",
       "─────┼──────────────────────────────────────────────────────────────────────\n",
       "   1 │ 18.0   8.   307.0      130.0    …  chevrolet chevelle malibu\n",
       "   2 │ 15.0   8.   350.0      165.0    …  buick skylark 320\n",
       "   3 │ 18.0   8.   318.0      150.0    …  plymouth satellite\n",
       "   4 │ 16.0   8.   304.0      150.0    …  amc rebel sst\n",
       "   5 │ 17.0   8.   302.0      140.0    …  ford torino\n",
       "   6 │ 15.0   8.   429.0      198.0    …  ford galaxie 500\n",
       "   7 │ 14.0   8.   454.0      220.0    …  chevrolet impala\n",
       "   8 │ 14.0   8.   440.0      215.0    …  plymouth fury iii\n",
       "   9 │ 14.0   8.   455.0      225.0    …  pontiac catalina\n",
       "  10 │ 15.0   8.   390.0      190.0    …  amc ambassador dpl\n",
       "  11 │ NA     4.   133.0      115.0    …  citroen ds-21 pallas\n",
       "  ⋮  │                 ⋮                                  ⋮\n",
       " 397 │ 26.0   4.   156.0      92.00    …  chrysler lebaron medallion\n",
       " 398 │ 22.0   6.   232.0      112.0    …  ford granada l\n",
       " 399 │ 32.0   4.   144.0      96.00    …  toyota celica gt\n",
       " 400 │ 36.0   4.   135.0      84.00    …  dodge charger 2.2\n",
       " 401 │ 27.0   4.   151.0      90.00    …  chevrolet camaro\n",
       " 402 │ 27.0   4.   140.0      86.00    …  ford mustang gl\n",
       " 403 │ 44.0   4.   97.00      52.00    …  vw pickup\n",
       " 404 │ 32.0   4.   135.0      84.00    …  dodge rampage\n",
       " 405 │ 28.0   4.   120.0      79.00    …  ford ranger\n",
       " 406 │ 31.0   4.   119.0      82.00    …  chevy s-10\n",
       "\u001b[36m                                                            385 rows omitted\u001b[0m"
      ]
     },
     "execution_count": 16,
     "metadata": {},
     "output_type": "execute_result"
    }
   ],
   "source": [
    "# Reading the dataset\n",
    "df = CSV.File(\"auto.txt\", header=[:metrics, :name]) |> DataFrame"
   ]
  },
  {
   "cell_type": "code",
   "execution_count": 17,
   "id": "6ce9967f",
   "metadata": {},
   "outputs": [
    {
     "data": {
      "text/html": [
       "<div><div style = \"float: left;\"><span>406×9 DataFrame</span></div><div style = \"float: right;\"><span style = \"font-style: italic;\">381 rows omitted</span></div><div style = \"clear: both;\"></div></div><div class = \"data-frame\" style = \"overflow-x: scroll;\"><table class = \"data-frame\" style = \"margin-bottom: 6px;\"><thead><tr class = \"header\"><th class = \"rowNumber\" style = \"font-weight: bold; text-align: right;\">Row</th><th style = \"text-align: left;\">mpg</th><th style = \"text-align: left;\">cylinders</th><th style = \"text-align: left;\">displacement</th><th style = \"text-align: left;\">horsepower</th><th style = \"text-align: left;\">weight</th><th style = \"text-align: left;\">acceleration</th><th style = \"text-align: left;\">year</th><th style = \"text-align: left;\">origin</th><th style = \"text-align: left;\">name</th></tr><tr class = \"subheader headerLastRow\"><th class = \"rowNumber\" style = \"font-weight: bold; text-align: right;\"></th><th title = \"Union{Missing, Float64}\" style = \"text-align: left;\">Float64?</th><th title = \"Float64\" style = \"text-align: left;\">Float64</th><th title = \"Float64\" style = \"text-align: left;\">Float64</th><th title = \"Union{Missing, Float64}\" style = \"text-align: left;\">Float64?</th><th title = \"Float64\" style = \"text-align: left;\">Float64</th><th title = \"Float64\" style = \"text-align: left;\">Float64</th><th title = \"Float64\" style = \"text-align: left;\">Float64</th><th title = \"Float64\" style = \"text-align: left;\">Float64</th><th title = \"String\" style = \"text-align: left;\">String</th></tr></thead><tbody><tr><td class = \"rowNumber\" style = \"font-weight: bold; text-align: right;\">1</td><td style = \"text-align: right;\">18.0</td><td style = \"text-align: right;\">8.0</td><td style = \"text-align: right;\">307.0</td><td style = \"text-align: right;\">130.0</td><td style = \"text-align: right;\">3504.0</td><td style = \"text-align: right;\">12.0</td><td style = \"text-align: right;\">70.0</td><td style = \"text-align: right;\">1.0</td><td style = \"text-align: left;\">chevrolet chevelle malibu</td></tr><tr><td class = \"rowNumber\" style = \"font-weight: bold; text-align: right;\">2</td><td style = \"text-align: right;\">15.0</td><td style = \"text-align: right;\">8.0</td><td style = \"text-align: right;\">350.0</td><td style = \"text-align: right;\">165.0</td><td style = \"text-align: right;\">3693.0</td><td style = \"text-align: right;\">11.5</td><td style = \"text-align: right;\">70.0</td><td style = \"text-align: right;\">1.0</td><td style = \"text-align: left;\">buick skylark 320</td></tr><tr><td class = \"rowNumber\" style = \"font-weight: bold; text-align: right;\">3</td><td style = \"text-align: right;\">18.0</td><td style = \"text-align: right;\">8.0</td><td style = \"text-align: right;\">318.0</td><td style = \"text-align: right;\">150.0</td><td style = \"text-align: right;\">3436.0</td><td style = \"text-align: right;\">11.0</td><td style = \"text-align: right;\">70.0</td><td style = \"text-align: right;\">1.0</td><td style = \"text-align: left;\">plymouth satellite</td></tr><tr><td class = \"rowNumber\" style = \"font-weight: bold; text-align: right;\">4</td><td style = \"text-align: right;\">16.0</td><td style = \"text-align: right;\">8.0</td><td style = \"text-align: right;\">304.0</td><td style = \"text-align: right;\">150.0</td><td style = \"text-align: right;\">3433.0</td><td style = \"text-align: right;\">12.0</td><td style = \"text-align: right;\">70.0</td><td style = \"text-align: right;\">1.0</td><td style = \"text-align: left;\">amc rebel sst</td></tr><tr><td class = \"rowNumber\" style = \"font-weight: bold; text-align: right;\">5</td><td style = \"text-align: right;\">17.0</td><td style = \"text-align: right;\">8.0</td><td style = \"text-align: right;\">302.0</td><td style = \"text-align: right;\">140.0</td><td style = \"text-align: right;\">3449.0</td><td style = \"text-align: right;\">10.5</td><td style = \"text-align: right;\">70.0</td><td style = \"text-align: right;\">1.0</td><td style = \"text-align: left;\">ford torino</td></tr><tr><td class = \"rowNumber\" style = \"font-weight: bold; text-align: right;\">6</td><td style = \"text-align: right;\">15.0</td><td style = \"text-align: right;\">8.0</td><td style = \"text-align: right;\">429.0</td><td style = \"text-align: right;\">198.0</td><td style = \"text-align: right;\">4341.0</td><td style = \"text-align: right;\">10.0</td><td style = \"text-align: right;\">70.0</td><td style = \"text-align: right;\">1.0</td><td style = \"text-align: left;\">ford galaxie 500</td></tr><tr><td class = \"rowNumber\" style = \"font-weight: bold; text-align: right;\">7</td><td style = \"text-align: right;\">14.0</td><td style = \"text-align: right;\">8.0</td><td style = \"text-align: right;\">454.0</td><td style = \"text-align: right;\">220.0</td><td style = \"text-align: right;\">4354.0</td><td style = \"text-align: right;\">9.0</td><td style = \"text-align: right;\">70.0</td><td style = \"text-align: right;\">1.0</td><td style = \"text-align: left;\">chevrolet impala</td></tr><tr><td class = \"rowNumber\" style = \"font-weight: bold; text-align: right;\">8</td><td style = \"text-align: right;\">14.0</td><td style = \"text-align: right;\">8.0</td><td style = \"text-align: right;\">440.0</td><td style = \"text-align: right;\">215.0</td><td style = \"text-align: right;\">4312.0</td><td style = \"text-align: right;\">8.5</td><td style = \"text-align: right;\">70.0</td><td style = \"text-align: right;\">1.0</td><td style = \"text-align: left;\">plymouth fury iii</td></tr><tr><td class = \"rowNumber\" style = \"font-weight: bold; text-align: right;\">9</td><td style = \"text-align: right;\">14.0</td><td style = \"text-align: right;\">8.0</td><td style = \"text-align: right;\">455.0</td><td style = \"text-align: right;\">225.0</td><td style = \"text-align: right;\">4425.0</td><td style = \"text-align: right;\">10.0</td><td style = \"text-align: right;\">70.0</td><td style = \"text-align: right;\">1.0</td><td style = \"text-align: left;\">pontiac catalina</td></tr><tr><td class = \"rowNumber\" style = \"font-weight: bold; text-align: right;\">10</td><td style = \"text-align: right;\">15.0</td><td style = \"text-align: right;\">8.0</td><td style = \"text-align: right;\">390.0</td><td style = \"text-align: right;\">190.0</td><td style = \"text-align: right;\">3850.0</td><td style = \"text-align: right;\">8.5</td><td style = \"text-align: right;\">70.0</td><td style = \"text-align: right;\">1.0</td><td style = \"text-align: left;\">amc ambassador dpl</td></tr><tr><td class = \"rowNumber\" style = \"font-weight: bold; text-align: right;\">11</td><td style = \"font-style: italic; text-align: right;\">missing</td><td style = \"text-align: right;\">4.0</td><td style = \"text-align: right;\">133.0</td><td style = \"text-align: right;\">115.0</td><td style = \"text-align: right;\">3090.0</td><td style = \"text-align: right;\">17.5</td><td style = \"text-align: right;\">70.0</td><td style = \"text-align: right;\">2.0</td><td style = \"text-align: left;\">citroen ds-21 pallas</td></tr><tr><td class = \"rowNumber\" style = \"font-weight: bold; text-align: right;\">12</td><td style = \"font-style: italic; text-align: right;\">missing</td><td style = \"text-align: right;\">8.0</td><td style = \"text-align: right;\">350.0</td><td style = \"text-align: right;\">165.0</td><td style = \"text-align: right;\">4142.0</td><td style = \"text-align: right;\">11.5</td><td style = \"text-align: right;\">70.0</td><td style = \"text-align: right;\">1.0</td><td style = \"text-align: left;\">chevrolet chevelle concours (sw)</td></tr><tr><td class = \"rowNumber\" style = \"font-weight: bold; text-align: right;\">13</td><td style = \"font-style: italic; text-align: right;\">missing</td><td style = \"text-align: right;\">8.0</td><td style = \"text-align: right;\">351.0</td><td style = \"text-align: right;\">153.0</td><td style = \"text-align: right;\">4034.0</td><td style = \"text-align: right;\">11.0</td><td style = \"text-align: right;\">70.0</td><td style = \"text-align: right;\">1.0</td><td style = \"text-align: left;\">ford torino (sw)</td></tr><tr><td style = \"text-align: right;\">&vellip;</td><td style = \"text-align: right;\">&vellip;</td><td style = \"text-align: right;\">&vellip;</td><td style = \"text-align: right;\">&vellip;</td><td style = \"text-align: right;\">&vellip;</td><td style = \"text-align: right;\">&vellip;</td><td style = \"text-align: right;\">&vellip;</td><td style = \"text-align: right;\">&vellip;</td><td style = \"text-align: right;\">&vellip;</td><td style = \"text-align: right;\">&vellip;</td></tr><tr><td class = \"rowNumber\" style = \"font-weight: bold; text-align: right;\">395</td><td style = \"font-style: italic; text-align: right;\">25.0</td><td style = \"text-align: right;\">6.0</td><td style = \"text-align: right;\">181.0</td><td style = \"text-align: right;\">110.0</td><td style = \"text-align: right;\">2945.0</td><td style = \"text-align: right;\">16.4</td><td style = \"text-align: right;\">82.0</td><td style = \"text-align: right;\">1.0</td><td style = \"text-align: left;\">buick century limited</td></tr><tr><td class = \"rowNumber\" style = \"font-weight: bold; text-align: right;\">396</td><td style = \"font-style: italic; text-align: right;\">38.0</td><td style = \"text-align: right;\">6.0</td><td style = \"text-align: right;\">262.0</td><td style = \"text-align: right;\">85.0</td><td style = \"text-align: right;\">3015.0</td><td style = \"text-align: right;\">17.0</td><td style = \"text-align: right;\">82.0</td><td style = \"text-align: right;\">1.0</td><td style = \"text-align: left;\">oldsmobile cutlass ciera (diesel)</td></tr><tr><td class = \"rowNumber\" style = \"font-weight: bold; text-align: right;\">397</td><td style = \"text-align: right;\">26.0</td><td style = \"text-align: right;\">4.0</td><td style = \"text-align: right;\">156.0</td><td style = \"text-align: right;\">92.0</td><td style = \"text-align: right;\">2585.0</td><td style = \"text-align: right;\">14.5</td><td style = \"text-align: right;\">82.0</td><td style = \"text-align: right;\">1.0</td><td style = \"text-align: left;\">chrysler lebaron medallion</td></tr><tr><td class = \"rowNumber\" style = \"font-weight: bold; text-align: right;\">398</td><td style = \"text-align: right;\">22.0</td><td style = \"text-align: right;\">6.0</td><td style = \"text-align: right;\">232.0</td><td style = \"text-align: right;\">112.0</td><td style = \"text-align: right;\">2835.0</td><td style = \"text-align: right;\">14.7</td><td style = \"text-align: right;\">82.0</td><td style = \"text-align: right;\">1.0</td><td style = \"text-align: left;\">ford granada l</td></tr><tr><td class = \"rowNumber\" style = \"font-weight: bold; text-align: right;\">399</td><td style = \"font-style: italic; text-align: right;\">32.0</td><td style = \"text-align: right;\">4.0</td><td style = \"text-align: right;\">144.0</td><td style = \"text-align: right;\">96.0</td><td style = \"text-align: right;\">2665.0</td><td style = \"text-align: right;\">13.9</td><td style = \"text-align: right;\">82.0</td><td style = \"text-align: right;\">3.0</td><td style = \"text-align: left;\">toyota celica gt</td></tr><tr><td class = \"rowNumber\" style = \"font-weight: bold; text-align: right;\">400</td><td style = \"text-align: right;\">36.0</td><td style = \"text-align: right;\">4.0</td><td style = \"text-align: right;\">135.0</td><td style = \"text-align: right;\">84.0</td><td style = \"text-align: right;\">2370.0</td><td style = \"text-align: right;\">13.0</td><td style = \"text-align: right;\">82.0</td><td style = \"text-align: right;\">1.0</td><td style = \"text-align: left;\">dodge charger 2.2</td></tr><tr><td class = \"rowNumber\" style = \"font-weight: bold; text-align: right;\">401</td><td style = \"text-align: right;\">27.0</td><td style = \"text-align: right;\">4.0</td><td style = \"text-align: right;\">151.0</td><td style = \"text-align: right;\">90.0</td><td style = \"text-align: right;\">2950.0</td><td style = \"text-align: right;\">17.3</td><td style = \"text-align: right;\">82.0</td><td style = \"text-align: right;\">1.0</td><td style = \"text-align: left;\">chevrolet camaro</td></tr><tr><td class = \"rowNumber\" style = \"font-weight: bold; text-align: right;\">402</td><td style = \"text-align: right;\">27.0</td><td style = \"text-align: right;\">4.0</td><td style = \"text-align: right;\">140.0</td><td style = \"text-align: right;\">86.0</td><td style = \"text-align: right;\">2790.0</td><td style = \"text-align: right;\">15.6</td><td style = \"text-align: right;\">82.0</td><td style = \"text-align: right;\">1.0</td><td style = \"text-align: left;\">ford mustang gl</td></tr><tr><td class = \"rowNumber\" style = \"font-weight: bold; text-align: right;\">403</td><td style = \"text-align: right;\">44.0</td><td style = \"text-align: right;\">4.0</td><td style = \"text-align: right;\">97.0</td><td style = \"text-align: right;\">52.0</td><td style = \"text-align: right;\">2130.0</td><td style = \"text-align: right;\">24.6</td><td style = \"text-align: right;\">82.0</td><td style = \"text-align: right;\">2.0</td><td style = \"text-align: left;\">vw pickup</td></tr><tr><td class = \"rowNumber\" style = \"font-weight: bold; text-align: right;\">404</td><td style = \"text-align: right;\">32.0</td><td style = \"text-align: right;\">4.0</td><td style = \"text-align: right;\">135.0</td><td style = \"text-align: right;\">84.0</td><td style = \"text-align: right;\">2295.0</td><td style = \"text-align: right;\">11.6</td><td style = \"text-align: right;\">82.0</td><td style = \"text-align: right;\">1.0</td><td style = \"text-align: left;\">dodge rampage</td></tr><tr><td class = \"rowNumber\" style = \"font-weight: bold; text-align: right;\">405</td><td style = \"text-align: right;\">28.0</td><td style = \"text-align: right;\">4.0</td><td style = \"text-align: right;\">120.0</td><td style = \"text-align: right;\">79.0</td><td style = \"text-align: right;\">2625.0</td><td style = \"text-align: right;\">18.6</td><td style = \"text-align: right;\">82.0</td><td style = \"text-align: right;\">1.0</td><td style = \"text-align: left;\">ford ranger</td></tr><tr><td class = \"rowNumber\" style = \"font-weight: bold; text-align: right;\">406</td><td style = \"text-align: right;\">31.0</td><td style = \"text-align: right;\">4.0</td><td style = \"text-align: right;\">119.0</td><td style = \"text-align: right;\">82.0</td><td style = \"text-align: right;\">2720.0</td><td style = \"text-align: right;\">19.4</td><td style = \"text-align: right;\">82.0</td><td style = \"text-align: right;\">1.0</td><td style = \"text-align: left;\">chevy s-10</td></tr></tbody></table></div>"
      ],
      "text/latex": [
       "\\begin{tabular}{r|ccccccccc}\n",
       "\t& mpg & cylinders & displacement & horsepower & weight & acceleration & year & origin & \\\\\n",
       "\t\\hline\n",
       "\t& Float64? & Float64 & Float64 & Float64? & Float64 & Float64 & Float64 & Float64 & \\\\\n",
       "\t\\hline\n",
       "\t1 & 18.0 & 8.0 & 307.0 & 130.0 & 3504.0 & 12.0 & 70.0 & 1.0 & $\\dots$ \\\\\n",
       "\t2 & 15.0 & 8.0 & 350.0 & 165.0 & 3693.0 & 11.5 & 70.0 & 1.0 & $\\dots$ \\\\\n",
       "\t3 & 18.0 & 8.0 & 318.0 & 150.0 & 3436.0 & 11.0 & 70.0 & 1.0 & $\\dots$ \\\\\n",
       "\t4 & 16.0 & 8.0 & 304.0 & 150.0 & 3433.0 & 12.0 & 70.0 & 1.0 & $\\dots$ \\\\\n",
       "\t5 & 17.0 & 8.0 & 302.0 & 140.0 & 3449.0 & 10.5 & 70.0 & 1.0 & $\\dots$ \\\\\n",
       "\t6 & 15.0 & 8.0 & 429.0 & 198.0 & 4341.0 & 10.0 & 70.0 & 1.0 & $\\dots$ \\\\\n",
       "\t7 & 14.0 & 8.0 & 454.0 & 220.0 & 4354.0 & 9.0 & 70.0 & 1.0 & $\\dots$ \\\\\n",
       "\t8 & 14.0 & 8.0 & 440.0 & 215.0 & 4312.0 & 8.5 & 70.0 & 1.0 & $\\dots$ \\\\\n",
       "\t9 & 14.0 & 8.0 & 455.0 & 225.0 & 4425.0 & 10.0 & 70.0 & 1.0 & $\\dots$ \\\\\n",
       "\t10 & 15.0 & 8.0 & 390.0 & 190.0 & 3850.0 & 8.5 & 70.0 & 1.0 & $\\dots$ \\\\\n",
       "\t11 & \\emph{missing} & 4.0 & 133.0 & 115.0 & 3090.0 & 17.5 & 70.0 & 2.0 & $\\dots$ \\\\\n",
       "\t12 & \\emph{missing} & 8.0 & 350.0 & 165.0 & 4142.0 & 11.5 & 70.0 & 1.0 & $\\dots$ \\\\\n",
       "\t13 & \\emph{missing} & 8.0 & 351.0 & 153.0 & 4034.0 & 11.0 & 70.0 & 1.0 & $\\dots$ \\\\\n",
       "\t14 & \\emph{missing} & 8.0 & 383.0 & 175.0 & 4166.0 & 10.5 & 70.0 & 1.0 & $\\dots$ \\\\\n",
       "\t15 & \\emph{missing} & 8.0 & 360.0 & 175.0 & 3850.0 & 11.0 & 70.0 & 1.0 & $\\dots$ \\\\\n",
       "\t16 & 15.0 & 8.0 & 383.0 & 170.0 & 3563.0 & 10.0 & 70.0 & 1.0 & $\\dots$ \\\\\n",
       "\t17 & 14.0 & 8.0 & 340.0 & 160.0 & 3609.0 & 8.0 & 70.0 & 1.0 & $\\dots$ \\\\\n",
       "\t18 & \\emph{missing} & 8.0 & 302.0 & 140.0 & 3353.0 & 8.0 & 70.0 & 1.0 & $\\dots$ \\\\\n",
       "\t19 & 15.0 & 8.0 & 400.0 & 150.0 & 3761.0 & 9.5 & 70.0 & 1.0 & $\\dots$ \\\\\n",
       "\t20 & 14.0 & 8.0 & 455.0 & 225.0 & 3086.0 & 10.0 & 70.0 & 1.0 & $\\dots$ \\\\\n",
       "\t21 & 24.0 & 4.0 & 113.0 & 95.0 & 2372.0 & 15.0 & 70.0 & 3.0 & $\\dots$ \\\\\n",
       "\t22 & 22.0 & 6.0 & 198.0 & 95.0 & 2833.0 & 15.5 & 70.0 & 1.0 & $\\dots$ \\\\\n",
       "\t23 & 18.0 & 6.0 & 199.0 & 97.0 & 2774.0 & 15.5 & 70.0 & 1.0 & $\\dots$ \\\\\n",
       "\t24 & 21.0 & 6.0 & 200.0 & 85.0 & 2587.0 & 16.0 & 70.0 & 1.0 & $\\dots$ \\\\\n",
       "\t25 & 27.0 & 4.0 & 97.0 & 88.0 & 2130.0 & 14.5 & 70.0 & 3.0 & $\\dots$ \\\\\n",
       "\t26 & 26.0 & 4.0 & 97.0 & 46.0 & 1835.0 & 20.5 & 70.0 & 2.0 & $\\dots$ \\\\\n",
       "\t27 & 25.0 & 4.0 & 110.0 & 87.0 & 2672.0 & 17.5 & 70.0 & 2.0 & $\\dots$ \\\\\n",
       "\t28 & 24.0 & 4.0 & 107.0 & 90.0 & 2430.0 & 14.5 & 70.0 & 2.0 & $\\dots$ \\\\\n",
       "\t29 & 25.0 & 4.0 & 104.0 & 95.0 & 2375.0 & 17.5 & 70.0 & 2.0 & $\\dots$ \\\\\n",
       "\t30 & 26.0 & 4.0 & 121.0 & 113.0 & 2234.0 & 12.5 & 70.0 & 2.0 & $\\dots$ \\\\\n",
       "\t$\\dots$ & $\\dots$ & $\\dots$ & $\\dots$ & $\\dots$ & $\\dots$ & $\\dots$ & $\\dots$ & $\\dots$ &  \\\\\n",
       "\\end{tabular}\n"
      ],
      "text/plain": [
       "\u001b[1m406×9 DataFrame\u001b[0m\n",
       "\u001b[1m Row \u001b[0m│\u001b[1m mpg       \u001b[0m\u001b[1m cylinders \u001b[0m\u001b[1m displacement \u001b[0m\u001b[1m horsepower \u001b[0m\u001b[1m weight  \u001b[0m\u001b[1m acceleration \u001b[0m\u001b[1m \u001b[0m ⋯\n",
       "     │\u001b[90m Float64?  \u001b[0m\u001b[90m Float64   \u001b[0m\u001b[90m Float64      \u001b[0m\u001b[90m Float64?   \u001b[0m\u001b[90m Float64 \u001b[0m\u001b[90m Float64      \u001b[0m\u001b[90m \u001b[0m ⋯\n",
       "─────┼──────────────────────────────────────────────────────────────────────────\n",
       "   1 │      18.0        8.0         307.0       130.0   3504.0          12.0   ⋯\n",
       "   2 │      15.0        8.0         350.0       165.0   3693.0          11.5\n",
       "   3 │      18.0        8.0         318.0       150.0   3436.0          11.0\n",
       "   4 │      16.0        8.0         304.0       150.0   3433.0          12.0\n",
       "   5 │      17.0        8.0         302.0       140.0   3449.0          10.5   ⋯\n",
       "   6 │      15.0        8.0         429.0       198.0   4341.0          10.0\n",
       "   7 │      14.0        8.0         454.0       220.0   4354.0           9.0\n",
       "   8 │      14.0        8.0         440.0       215.0   4312.0           8.5\n",
       "   9 │      14.0        8.0         455.0       225.0   4425.0          10.0   ⋯\n",
       "  10 │      15.0        8.0         390.0       190.0   3850.0           8.5\n",
       "  11 │\u001b[90m missing   \u001b[0m       4.0         133.0       115.0   3090.0          17.5\n",
       "  ⋮  │     ⋮          ⋮           ⋮            ⋮          ⋮          ⋮         ⋱\n",
       " 397 │      26.0        4.0         156.0        92.0   2585.0          14.5\n",
       " 398 │      22.0        6.0         232.0       112.0   2835.0          14.7   ⋯\n",
       " 399 │      32.0        4.0         144.0        96.0   2665.0          13.9\n",
       " 400 │      36.0        4.0         135.0        84.0   2370.0          13.0\n",
       " 401 │      27.0        4.0         151.0        90.0   2950.0          17.3\n",
       " 402 │      27.0        4.0         140.0        86.0   2790.0          15.6   ⋯\n",
       " 403 │      44.0        4.0          97.0        52.0   2130.0          24.6\n",
       " 404 │      32.0        4.0         135.0        84.0   2295.0          11.6\n",
       " 405 │      28.0        4.0         120.0        79.0   2625.0          18.6\n",
       " 406 │      31.0        4.0         119.0        82.0   2720.0          19.4   ⋯\n",
       "\u001b[36m                                                  3 columns and 385 rows omitted\u001b[0m"
      ]
     },
     "execution_count": 17,
     "metadata": {},
     "output_type": "execute_result"
    }
   ],
   "source": [
    "# Transforming the datas\n",
    "new_df = select(\n",
    "    df\n",
    "    , :metrics =>\n",
    "    ByRow(x -> something.(tryparse.(Float64, split(x)), missing)) =>\n",
    "    [:mpg, :cylinders, :displacement, :horsepower, :weight, :acceleration, :year, :origin]\n",
    "    , :name\n",
    ")"
   ]
  },
  {
   "cell_type": "markdown",
   "id": "5a5ea720",
   "metadata": {},
   "source": [
    "----\n",
    "\n",
    "<b>4) Operations</b>"
   ]
  },
  {
   "cell_type": "code",
   "execution_count": 18,
   "id": "c7a0f502",
   "metadata": {},
   "outputs": [
    {
     "data": {
      "text/plain": [
       "14"
      ]
     },
     "execution_count": 18,
     "metadata": {},
     "output_type": "execute_result"
    }
   ],
   "source": [
    "# Counting Missing Values\n",
    "count(ismissing, Matrix(new_df))"
   ]
  },
  {
   "cell_type": "code",
   "execution_count": 19,
   "id": "6e6469c3",
   "metadata": {},
   "outputs": [
    {
     "data": {
      "text/html": [
       "<div><div style = \"float: left;\"><span>14×9 DataFrame</span></div><div style = \"clear: both;\"></div></div><div class = \"data-frame\" style = \"overflow-x: scroll;\"><table class = \"data-frame\" style = \"margin-bottom: 6px;\"><thead><tr class = \"header\"><th class = \"rowNumber\" style = \"font-weight: bold; text-align: right;\">Row</th><th style = \"text-align: left;\">mpg</th><th style = \"text-align: left;\">cylinders</th><th style = \"text-align: left;\">displacement</th><th style = \"text-align: left;\">horsepower</th><th style = \"text-align: left;\">weight</th><th style = \"text-align: left;\">acceleration</th><th style = \"text-align: left;\">year</th><th style = \"text-align: left;\">origin</th><th style = \"text-align: left;\">name</th></tr><tr class = \"subheader headerLastRow\"><th class = \"rowNumber\" style = \"font-weight: bold; text-align: right;\"></th><th title = \"Union{Missing, Float64}\" style = \"text-align: left;\">Float64?</th><th title = \"Float64\" style = \"text-align: left;\">Float64</th><th title = \"Float64\" style = \"text-align: left;\">Float64</th><th title = \"Union{Missing, Float64}\" style = \"text-align: left;\">Float64?</th><th title = \"Float64\" style = \"text-align: left;\">Float64</th><th title = \"Float64\" style = \"text-align: left;\">Float64</th><th title = \"Float64\" style = \"text-align: left;\">Float64</th><th title = \"Float64\" style = \"text-align: left;\">Float64</th><th title = \"String\" style = \"text-align: left;\">String</th></tr></thead><tbody><tr><td class = \"rowNumber\" style = \"font-weight: bold; text-align: right;\">1</td><td style = \"font-style: italic; text-align: right;\">missing</td><td style = \"text-align: right;\">4.0</td><td style = \"text-align: right;\">133.0</td><td style = \"text-align: right;\">115.0</td><td style = \"text-align: right;\">3090.0</td><td style = \"text-align: right;\">17.5</td><td style = \"text-align: right;\">70.0</td><td style = \"text-align: right;\">2.0</td><td style = \"text-align: left;\">citroen ds-21 pallas</td></tr><tr><td class = \"rowNumber\" style = \"font-weight: bold; text-align: right;\">2</td><td style = \"font-style: italic; text-align: right;\">missing</td><td style = \"text-align: right;\">8.0</td><td style = \"text-align: right;\">350.0</td><td style = \"text-align: right;\">165.0</td><td style = \"text-align: right;\">4142.0</td><td style = \"text-align: right;\">11.5</td><td style = \"text-align: right;\">70.0</td><td style = \"text-align: right;\">1.0</td><td style = \"text-align: left;\">chevrolet chevelle concours (sw)</td></tr><tr><td class = \"rowNumber\" style = \"font-weight: bold; text-align: right;\">3</td><td style = \"font-style: italic; text-align: right;\">missing</td><td style = \"text-align: right;\">8.0</td><td style = \"text-align: right;\">351.0</td><td style = \"text-align: right;\">153.0</td><td style = \"text-align: right;\">4034.0</td><td style = \"text-align: right;\">11.0</td><td style = \"text-align: right;\">70.0</td><td style = \"text-align: right;\">1.0</td><td style = \"text-align: left;\">ford torino (sw)</td></tr><tr><td class = \"rowNumber\" style = \"font-weight: bold; text-align: right;\">4</td><td style = \"font-style: italic; text-align: right;\">missing</td><td style = \"text-align: right;\">8.0</td><td style = \"text-align: right;\">383.0</td><td style = \"text-align: right;\">175.0</td><td style = \"text-align: right;\">4166.0</td><td style = \"text-align: right;\">10.5</td><td style = \"text-align: right;\">70.0</td><td style = \"text-align: right;\">1.0</td><td style = \"text-align: left;\">plymouth satellite (sw)</td></tr><tr><td class = \"rowNumber\" style = \"font-weight: bold; text-align: right;\">5</td><td style = \"font-style: italic; text-align: right;\">missing</td><td style = \"text-align: right;\">8.0</td><td style = \"text-align: right;\">360.0</td><td style = \"text-align: right;\">175.0</td><td style = \"text-align: right;\">3850.0</td><td style = \"text-align: right;\">11.0</td><td style = \"text-align: right;\">70.0</td><td style = \"text-align: right;\">1.0</td><td style = \"text-align: left;\">amc rebel sst (sw)</td></tr><tr><td class = \"rowNumber\" style = \"font-weight: bold; text-align: right;\">6</td><td style = \"font-style: italic; text-align: right;\">missing</td><td style = \"text-align: right;\">8.0</td><td style = \"text-align: right;\">302.0</td><td style = \"text-align: right;\">140.0</td><td style = \"text-align: right;\">3353.0</td><td style = \"text-align: right;\">8.0</td><td style = \"text-align: right;\">70.0</td><td style = \"text-align: right;\">1.0</td><td style = \"text-align: left;\">ford mustang boss 302</td></tr><tr><td class = \"rowNumber\" style = \"font-weight: bold; text-align: right;\">7</td><td style = \"text-align: right;\">25.0</td><td style = \"text-align: right;\">4.0</td><td style = \"text-align: right;\">98.0</td><td style = \"font-style: italic; text-align: right;\">missing</td><td style = \"text-align: right;\">2046.0</td><td style = \"text-align: right;\">19.0</td><td style = \"text-align: right;\">71.0</td><td style = \"text-align: right;\">1.0</td><td style = \"text-align: left;\">ford pinto</td></tr><tr><td class = \"rowNumber\" style = \"font-weight: bold; text-align: right;\">8</td><td style = \"font-style: italic; text-align: right;\">missing</td><td style = \"text-align: right;\">4.0</td><td style = \"text-align: right;\">97.0</td><td style = \"text-align: right;\">48.0</td><td style = \"text-align: right;\">1978.0</td><td style = \"text-align: right;\">20.0</td><td style = \"text-align: right;\">71.0</td><td style = \"text-align: right;\">2.0</td><td style = \"text-align: left;\">volkswagen super beetle 117</td></tr><tr><td class = \"rowNumber\" style = \"font-weight: bold; text-align: right;\">9</td><td style = \"text-align: right;\">21.0</td><td style = \"text-align: right;\">6.0</td><td style = \"text-align: right;\">200.0</td><td style = \"font-style: italic; text-align: right;\">missing</td><td style = \"text-align: right;\">2875.0</td><td style = \"text-align: right;\">17.0</td><td style = \"text-align: right;\">74.0</td><td style = \"text-align: right;\">1.0</td><td style = \"text-align: left;\">ford maverick</td></tr><tr><td class = \"rowNumber\" style = \"font-weight: bold; text-align: right;\">10</td><td style = \"text-align: right;\">40.9</td><td style = \"text-align: right;\">4.0</td><td style = \"text-align: right;\">85.0</td><td style = \"font-style: italic; text-align: right;\">missing</td><td style = \"text-align: right;\">1835.0</td><td style = \"text-align: right;\">17.3</td><td style = \"text-align: right;\">80.0</td><td style = \"text-align: right;\">2.0</td><td style = \"text-align: left;\">renault lecar deluxe</td></tr><tr><td class = \"rowNumber\" style = \"font-weight: bold; text-align: right;\">11</td><td style = \"text-align: right;\">23.6</td><td style = \"text-align: right;\">4.0</td><td style = \"text-align: right;\">140.0</td><td style = \"font-style: italic; text-align: right;\">missing</td><td style = \"text-align: right;\">2905.0</td><td style = \"text-align: right;\">14.3</td><td style = \"text-align: right;\">80.0</td><td style = \"text-align: right;\">1.0</td><td style = \"text-align: left;\">ford mustang cobra</td></tr><tr><td class = \"rowNumber\" style = \"font-weight: bold; text-align: right;\">12</td><td style = \"text-align: right;\">34.5</td><td style = \"text-align: right;\">4.0</td><td style = \"text-align: right;\">100.0</td><td style = \"font-style: italic; text-align: right;\">missing</td><td style = \"text-align: right;\">2320.0</td><td style = \"text-align: right;\">15.8</td><td style = \"text-align: right;\">81.0</td><td style = \"text-align: right;\">2.0</td><td style = \"text-align: left;\">renault 18i</td></tr><tr><td class = \"rowNumber\" style = \"font-weight: bold; text-align: right;\">13</td><td style = \"font-style: italic; text-align: right;\">missing</td><td style = \"text-align: right;\">4.0</td><td style = \"text-align: right;\">121.0</td><td style = \"text-align: right;\">110.0</td><td style = \"text-align: right;\">2800.0</td><td style = \"text-align: right;\">15.4</td><td style = \"text-align: right;\">81.0</td><td style = \"text-align: right;\">2.0</td><td style = \"text-align: left;\">saab 900s</td></tr><tr><td class = \"rowNumber\" style = \"font-weight: bold; text-align: right;\">14</td><td style = \"text-align: right;\">23.0</td><td style = \"text-align: right;\">4.0</td><td style = \"text-align: right;\">151.0</td><td style = \"font-style: italic; text-align: right;\">missing</td><td style = \"text-align: right;\">3035.0</td><td style = \"text-align: right;\">20.5</td><td style = \"text-align: right;\">82.0</td><td style = \"text-align: right;\">1.0</td><td style = \"text-align: left;\">amc concord dl</td></tr></tbody></table></div>"
      ],
      "text/latex": [
       "\\begin{tabular}{r|ccccccccc}\n",
       "\t& mpg & cylinders & displacement & horsepower & weight & acceleration & year & origin & \\\\\n",
       "\t\\hline\n",
       "\t& Float64? & Float64 & Float64 & Float64? & Float64 & Float64 & Float64 & Float64 & \\\\\n",
       "\t\\hline\n",
       "\t1 & \\emph{missing} & 4.0 & 133.0 & 115.0 & 3090.0 & 17.5 & 70.0 & 2.0 & $\\dots$ \\\\\n",
       "\t2 & \\emph{missing} & 8.0 & 350.0 & 165.0 & 4142.0 & 11.5 & 70.0 & 1.0 & $\\dots$ \\\\\n",
       "\t3 & \\emph{missing} & 8.0 & 351.0 & 153.0 & 4034.0 & 11.0 & 70.0 & 1.0 & $\\dots$ \\\\\n",
       "\t4 & \\emph{missing} & 8.0 & 383.0 & 175.0 & 4166.0 & 10.5 & 70.0 & 1.0 & $\\dots$ \\\\\n",
       "\t5 & \\emph{missing} & 8.0 & 360.0 & 175.0 & 3850.0 & 11.0 & 70.0 & 1.0 & $\\dots$ \\\\\n",
       "\t6 & \\emph{missing} & 8.0 & 302.0 & 140.0 & 3353.0 & 8.0 & 70.0 & 1.0 & $\\dots$ \\\\\n",
       "\t7 & 25.0 & 4.0 & 98.0 & \\emph{missing} & 2046.0 & 19.0 & 71.0 & 1.0 & $\\dots$ \\\\\n",
       "\t8 & \\emph{missing} & 4.0 & 97.0 & 48.0 & 1978.0 & 20.0 & 71.0 & 2.0 & $\\dots$ \\\\\n",
       "\t9 & 21.0 & 6.0 & 200.0 & \\emph{missing} & 2875.0 & 17.0 & 74.0 & 1.0 & $\\dots$ \\\\\n",
       "\t10 & 40.9 & 4.0 & 85.0 & \\emph{missing} & 1835.0 & 17.3 & 80.0 & 2.0 & $\\dots$ \\\\\n",
       "\t11 & 23.6 & 4.0 & 140.0 & \\emph{missing} & 2905.0 & 14.3 & 80.0 & 1.0 & $\\dots$ \\\\\n",
       "\t12 & 34.5 & 4.0 & 100.0 & \\emph{missing} & 2320.0 & 15.8 & 81.0 & 2.0 & $\\dots$ \\\\\n",
       "\t13 & \\emph{missing} & 4.0 & 121.0 & 110.0 & 2800.0 & 15.4 & 81.0 & 2.0 & $\\dots$ \\\\\n",
       "\t14 & 23.0 & 4.0 & 151.0 & \\emph{missing} & 3035.0 & 20.5 & 82.0 & 1.0 & $\\dots$ \\\\\n",
       "\\end{tabular}\n"
      ],
      "text/plain": [
       "\u001b[1m14×9 DataFrame\u001b[0m\n",
       "\u001b[1m Row \u001b[0m│\u001b[1m mpg       \u001b[0m\u001b[1m cylinders \u001b[0m\u001b[1m displacement \u001b[0m\u001b[1m horsepower \u001b[0m\u001b[1m weight  \u001b[0m\u001b[1m acceleration \u001b[0m\u001b[1m \u001b[0m ⋯\n",
       "     │\u001b[90m Float64?  \u001b[0m\u001b[90m Float64   \u001b[0m\u001b[90m Float64      \u001b[0m\u001b[90m Float64?   \u001b[0m\u001b[90m Float64 \u001b[0m\u001b[90m Float64      \u001b[0m\u001b[90m \u001b[0m ⋯\n",
       "─────┼──────────────────────────────────────────────────────────────────────────\n",
       "   1 │\u001b[90m missing   \u001b[0m       4.0         133.0       115.0   3090.0          17.5   ⋯\n",
       "   2 │\u001b[90m missing   \u001b[0m       8.0         350.0       165.0   4142.0          11.5\n",
       "   3 │\u001b[90m missing   \u001b[0m       8.0         351.0       153.0   4034.0          11.0\n",
       "   4 │\u001b[90m missing   \u001b[0m       8.0         383.0       175.0   4166.0          10.5\n",
       "   5 │\u001b[90m missing   \u001b[0m       8.0         360.0       175.0   3850.0          11.0   ⋯\n",
       "   6 │\u001b[90m missing   \u001b[0m       8.0         302.0       140.0   3353.0           8.0\n",
       "   7 │      25.0        4.0          98.0 \u001b[90m  missing   \u001b[0m  2046.0          19.0\n",
       "   8 │\u001b[90m missing   \u001b[0m       4.0          97.0        48.0   1978.0          20.0\n",
       "   9 │      21.0        6.0         200.0 \u001b[90m  missing   \u001b[0m  2875.0          17.0   ⋯\n",
       "  10 │      40.9        4.0          85.0 \u001b[90m  missing   \u001b[0m  1835.0          17.3\n",
       "  11 │      23.6        4.0         140.0 \u001b[90m  missing   \u001b[0m  2905.0          14.3\n",
       "  12 │      34.5        4.0         100.0 \u001b[90m  missing   \u001b[0m  2320.0          15.8\n",
       "  13 │\u001b[90m missing   \u001b[0m       4.0         121.0       110.0   2800.0          15.4   ⋯\n",
       "  14 │      23.0        4.0         151.0 \u001b[90m  missing   \u001b[0m  3035.0          20.5\n",
       "\u001b[36m                                                               3 columns omitted\u001b[0m"
      ]
     },
     "execution_count": 19,
     "metadata": {},
     "output_type": "execute_result"
    }
   ],
   "source": [
    "# Filtering Rows (that has missing values)\n",
    "filter(row -> any(ismissing, row), new_df)"
   ]
  },
  {
   "cell_type": "code",
   "execution_count": 20,
   "id": "a88570e3",
   "metadata": {},
   "outputs": [
    {
     "data": {
      "text/plain": [
       "(406, 2)"
      ]
     },
     "execution_count": 20,
     "metadata": {},
     "output_type": "execute_result"
    }
   ],
   "source": [
    "# Shape (rows, columns)\n",
    "size(df)"
   ]
  },
  {
   "cell_type": "markdown",
   "id": "699d79d3",
   "metadata": {},
   "source": [
    "----\n",
    "\n",
    "<b>5) Saving the DataSet in File</b>"
   ]
  },
  {
   "cell_type": "code",
   "execution_count": 64,
   "id": "d57bce93",
   "metadata": {},
   "outputs": [
    {
     "data": {
      "text/plain": [
       "\"auto2.csv\""
      ]
     },
     "execution_count": 64,
     "metadata": {},
     "output_type": "execute_result"
    }
   ],
   "source": [
    "# CSV Format\n",
    "CSV.write(\"auto2.csv\", new_df)"
   ]
  },
  {
   "cell_type": "code",
   "execution_count": 66,
   "id": "efa5f958",
   "metadata": {},
   "outputs": [
    {
     "data": {
      "text/plain": [
       "\"auto2.arrow\""
      ]
     },
     "execution_count": 66,
     "metadata": {},
     "output_type": "execute_result"
    }
   ],
   "source": [
    "# Arrow Format\n",
    "Arrow.write(\"auto2.arrow\", new_df)"
   ]
  },
  {
   "cell_type": "code",
   "execution_count": 67,
   "id": "60deff15",
   "metadata": {},
   "outputs": [
    {
     "data": {
      "text/plain": [
       "407-element Vector{String}:\n",
       " \"mpg,cylinders,displacement,horsepower,weight,acceleration,year,origin,name\"\n",
       " \"18.0,8.0,307.0,130.0,3504.0,12.0,70.0,1.0,chevrolet chevelle malibu\"\n",
       " \"15.0,8.0,350.0,165.0,3693.0,11.5,70.0,1.0,buick skylark 320\"\n",
       " \"18.0,8.0,318.0,150.0,3436.0,11.0,70.0,1.0,plymouth satellite\"\n",
       " \"16.0,8.0,304.0,150.0,3433.0,12.0,70.0,1.0,amc rebel sst\"\n",
       " \"17.0,8.0,302.0,140.0,3449.0,10.5,70.0,1.0,ford torino\"\n",
       " \"15.0,8.0,429.0,198.0,4341.0,10.0,70.0,1.0,ford galaxie 500\"\n",
       " \"14.0,8.0,454.0,220.0,4354.0,9.0,70.0,1.0,chevrolet impala\"\n",
       " \"14.0,8.0,440.0,215.0,4312.0,8.5,70.0,1.0,plymouth fury iii\"\n",
       " \"14.0,8.0,455.0,225.0,4425.0,10.0,70.0,1.0,pontiac catalina\"\n",
       " \"15.0,8.0,390.0,190.0,3850.0,8.5,70.0,1.0,amc ambassador dpl\"\n",
       " \",4.0,133.0,115.0,3090.0,17.5,70.0,2.0,citroen ds-21 pallas\"\n",
       " \",8.0,350.0,165.0,4142.0,11.5,70.0,1.0,chevrolet chevelle concours (sw)\"\n",
       " ⋮\n",
       " \"25.0,6.0,181.0,110.0,2945.0,16.4,82.0,1.0,buick century limited\"\n",
       " \"38.0,6.0,262.0,85.0,3015.0,17.0,82.0,1.0,oldsmobile cutlass ciera (diesel)\"\n",
       " \"26.0,4.0,156.0,92.0,2585.0,14.5,82.0,1.0,chrysler lebaron medallion\"\n",
       " \"22.0,6.0,232.0,112.0,2835.0,14.7,82.0,1.0,ford granada l\"\n",
       " \"32.0,4.0,144.0,96.0,2665.0,13.9,82.0,3.0,toyota celica gt\"\n",
       " \"36.0,4.0,135.0,84.0,2370.0,13.0,82.0,1.0,dodge charger 2.2\"\n",
       " \"27.0,4.0,151.0,90.0,2950.0,17.3,82.0,1.0,chevrolet camaro\"\n",
       " \"27.0,4.0,140.0,86.0,2790.0,15.6,82.0,1.0,ford mustang gl\"\n",
       " \"44.0,4.0,97.0,52.0,2130.0,24.6,82.0,2.0,vw pickup\"\n",
       " \"32.0,4.0,135.0,84.0,2295.0,11.6,82.0,1.0,dodge rampage\"\n",
       " \"28.0,4.0,120.0,79.0,2625.0,18.6,82.0,1.0,ford ranger\"\n",
       " \"31.0,4.0,119.0,82.0,2720.0,19.4,82.0,1.0,chevy s-10\""
      ]
     },
     "execution_count": 67,
     "metadata": {},
     "output_type": "execute_result"
    }
   ],
   "source": [
    "# Reaind the CSV File\n",
    "readlines(\"auto2.csv\")"
   ]
  },
  {
   "cell_type": "code",
   "execution_count": 68,
   "id": "1e221a5f",
   "metadata": {},
   "outputs": [
    {
     "data": {
      "text/plain": [
       "30-element Vector{String}:\n",
       " \"ARROW1\\0\\0\\xff\\xff\\xff\\xff \\x02\\0\\0\\x10\\0\\0\\0\\0\\0\"\n",
       " \"\\0\\f\\0\"\n",
       " \"\\0\\b\\0\\x04\\0\"\n",
       " \"\\0\\0\\0\\x10\\0\\0\\0\\x01\\0\\x04\\0\\b\\0\\b\\0\\0\\0\\x04\\0\\b\\0\\0\\0\\x04\\0\\0\\0\\t\\0\\0\\0\" ⋯ 266 bytes ⋯ \"\\xff\\xff\\x10\\0\\0\\0\\x10\\0\\0\\0\\x03\\0\\0\\x01\\x10\\0\\0\\0\\0\\0\\0\\0J\\xff\\xff\\xff\\0\\0\\x02\\0\"\n",
       " \"\\0\\0\\0horsepower\\0\\0\\xcc\\xff\\xff\\xff\\x10\\0\\0\\0\\x10\\0\\0\\0\\0\\0\\x03\\0\" ⋯ 188 bytes ⋯ \"\\x14\\0\\x12\\0\\f\\0\\x04\\0\\f\\0\\0\\0\\0\\x86\\0\\0\\0\\0\\0\\0\\x14\\0\\0\\0\\0\\0\\x03\\0\\x04\\0\"\n",
       " \"\\0\\x18\\0\\f\\0\\b\\0\\x04\\0\"\n",
       " \"\\0\\0\\0\\x14\\0\\0\\0H\\x01\\0\\0\\x96\\x01\\0\\0\\0\\0\\0\\0\\0\\0\\0\\0\\x13\\0\\0\\0\\0\\0\\0\" ⋯ 15236 bytes ⋯ \"@\\0\\0\\0\\0\\0\\x84\\x9c@\\0\\0\\0\\0\\0\\x18\\x9f@\\0\\0\\0\\0\\0֠@\\0\\0\\0\\0\\0\"\n",
       " \"\\xa4@\\0\\0\\0\\0\\0\\x9c\\xa8@\\0\\0\\0\\0\\0Ȯ@\\0\\0\\0\\0\\0\\x8c\\xa9@\\0\\0\\0\\0\\0\\xe4\\xa6\" ⋯ 398 bytes ⋯ \"H\\xac@\\0\\0\\0\\0\\0\\xa4\\xaa@\\0\\0\\0\\0\\0ª@\\0\\0\\0\\0\\0\\xea\\xaa@\\0\\0\\0\\0\\0\"\n",
       " \"\\xa9@\\0\\0\\0\\0\\0\\xe0\\xaf@\\0\\0\\0\\0\\0֠@\\0\\0\\0\\0\\0\\0\\xa4@\\0\\0\\0\\0\\0\\xf8\" ⋯ 11009 bytes ⋯ \"\\0\\xa9\\x03\\0\\0\\xbb\\x03\\0\\0\\xc4\\x03\\0\\0\\xcf\\x03\\0\\0\\xd8\\x03\\0\\0\\xeb\\x03\\0\\0\\xf6\\x03\\0\\0\"\n",
       " \"\\x04\\0\\0\\x1a\\x04\\0\\0/\\x04\\0\\0A\\x04\\0\\0R\\x04\\0\\0`\\x04\\0\\0s\\x04\\0\\0\\x83\\x04\\0\\0\" ⋯ 299 bytes ⋯ \"\\0\\xa4\\t\\0\\0\\xb9\\t\\0\\0\\xc9\\t\\0\\0\\xd1\\t\\0\\0\\xe2\\t\\0\\0\\xec\\t\\0\\0\\xf9\\t\\0\\0\\x03\"\n",
       " \"\\0\\0\"\n",
       " \"\\0\\0\\x15\"\n",
       " \"\\0\\0 \"\n",
       " ⋮\n",
       " \"\\0\\0n\"\n",
       " \"\\0\\0{\"\n",
       " \"\\0\\0\\x8b\"\n",
       " \"\\0\\0\\x9c\"\n",
       " \"\\0\\0\\xaf\"\n",
       " \"\\0\\0\\xb7\"\n",
       " \"\\0\\0\\xc4\"\n",
       " \"\\0\\0\\xdd\"\n",
       " \"\\0\\0\\xe8\"\n",
       " \"\\0\\0\\xf5\"\n",
       " \"\\0\\0\\x02\\v\\0\\0\\x15\\v\\0\\0\\$\\v\\0\\x002\\v\\0\\0<\\v\\0\\0G\\v\\0\\0T\\v\\0\\0\" ⋯ 7842 bytes ⋯ \"\\xff\\xff\\x10\\0\\0\\0\\x10\\0\\0\\0\\x03\\0\\0\\x01\\x10\\0\\0\\0\\0\\0\\0\\0J\\xff\\xff\\xff\\0\\0\\x02\\0\"\n",
       " \"\\0\\0\\0horsepower\\0\\0\\xcc\\xff\\xff\\xff\\x10\\0\\0\\0\\x10\\0\\0\\0\\0\\0\\x03\\0\" ⋯ 144 bytes ⋯ \"\\b\\0\\x06\\0\\x06\\0\\0\\0\\0\\0\\x02\\0\\x03\\0\\0\\0mpg\\0@\\x02\\0\\0ARROW1\""
      ]
     },
     "execution_count": 68,
     "metadata": {},
     "output_type": "execute_result"
    }
   ],
   "source": [
    "# Reading Arrow File\n",
    "readlines(\"auto2.arrow\")"
   ]
  }
 ],
 "metadata": {
  "kernelspec": {
   "display_name": "Julia 1.8.5",
   "language": "julia",
   "name": "julia-1.8"
  },
  "language_info": {
   "file_extension": ".jl",
   "mimetype": "application/julia",
   "name": "julia",
   "version": "1.8.5"
  }
 },
 "nbformat": 4,
 "nbformat_minor": 5
}

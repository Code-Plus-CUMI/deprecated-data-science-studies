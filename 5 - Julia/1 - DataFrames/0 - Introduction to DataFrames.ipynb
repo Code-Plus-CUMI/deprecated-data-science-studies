{
 "cells": [
  {
   "cell_type": "markdown",
   "id": "134ae680",
   "metadata": {},
   "source": [
    "<h1 align=\"center\">---- DataFrames ----</h1>"
   ]
  },
  {
   "cell_type": "markdown",
   "id": "3bb2c58e",
   "metadata": {},
   "source": [
    "<b>0) Importing Libraries</b>"
   ]
  },
  {
   "cell_type": "code",
   "execution_count": 6,
   "id": "e04eb34d",
   "metadata": {},
   "outputs": [
    {
     "name": "stderr",
     "output_type": "stream",
     "text": [
      "\u001b[32m\u001b[1m   Resolving\u001b[22m\u001b[39m package versions...\n",
      "\u001b[32m\u001b[1m  No Changes\u001b[22m\u001b[39m to `C:\\Users\\gabri\\.julia\\environments\\v1.8\\Project.toml`\n",
      "\u001b[32m\u001b[1m  No Changes\u001b[22m\u001b[39m to `C:\\Users\\gabri\\.julia\\environments\\v1.8\\Manifest.toml`\n",
      "\u001b[32m\u001b[1mPrecompiling\u001b[22m\u001b[39m project...\n",
      "\u001b[91m  ✗ \u001b[39m\u001b[90mPyCall\u001b[39m\n",
      "\u001b[91m  ✗ \u001b[39mPyPlot\n",
      "  0 dependencies successfully precompiled in 6 seconds. 171 already precompiled.\n",
      "  \u001b[91m2\u001b[39m dependencies errored. To see a full report either run `import Pkg; Pkg.precompile()` or load the packages\n",
      "\u001b[32m\u001b[1m   Resolving\u001b[22m\u001b[39m package versions...\n",
      "\u001b[32m\u001b[1m    Updating\u001b[22m\u001b[39m `C:\\Users\\gabri\\.julia\\environments\\v1.8\\Project.toml`\n",
      " \u001b[90m [10745b16] \u001b[39m\u001b[92m+ Statistics\u001b[39m\n",
      "\u001b[32m\u001b[1m  No Changes\u001b[22m\u001b[39m to `C:\\Users\\gabri\\.julia\\environments\\v1.8\\Manifest.toml`\n",
      "\u001b[32m\u001b[1m   Resolving\u001b[22m\u001b[39m package versions...\n",
      "\u001b[32m\u001b[1m   Installed\u001b[22m\u001b[39m Rmath_jll ─────────────── v0.4.0+0\n",
      "\u001b[32m\u001b[1m   Installed\u001b[22m\u001b[39m PDMats ────────────────── v0.11.16\n",
      "\u001b[32m\u001b[1m   Installed\u001b[22m\u001b[39m StatsFuns ─────────────── v1.2.1\n",
      "\u001b[32m\u001b[1m   Installed\u001b[22m\u001b[39m Calculus ──────────────── v0.5.1\n",
      "\u001b[32m\u001b[1m   Installed\u001b[22m\u001b[39m DualNumbers ───────────── v0.6.8\n",
      "\u001b[32m\u001b[1m   Installed\u001b[22m\u001b[39m HypergeometricFunctions ─ v0.3.11\n",
      "\u001b[32m\u001b[1m   Installed\u001b[22m\u001b[39m GLM ───────────────────── v1.8.1\n",
      "\u001b[32m\u001b[1m   Installed\u001b[22m\u001b[39m StatsModels ───────────── v0.6.33\n",
      "\u001b[32m\u001b[1m   Installed\u001b[22m\u001b[39m Rmath ─────────────────── v0.7.1\n",
      "\u001b[32m\u001b[1m   Installed\u001b[22m\u001b[39m FillArrays ────────────── v0.13.7\n",
      "\u001b[32m\u001b[1m   Installed\u001b[22m\u001b[39m ShiftedArrays ─────────── v2.0.0\n",
      "\u001b[32m\u001b[1m   Installed\u001b[22m\u001b[39m QuadGK ────────────────── v2.8.1\n",
      "\u001b[32m\u001b[1m   Installed\u001b[22m\u001b[39m DensityInterface ──────── v0.4.0\n",
      "\u001b[32m\u001b[1m   Installed\u001b[22m\u001b[39m Distributions ─────────── v0.25.84\n",
      "\u001b[32m\u001b[1m    Updating\u001b[22m\u001b[39m `C:\\Users\\gabri\\.julia\\environments\\v1.8\\Project.toml`\n",
      " \u001b[90m [38e38edf] \u001b[39m\u001b[92m+ GLM v1.8.1\u001b[39m\n",
      "\u001b[32m\u001b[1m    Updating\u001b[22m\u001b[39m `C:\\Users\\gabri\\.julia\\environments\\v1.8\\Manifest.toml`\n",
      " \u001b[90m [49dc2e85] \u001b[39m\u001b[92m+ Calculus v0.5.1\u001b[39m\n",
      " \u001b[90m [b429d917] \u001b[39m\u001b[92m+ DensityInterface v0.4.0\u001b[39m\n",
      " \u001b[90m [31c24e10] \u001b[39m\u001b[92m+ Distributions v0.25.84\u001b[39m\n",
      " \u001b[90m [fa6b7ba4] \u001b[39m\u001b[92m+ DualNumbers v0.6.8\u001b[39m\n",
      " \u001b[90m [1a297f60] \u001b[39m\u001b[92m+ FillArrays v0.13.7\u001b[39m\n",
      " \u001b[90m [38e38edf] \u001b[39m\u001b[92m+ GLM v1.8.1\u001b[39m\n",
      " \u001b[90m [34004b35] \u001b[39m\u001b[92m+ HypergeometricFunctions v0.3.11\u001b[39m\n",
      " \u001b[90m [90014a1f] \u001b[39m\u001b[92m+ PDMats v0.11.16\u001b[39m\n",
      " \u001b[90m [1fd47b50] \u001b[39m\u001b[92m+ QuadGK v2.8.1\u001b[39m\n",
      " \u001b[90m [79098fc4] \u001b[39m\u001b[92m+ Rmath v0.7.1\u001b[39m\n",
      " \u001b[90m [1277b4bf] \u001b[39m\u001b[92m+ ShiftedArrays v2.0.0\u001b[39m\n",
      " \u001b[90m [4c63d2b9] \u001b[39m\u001b[92m+ StatsFuns v1.2.1\u001b[39m\n",
      " \u001b[90m [3eaba693] \u001b[39m\u001b[92m+ StatsModels v0.6.33\u001b[39m\n",
      " \u001b[90m [f50d1b31] \u001b[39m\u001b[92m+ Rmath_jll v0.4.0+0\u001b[39m\n",
      " \u001b[90m [4607b0f0] \u001b[39m\u001b[92m+ SuiteSparse\u001b[39m\n",
      "\u001b[32m\u001b[1mPrecompiling\u001b[22m\u001b[39m project...\n",
      "\u001b[32m  ✓ \u001b[39m\u001b[90mShiftedArrays\u001b[39m\n",
      "\u001b[32m  ✓ \u001b[39m\u001b[90mPDMats\u001b[39m\n",
      "\u001b[32m  ✓ \u001b[39m\u001b[90mCalculus\u001b[39m\n",
      "\u001b[32m  ✓ \u001b[39m\u001b[90mDensityInterface\u001b[39m\n",
      "\u001b[32m  ✓ \u001b[39m\u001b[90mFillArrays\u001b[39m\n",
      "\u001b[32m  ✓ \u001b[39m\u001b[90mRmath_jll\u001b[39m\n",
      "\u001b[32m  ✓ \u001b[39m\u001b[90mQuadGK\u001b[39m\n",
      "\u001b[32m  ✓ \u001b[39m\u001b[90mDualNumbers\u001b[39m\n",
      "\u001b[32m  ✓ \u001b[39m\u001b[90mRmath\u001b[39m\n",
      "\u001b[32m  ✓ \u001b[39m\u001b[90mHypergeometricFunctions\u001b[39m\n",
      "\u001b[32m  ✓ \u001b[39m\u001b[90mStatsFuns\u001b[39m\n",
      "\u001b[32m  ✓ \u001b[39m\u001b[90mStatsModels\u001b[39m\n",
      "\u001b[32m  ✓ \u001b[39m\u001b[90mDistributions\u001b[39m\n",
      "\u001b[32m  ✓ \u001b[39mGLM\n",
      "  14 dependencies successfully precompiled in 13 seconds. 171 already precompiled. 2 skipped during auto due to previous errors.\n"
     ]
    }
   ],
   "source": [
    "using Pkg\n",
    "#Pkg.add(\"DataFrames\") # deals with dataframes and series\n",
    "using DataFrames"
   ]
  },
  {
   "cell_type": "markdown",
   "id": "08b257d6",
   "metadata": {},
   "source": [
    "----\n",
    "\n",
    "<b>1) Creating DataFrames</b>"
   ]
  },
  {
   "cell_type": "code",
   "execution_count": 7,
   "id": "770ee4ff",
   "metadata": {},
   "outputs": [
    {
     "data": {
      "text/html": [
       "<div><div style = \"float: left;\"><span>5×4 DataFrame</span></div><div style = \"clear: both;\"></div></div><div class = \"data-frame\" style = \"overflow-x: scroll;\"><table class = \"data-frame\" style = \"margin-bottom: 6px;\"><thead><tr class = \"header\"><th class = \"rowNumber\" style = \"font-weight: bold; text-align: right;\">Row</th><th style = \"text-align: left;\">x1</th><th style = \"text-align: left;\">x2</th><th style = \"text-align: left;\">x3</th><th style = \"text-align: left;\">x4</th></tr><tr class = \"subheader headerLastRow\"><th class = \"rowNumber\" style = \"font-weight: bold; text-align: right;\"></th><th title = \"Int64\" style = \"text-align: left;\">Int64</th><th title = \"Int64\" style = \"text-align: left;\">Int64</th><th title = \"Int64\" style = \"text-align: left;\">Int64</th><th title = \"Int64\" style = \"text-align: left;\">Int64</th></tr></thead><tbody><tr><td class = \"rowNumber\" style = \"font-weight: bold; text-align: right;\">1</td><td style = \"text-align: right;\">60</td><td style = \"text-align: right;\">16</td><td style = \"text-align: right;\">99</td><td style = \"text-align: right;\">68</td></tr><tr><td class = \"rowNumber\" style = \"font-weight: bold; text-align: right;\">2</td><td style = \"text-align: right;\">96</td><td style = \"text-align: right;\">74</td><td style = \"text-align: right;\">17</td><td style = \"text-align: right;\">59</td></tr><tr><td class = \"rowNumber\" style = \"font-weight: bold; text-align: right;\">3</td><td style = \"text-align: right;\">29</td><td style = \"text-align: right;\">86</td><td style = \"text-align: right;\">56</td><td style = \"text-align: right;\">84</td></tr><tr><td class = \"rowNumber\" style = \"font-weight: bold; text-align: right;\">4</td><td style = \"text-align: right;\">60</td><td style = \"text-align: right;\">91</td><td style = \"text-align: right;\">57</td><td style = \"text-align: right;\">5</td></tr><tr><td class = \"rowNumber\" style = \"font-weight: bold; text-align: right;\">5</td><td style = \"text-align: right;\">24</td><td style = \"text-align: right;\">24</td><td style = \"text-align: right;\">94</td><td style = \"text-align: right;\">56</td></tr></tbody></table></div>"
      ],
      "text/latex": [
       "\\begin{tabular}{r|cccc}\n",
       "\t& x1 & x2 & x3 & x4\\\\\n",
       "\t\\hline\n",
       "\t& Int64 & Int64 & Int64 & Int64\\\\\n",
       "\t\\hline\n",
       "\t1 & 60 & 16 & 99 & 68 \\\\\n",
       "\t2 & 96 & 74 & 17 & 59 \\\\\n",
       "\t3 & 29 & 86 & 56 & 84 \\\\\n",
       "\t4 & 60 & 91 & 57 & 5 \\\\\n",
       "\t5 & 24 & 24 & 94 & 56 \\\\\n",
       "\\end{tabular}\n"
      ],
      "text/plain": [
       "\u001b[1m5×4 DataFrame\u001b[0m\n",
       "\u001b[1m Row \u001b[0m│\u001b[1m x1    \u001b[0m\u001b[1m x2    \u001b[0m\u001b[1m x3    \u001b[0m\u001b[1m x4    \u001b[0m\n",
       "     │\u001b[90m Int64 \u001b[0m\u001b[90m Int64 \u001b[0m\u001b[90m Int64 \u001b[0m\u001b[90m Int64 \u001b[0m\n",
       "─────┼────────────────────────────\n",
       "   1 │    60     16     99     68\n",
       "   2 │    96     74     17     59\n",
       "   3 │    29     86     56     84\n",
       "   4 │    60     91     57      5\n",
       "   5 │    24     24     94     56"
      ]
     },
     "execution_count": 7,
     "metadata": {},
     "output_type": "execute_result"
    }
   ],
   "source": [
    "array = rand(1:100, 5, 4) # (rangeValues, rows, columns)\n",
    "df = DataFrame(array, :auto) # \":auto\" defines default columns names"
   ]
  },
  {
   "cell_type": "code",
   "execution_count": 9,
   "id": "c7c050b1",
   "metadata": {},
   "outputs": [
    {
     "data": {
      "text/html": [
       "<div><div style = \"float: left;\"><span>5×4 DataFrame</span></div><div style = \"clear: both;\"></div></div><div class = \"data-frame\" style = \"overflow-x: scroll;\"><table class = \"data-frame\" style = \"margin-bottom: 6px;\"><thead><tr class = \"header\"><th class = \"rowNumber\" style = \"font-weight: bold; text-align: right;\">Row</th><th style = \"text-align: left;\">Grade 1</th><th style = \"text-align: left;\">Grade 2</th><th style = \"text-align: left;\">Grade 3</th><th style = \"text-align: left;\">Grade 4</th></tr><tr class = \"subheader headerLastRow\"><th class = \"rowNumber\" style = \"font-weight: bold; text-align: right;\"></th><th title = \"Int64\" style = \"text-align: left;\">Int64</th><th title = \"Int64\" style = \"text-align: left;\">Int64</th><th title = \"Int64\" style = \"text-align: left;\">Int64</th><th title = \"Int64\" style = \"text-align: left;\">Int64</th></tr></thead><tbody><tr><td class = \"rowNumber\" style = \"font-weight: bold; text-align: right;\">1</td><td style = \"text-align: right;\">60</td><td style = \"text-align: right;\">16</td><td style = \"text-align: right;\">99</td><td style = \"text-align: right;\">68</td></tr><tr><td class = \"rowNumber\" style = \"font-weight: bold; text-align: right;\">2</td><td style = \"text-align: right;\">96</td><td style = \"text-align: right;\">74</td><td style = \"text-align: right;\">17</td><td style = \"text-align: right;\">59</td></tr><tr><td class = \"rowNumber\" style = \"font-weight: bold; text-align: right;\">3</td><td style = \"text-align: right;\">29</td><td style = \"text-align: right;\">86</td><td style = \"text-align: right;\">56</td><td style = \"text-align: right;\">84</td></tr><tr><td class = \"rowNumber\" style = \"font-weight: bold; text-align: right;\">4</td><td style = \"text-align: right;\">60</td><td style = \"text-align: right;\">91</td><td style = \"text-align: right;\">57</td><td style = \"text-align: right;\">5</td></tr><tr><td class = \"rowNumber\" style = \"font-weight: bold; text-align: right;\">5</td><td style = \"text-align: right;\">24</td><td style = \"text-align: right;\">24</td><td style = \"text-align: right;\">94</td><td style = \"text-align: right;\">56</td></tr></tbody></table></div>"
      ],
      "text/latex": [
       "\\begin{tabular}{r|cccc}\n",
       "\t& Grade 1 & Grade 2 & Grade 3 & Grade 4\\\\\n",
       "\t\\hline\n",
       "\t& Int64 & Int64 & Int64 & Int64\\\\\n",
       "\t\\hline\n",
       "\t1 & 60 & 16 & 99 & 68 \\\\\n",
       "\t2 & 96 & 74 & 17 & 59 \\\\\n",
       "\t3 & 29 & 86 & 56 & 84 \\\\\n",
       "\t4 & 60 & 91 & 57 & 5 \\\\\n",
       "\t5 & 24 & 24 & 94 & 56 \\\\\n",
       "\\end{tabular}\n"
      ],
      "text/plain": [
       "\u001b[1m5×4 DataFrame\u001b[0m\n",
       "\u001b[1m Row \u001b[0m│\u001b[1m Grade 1 \u001b[0m\u001b[1m Grade 2 \u001b[0m\u001b[1m Grade 3 \u001b[0m\u001b[1m Grade 4 \u001b[0m\n",
       "     │\u001b[90m Int64   \u001b[0m\u001b[90m Int64   \u001b[0m\u001b[90m Int64   \u001b[0m\u001b[90m Int64   \u001b[0m\n",
       "─────┼────────────────────────────────────\n",
       "   1 │      60       16       99       68\n",
       "   2 │      96       74       17       59\n",
       "   3 │      29       86       56       84\n",
       "   4 │      60       91       57        5\n",
       "   5 │      24       24       94       56"
      ]
     },
     "execution_count": 9,
     "metadata": {},
     "output_type": "execute_result"
    }
   ],
   "source": [
    "df2 = DataFrame(array, [\"Grade 1\", \"Grade 2\", \"Grade 3\", \"Grade 4\"])"
   ]
  },
  {
   "cell_type": "markdown",
   "id": "61360b77",
   "metadata": {},
   "source": [
    "----\n",
    "\n",
    "<b>2) Functions</b>"
   ]
  },
  {
   "cell_type": "code",
   "execution_count": 22,
   "id": "e6ddd2a0",
   "metadata": {},
   "outputs": [
    {
     "data": {
      "text/html": [
       "<div><div style = \"float: left;\"><span>5×4 DataFrame</span></div><div style = \"clear: both;\"></div></div><div class = \"data-frame\" style = \"overflow-x: scroll;\"><table class = \"data-frame\" style = \"margin-bottom: 6px;\"><thead><tr class = \"header\"><th class = \"rowNumber\" style = \"font-weight: bold; text-align: right;\">Row</th><th style = \"text-align: left;\">Grade_2</th><th style = \"text-align: left;\">Grade_3</th><th style = \"text-align: left;\">Grade_4</th><th style = \"text-align: left;\">Grade_1</th></tr><tr class = \"subheader headerLastRow\"><th class = \"rowNumber\" style = \"font-weight: bold; text-align: right;\"></th><th title = \"Int64\" style = \"text-align: left;\">Int64</th><th title = \"Int64\" style = \"text-align: left;\">Int64</th><th title = \"Int64\" style = \"text-align: left;\">Int64</th><th title = \"Int64\" style = \"text-align: left;\">Int64</th></tr></thead><tbody><tr><td class = \"rowNumber\" style = \"font-weight: bold; text-align: right;\">1</td><td style = \"text-align: right;\">60</td><td style = \"text-align: right;\">16</td><td style = \"text-align: right;\">99</td><td style = \"text-align: right;\">68</td></tr><tr><td class = \"rowNumber\" style = \"font-weight: bold; text-align: right;\">2</td><td style = \"text-align: right;\">96</td><td style = \"text-align: right;\">74</td><td style = \"text-align: right;\">17</td><td style = \"text-align: right;\">59</td></tr><tr><td class = \"rowNumber\" style = \"font-weight: bold; text-align: right;\">3</td><td style = \"text-align: right;\">29</td><td style = \"text-align: right;\">86</td><td style = \"text-align: right;\">56</td><td style = \"text-align: right;\">84</td></tr><tr><td class = \"rowNumber\" style = \"font-weight: bold; text-align: right;\">4</td><td style = \"text-align: right;\">60</td><td style = \"text-align: right;\">91</td><td style = \"text-align: right;\">57</td><td style = \"text-align: right;\">5</td></tr><tr><td class = \"rowNumber\" style = \"font-weight: bold; text-align: right;\">5</td><td style = \"text-align: right;\">24</td><td style = \"text-align: right;\">24</td><td style = \"text-align: right;\">94</td><td style = \"text-align: right;\">56</td></tr></tbody></table></div>"
      ],
      "text/latex": [
       "\\begin{tabular}{r|cccc}\n",
       "\t& Grade\\_2 & Grade\\_3 & Grade\\_4 & Grade\\_1\\\\\n",
       "\t\\hline\n",
       "\t& Int64 & Int64 & Int64 & Int64\\\\\n",
       "\t\\hline\n",
       "\t1 & 60 & 16 & 99 & 68 \\\\\n",
       "\t2 & 96 & 74 & 17 & 59 \\\\\n",
       "\t3 & 29 & 86 & 56 & 84 \\\\\n",
       "\t4 & 60 & 91 & 57 & 5 \\\\\n",
       "\t5 & 24 & 24 & 94 & 56 \\\\\n",
       "\\end{tabular}\n"
      ],
      "text/plain": [
       "\u001b[1m5×4 DataFrame\u001b[0m\n",
       "\u001b[1m Row \u001b[0m│\u001b[1m Grade_2 \u001b[0m\u001b[1m Grade_3 \u001b[0m\u001b[1m Grade_4 \u001b[0m\u001b[1m Grade_1 \u001b[0m\n",
       "     │\u001b[90m Int64   \u001b[0m\u001b[90m Int64   \u001b[0m\u001b[90m Int64   \u001b[0m\u001b[90m Int64   \u001b[0m\n",
       "─────┼────────────────────────────────────\n",
       "   1 │      60       16       99       68\n",
       "   2 │      96       74       17       59\n",
       "   3 │      29       86       56       84\n",
       "   4 │      60       91       57        5\n",
       "   5 │      24       24       94       56"
      ]
     },
     "execution_count": 22,
     "metadata": {},
     "output_type": "execute_result"
    }
   ],
   "source": [
    "# Renaming Columns\n",
    "rename!(df, [\"Grade_2\", \"Grade_3\", \"Grade_4\", \"Grade_1\"])"
   ]
  },
  {
   "cell_type": "code",
   "execution_count": 23,
   "id": "ef2be890",
   "metadata": {},
   "outputs": [
    {
     "data": {
      "text/plain": [
       "5-element Vector{Int64}:\n",
       " 68\n",
       " 59\n",
       " 84\n",
       "  5\n",
       " 56"
      ]
     },
     "execution_count": 23,
     "metadata": {},
     "output_type": "execute_result"
    }
   ],
   "source": [
    "# Selecting Datas (one of both ways)\n",
    "df.\"Grade_1\"\n",
    "df.Grade_1"
   ]
  },
  {
   "cell_type": "code",
   "execution_count": 24,
   "id": "16415363",
   "metadata": {},
   "outputs": [
    {
     "data": {
      "text/html": [
       "<div><div style = \"float: left;\"><span>5×3 DataFrame</span></div><div style = \"clear: both;\"></div></div><div class = \"data-frame\" style = \"overflow-x: scroll;\"><table class = \"data-frame\" style = \"margin-bottom: 6px;\"><thead><tr class = \"header\"><th class = \"rowNumber\" style = \"font-weight: bold; text-align: right;\">Row</th><th style = \"text-align: left;\">Grade_2</th><th style = \"text-align: left;\">Grade_3</th><th style = \"text-align: left;\">Grade_4</th></tr><tr class = \"subheader headerLastRow\"><th class = \"rowNumber\" style = \"font-weight: bold; text-align: right;\"></th><th title = \"Int64\" style = \"text-align: left;\">Int64</th><th title = \"Int64\" style = \"text-align: left;\">Int64</th><th title = \"Int64\" style = \"text-align: left;\">Int64</th></tr></thead><tbody><tr><td class = \"rowNumber\" style = \"font-weight: bold; text-align: right;\">1</td><td style = \"text-align: right;\">60</td><td style = \"text-align: right;\">16</td><td style = \"text-align: right;\">99</td></tr><tr><td class = \"rowNumber\" style = \"font-weight: bold; text-align: right;\">2</td><td style = \"text-align: right;\">96</td><td style = \"text-align: right;\">74</td><td style = \"text-align: right;\">17</td></tr><tr><td class = \"rowNumber\" style = \"font-weight: bold; text-align: right;\">3</td><td style = \"text-align: right;\">29</td><td style = \"text-align: right;\">86</td><td style = \"text-align: right;\">56</td></tr><tr><td class = \"rowNumber\" style = \"font-weight: bold; text-align: right;\">4</td><td style = \"text-align: right;\">60</td><td style = \"text-align: right;\">91</td><td style = \"text-align: right;\">57</td></tr><tr><td class = \"rowNumber\" style = \"font-weight: bold; text-align: right;\">5</td><td style = \"text-align: right;\">24</td><td style = \"text-align: right;\">24</td><td style = \"text-align: right;\">94</td></tr></tbody></table></div>"
      ],
      "text/latex": [
       "\\begin{tabular}{r|ccc}\n",
       "\t& Grade\\_2 & Grade\\_3 & Grade\\_4\\\\\n",
       "\t\\hline\n",
       "\t& Int64 & Int64 & Int64\\\\\n",
       "\t\\hline\n",
       "\t1 & 60 & 16 & 99 \\\\\n",
       "\t2 & 96 & 74 & 17 \\\\\n",
       "\t3 & 29 & 86 & 56 \\\\\n",
       "\t4 & 60 & 91 & 57 \\\\\n",
       "\t5 & 24 & 24 & 94 \\\\\n",
       "\\end{tabular}\n"
      ],
      "text/plain": [
       "\u001b[1m5×3 DataFrame\u001b[0m\n",
       "\u001b[1m Row \u001b[0m│\u001b[1m Grade_2 \u001b[0m\u001b[1m Grade_3 \u001b[0m\u001b[1m Grade_4 \u001b[0m\n",
       "     │\u001b[90m Int64   \u001b[0m\u001b[90m Int64   \u001b[0m\u001b[90m Int64   \u001b[0m\n",
       "─────┼───────────────────────────\n",
       "   1 │      60       16       99\n",
       "   2 │      96       74       17\n",
       "   3 │      29       86       56\n",
       "   4 │      60       91       57\n",
       "   5 │      24       24       94"
      ]
     },
     "execution_count": 24,
     "metadata": {},
     "output_type": "execute_result"
    }
   ],
   "source": [
    "# Slicing\n",
    "df[:, 1:3] # [rowsRange, columnsRange]"
   ]
  },
  {
   "cell_type": "code",
   "execution_count": 28,
   "id": "900a1d7a",
   "metadata": {},
   "outputs": [
    {
     "data": {
      "text/html": [
       "<div><div style = \"float: left;\"><span>5×4 DataFrame</span></div><div style = \"clear: both;\"></div></div><div class = \"data-frame\" style = \"overflow-x: scroll;\"><table class = \"data-frame\" style = \"margin-bottom: 6px;\"><thead><tr class = \"header\"><th class = \"rowNumber\" style = \"font-weight: bold; text-align: right;\">Row</th><th style = \"text-align: left;\">Grade_1</th><th style = \"text-align: left;\">Grade_2</th><th style = \"text-align: left;\">Grade_3</th><th style = \"text-align: left;\">Grade_4</th></tr><tr class = \"subheader headerLastRow\"><th class = \"rowNumber\" style = \"font-weight: bold; text-align: right;\"></th><th title = \"Int64\" style = \"text-align: left;\">Int64</th><th title = \"Int64\" style = \"text-align: left;\">Int64</th><th title = \"Int64\" style = \"text-align: left;\">Int64</th><th title = \"Int64\" style = \"text-align: left;\">Int64</th></tr></thead><tbody><tr><td class = \"rowNumber\" style = \"font-weight: bold; text-align: right;\">1</td><td style = \"text-align: right;\">68</td><td style = \"text-align: right;\">60</td><td style = \"text-align: right;\">16</td><td style = \"text-align: right;\">99</td></tr><tr><td class = \"rowNumber\" style = \"font-weight: bold; text-align: right;\">2</td><td style = \"text-align: right;\">59</td><td style = \"text-align: right;\">96</td><td style = \"text-align: right;\">74</td><td style = \"text-align: right;\">17</td></tr><tr><td class = \"rowNumber\" style = \"font-weight: bold; text-align: right;\">3</td><td style = \"text-align: right;\">84</td><td style = \"text-align: right;\">29</td><td style = \"text-align: right;\">86</td><td style = \"text-align: right;\">56</td></tr><tr><td class = \"rowNumber\" style = \"font-weight: bold; text-align: right;\">4</td><td style = \"text-align: right;\">5</td><td style = \"text-align: right;\">60</td><td style = \"text-align: right;\">91</td><td style = \"text-align: right;\">57</td></tr><tr><td class = \"rowNumber\" style = \"font-weight: bold; text-align: right;\">5</td><td style = \"text-align: right;\">56</td><td style = \"text-align: right;\">24</td><td style = \"text-align: right;\">24</td><td style = \"text-align: right;\">94</td></tr></tbody></table></div>"
      ],
      "text/latex": [
       "\\begin{tabular}{r|cccc}\n",
       "\t& Grade\\_1 & Grade\\_2 & Grade\\_3 & Grade\\_4\\\\\n",
       "\t\\hline\n",
       "\t& Int64 & Int64 & Int64 & Int64\\\\\n",
       "\t\\hline\n",
       "\t1 & 68 & 60 & 16 & 99 \\\\\n",
       "\t2 & 59 & 96 & 74 & 17 \\\\\n",
       "\t3 & 84 & 29 & 86 & 56 \\\\\n",
       "\t4 & 5 & 60 & 91 & 57 \\\\\n",
       "\t5 & 56 & 24 & 24 & 94 \\\\\n",
       "\\end{tabular}\n"
      ],
      "text/plain": [
       "\u001b[1m5×4 DataFrame\u001b[0m\n",
       "\u001b[1m Row \u001b[0m│\u001b[1m Grade_1 \u001b[0m\u001b[1m Grade_2 \u001b[0m\u001b[1m Grade_3 \u001b[0m\u001b[1m Grade_4 \u001b[0m\n",
       "     │\u001b[90m Int64   \u001b[0m\u001b[90m Int64   \u001b[0m\u001b[90m Int64   \u001b[0m\u001b[90m Int64   \u001b[0m\n",
       "─────┼────────────────────────────────────\n",
       "   1 │      68       60       16       99\n",
       "   2 │      59       96       74       17\n",
       "   3 │      84       29       86       56\n",
       "   4 │       5       60       91       57\n",
       "   5 │      56       24       24       94"
      ]
     },
     "execution_count": 28,
     "metadata": {},
     "output_type": "execute_result"
    }
   ],
   "source": [
    "# Reordering Columns\n",
    "# select(df, newColumnsOrder, rowsRange)\n",
    "select!(df, [\"Grade_1\", \"Grade_2\", \"Grade_3\", \"Grade_4\"], :)"
   ]
  },
  {
   "cell_type": "code",
   "execution_count": 31,
   "id": "82d8fd1d",
   "metadata": {},
   "outputs": [
    {
     "data": {
      "text/html": [
       "<div><div style = \"float: left;\"><span>4×7 DataFrame</span></div><div style = \"clear: both;\"></div></div><div class = \"data-frame\" style = \"overflow-x: scroll;\"><table class = \"data-frame\" style = \"margin-bottom: 6px;\"><thead><tr class = \"header\"><th class = \"rowNumber\" style = \"font-weight: bold; text-align: right;\">Row</th><th style = \"text-align: left;\">variable</th><th style = \"text-align: left;\">mean</th><th style = \"text-align: left;\">min</th><th style = \"text-align: left;\">median</th><th style = \"text-align: left;\">max</th><th style = \"text-align: left;\">nmissing</th><th style = \"text-align: left;\">eltype</th></tr><tr class = \"subheader headerLastRow\"><th class = \"rowNumber\" style = \"font-weight: bold; text-align: right;\"></th><th title = \"Symbol\" style = \"text-align: left;\">Symbol</th><th title = \"Float64\" style = \"text-align: left;\">Float64</th><th title = \"Int64\" style = \"text-align: left;\">Int64</th><th title = \"Float64\" style = \"text-align: left;\">Float64</th><th title = \"Int64\" style = \"text-align: left;\">Int64</th><th title = \"Int64\" style = \"text-align: left;\">Int64</th><th title = \"DataType\" style = \"text-align: left;\">DataType</th></tr></thead><tbody><tr><td class = \"rowNumber\" style = \"font-weight: bold; text-align: right;\">1</td><td style = \"text-align: left;\">Grade_1</td><td style = \"text-align: right;\">54.4</td><td style = \"text-align: right;\">5</td><td style = \"text-align: right;\">59.0</td><td style = \"text-align: right;\">84</td><td style = \"text-align: right;\">0</td><td style = \"text-align: left;\">Int64</td></tr><tr><td class = \"rowNumber\" style = \"font-weight: bold; text-align: right;\">2</td><td style = \"text-align: left;\">Grade_2</td><td style = \"text-align: right;\">53.8</td><td style = \"text-align: right;\">24</td><td style = \"text-align: right;\">60.0</td><td style = \"text-align: right;\">96</td><td style = \"text-align: right;\">0</td><td style = \"text-align: left;\">Int64</td></tr><tr><td class = \"rowNumber\" style = \"font-weight: bold; text-align: right;\">3</td><td style = \"text-align: left;\">Grade_3</td><td style = \"text-align: right;\">58.2</td><td style = \"text-align: right;\">16</td><td style = \"text-align: right;\">74.0</td><td style = \"text-align: right;\">91</td><td style = \"text-align: right;\">0</td><td style = \"text-align: left;\">Int64</td></tr><tr><td class = \"rowNumber\" style = \"font-weight: bold; text-align: right;\">4</td><td style = \"text-align: left;\">Grade_4</td><td style = \"text-align: right;\">64.6</td><td style = \"text-align: right;\">17</td><td style = \"text-align: right;\">57.0</td><td style = \"text-align: right;\">99</td><td style = \"text-align: right;\">0</td><td style = \"text-align: left;\">Int64</td></tr></tbody></table></div>"
      ],
      "text/latex": [
       "\\begin{tabular}{r|ccccccc}\n",
       "\t& variable & mean & min & median & max & nmissing & eltype\\\\\n",
       "\t\\hline\n",
       "\t& Symbol & Float64 & Int64 & Float64 & Int64 & Int64 & DataType\\\\\n",
       "\t\\hline\n",
       "\t1 & Grade\\_1 & 54.4 & 5 & 59.0 & 84 & 0 & Int64 \\\\\n",
       "\t2 & Grade\\_2 & 53.8 & 24 & 60.0 & 96 & 0 & Int64 \\\\\n",
       "\t3 & Grade\\_3 & 58.2 & 16 & 74.0 & 91 & 0 & Int64 \\\\\n",
       "\t4 & Grade\\_4 & 64.6 & 17 & 57.0 & 99 & 0 & Int64 \\\\\n",
       "\\end{tabular}\n"
      ],
      "text/plain": [
       "\u001b[1m4×7 DataFrame\u001b[0m\n",
       "\u001b[1m Row \u001b[0m│\u001b[1m variable \u001b[0m\u001b[1m mean    \u001b[0m\u001b[1m min   \u001b[0m\u001b[1m median  \u001b[0m\u001b[1m max   \u001b[0m\u001b[1m nmissing \u001b[0m\u001b[1m eltype   \u001b[0m\n",
       "     │\u001b[90m Symbol   \u001b[0m\u001b[90m Float64 \u001b[0m\u001b[90m Int64 \u001b[0m\u001b[90m Float64 \u001b[0m\u001b[90m Int64 \u001b[0m\u001b[90m Int64    \u001b[0m\u001b[90m DataType \u001b[0m\n",
       "─────┼──────────────────────────────────────────────────────────────\n",
       "   1 │ Grade_1      54.4      5     59.0     84         0  Int64\n",
       "   2 │ Grade_2      53.8     24     60.0     96         0  Int64\n",
       "   3 │ Grade_3      58.2     16     74.0     91         0  Int64\n",
       "   4 │ Grade_4      64.6     17     57.0     99         0  Int64"
      ]
     },
     "execution_count": 31,
     "metadata": {},
     "output_type": "execute_result"
    }
   ],
   "source": [
    "# Describe\n",
    "# describe(df, mean => :mean, std => :std) # filtering describe results (just mean and std)\n",
    "describe(df)"
   ]
  },
  {
   "cell_type": "code",
   "execution_count": 38,
   "id": "7774fc60",
   "metadata": {},
   "outputs": [
    {
     "name": "stdout",
     "output_type": "stream",
     "text": [
      "Number of Columns: 4\n",
      "Number of Rows: 5\n"
     ]
    }
   ],
   "source": [
    "# Shape\n",
    "println(\"Number of Columns: $(ncol(df))\")\n",
    "println(\"Number of Rows: $(nrow(df))\")"
   ]
  },
  {
   "cell_type": "code",
   "execution_count": 39,
   "id": "90ccaa19",
   "metadata": {},
   "outputs": [
    {
     "data": {
      "text/html": [
       "<div><div style = \"float: left;\"><span>5×5 DataFrame</span></div><div style = \"clear: both;\"></div></div><div class = \"data-frame\" style = \"overflow-x: scroll;\"><table class = \"data-frame\" style = \"margin-bottom: 6px;\"><thead><tr class = \"header\"><th class = \"rowNumber\" style = \"font-weight: bold; text-align: right;\">Row</th><th style = \"text-align: left;\">id</th><th style = \"text-align: left;\">Grade_1</th><th style = \"text-align: left;\">Grade_2</th><th style = \"text-align: left;\">Grade_3</th><th style = \"text-align: left;\">Grade_4</th></tr><tr class = \"subheader headerLastRow\"><th class = \"rowNumber\" style = \"font-weight: bold; text-align: right;\"></th><th title = \"Int64\" style = \"text-align: left;\">Int64</th><th title = \"Int64\" style = \"text-align: left;\">Int64</th><th title = \"Int64\" style = \"text-align: left;\">Int64</th><th title = \"Int64\" style = \"text-align: left;\">Int64</th><th title = \"Int64\" style = \"text-align: left;\">Int64</th></tr></thead><tbody><tr><td class = \"rowNumber\" style = \"font-weight: bold; text-align: right;\">1</td><td style = \"text-align: right;\">1</td><td style = \"text-align: right;\">68</td><td style = \"text-align: right;\">60</td><td style = \"text-align: right;\">16</td><td style = \"text-align: right;\">99</td></tr><tr><td class = \"rowNumber\" style = \"font-weight: bold; text-align: right;\">2</td><td style = \"text-align: right;\">2</td><td style = \"text-align: right;\">59</td><td style = \"text-align: right;\">96</td><td style = \"text-align: right;\">74</td><td style = \"text-align: right;\">17</td></tr><tr><td class = \"rowNumber\" style = \"font-weight: bold; text-align: right;\">3</td><td style = \"text-align: right;\">3</td><td style = \"text-align: right;\">84</td><td style = \"text-align: right;\">29</td><td style = \"text-align: right;\">86</td><td style = \"text-align: right;\">56</td></tr><tr><td class = \"rowNumber\" style = \"font-weight: bold; text-align: right;\">4</td><td style = \"text-align: right;\">4</td><td style = \"text-align: right;\">5</td><td style = \"text-align: right;\">60</td><td style = \"text-align: right;\">91</td><td style = \"text-align: right;\">57</td></tr><tr><td class = \"rowNumber\" style = \"font-weight: bold; text-align: right;\">5</td><td style = \"text-align: right;\">5</td><td style = \"text-align: right;\">56</td><td style = \"text-align: right;\">24</td><td style = \"text-align: right;\">24</td><td style = \"text-align: right;\">94</td></tr></tbody></table></div>"
      ],
      "text/latex": [
       "\\begin{tabular}{r|ccccc}\n",
       "\t& id & Grade\\_1 & Grade\\_2 & Grade\\_3 & Grade\\_4\\\\\n",
       "\t\\hline\n",
       "\t& Int64 & Int64 & Int64 & Int64 & Int64\\\\\n",
       "\t\\hline\n",
       "\t1 & 1 & 68 & 60 & 16 & 99 \\\\\n",
       "\t2 & 2 & 59 & 96 & 74 & 17 \\\\\n",
       "\t3 & 3 & 84 & 29 & 86 & 56 \\\\\n",
       "\t4 & 4 & 5 & 60 & 91 & 57 \\\\\n",
       "\t5 & 5 & 56 & 24 & 24 & 94 \\\\\n",
       "\\end{tabular}\n"
      ],
      "text/plain": [
       "\u001b[1m5×5 DataFrame\u001b[0m\n",
       "\u001b[1m Row \u001b[0m│\u001b[1m id    \u001b[0m\u001b[1m Grade_1 \u001b[0m\u001b[1m Grade_2 \u001b[0m\u001b[1m Grade_3 \u001b[0m\u001b[1m Grade_4 \u001b[0m\n",
       "     │\u001b[90m Int64 \u001b[0m\u001b[90m Int64   \u001b[0m\u001b[90m Int64   \u001b[0m\u001b[90m Int64   \u001b[0m\u001b[90m Int64   \u001b[0m\n",
       "─────┼───────────────────────────────────────────\n",
       "   1 │     1       68       60       16       99\n",
       "   2 │     2       59       96       74       17\n",
       "   3 │     3       84       29       86       56\n",
       "   4 │     4        5       60       91       57\n",
       "   5 │     5       56       24       24       94"
      ]
     },
     "execution_count": 39,
     "metadata": {},
     "output_type": "execute_result"
    }
   ],
   "source": [
    "# Creating an ID column and putting it in the beggining\n",
    "df.id = 1:nrow(df)\n",
    "select!(df, \"id\", :)"
   ]
  },
  {
   "cell_type": "code",
   "execution_count": 41,
   "id": "bb22d8a6",
   "metadata": {},
   "outputs": [
    {
     "data": {
      "text/plain": [
       "5×5 Matrix{Int64}:\n",
       " 1  68  60  16  99\n",
       " 2  59  96  74  17\n",
       " 3  84  29  86  56\n",
       " 4   5  60  91  57\n",
       " 5  56  24  24  94"
      ]
     },
     "execution_count": 41,
     "metadata": {},
     "output_type": "execute_result"
    }
   ],
   "source": [
    "# Converting DataFrame back to Matrix/Array\n",
    "matrix = Matrix(df)"
   ]
  }
 ],
 "metadata": {
  "kernelspec": {
   "display_name": "Julia 1.8.5",
   "language": "julia",
   "name": "julia-1.8"
  },
  "language_info": {
   "file_extension": ".jl",
   "mimetype": "application/julia",
   "name": "julia",
   "version": "1.8.5"
  }
 },
 "nbformat": 4,
 "nbformat_minor": 5
}
